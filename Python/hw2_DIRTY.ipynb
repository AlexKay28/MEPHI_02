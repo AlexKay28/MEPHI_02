{
 "cells": [
  {
   "cell_type": "markdown",
   "metadata": {},
   "source": [
    "# Знакомство с NumPy"
   ]
  },
  {
   "cell_type": "markdown",
   "metadata": {},
   "source": [
    "### Индивидуальное домашнее задание"
   ]
  },
  {
   "cell_type": "markdown",
   "metadata": {},
   "source": [
    "### Кайгородов Александр Александрович (kaa120), группа: Поток 2"
   ]
  },
  {
   "cell_type": "markdown",
   "metadata": {},
   "source": [
    "**Выполните указанные ниже действия, сохраните свою работу в виде ipynb-файла с именем `kaa120_hwnumpy01.ipynb` и прикрепите этот файл к сообщению своему преподавателю**."
   ]
  },
  {
   "cell_type": "markdown",
   "metadata": {},
   "source": [
    "**Задание 1.** Задана функция `f_python(a, b)`, преобразующая переданные ей два состоящих\n",
    "из целых чисел списка `a` и `b` одинаковой длины в третий целочисленный список:\n",
    "\n",
    "~~~\n",
    "def f_python(a, b):\n",
    "    return [ **(a[i] & b[i]) * 2 + (a[i] | b[i]) // 3** for i in range(len(a))] \n",
    "~~\n",
    "\n",
    "Объясните подробно (устно), что происходит при следующем вызове этой функции:\n",
    "~~~\n",
    "f_python([248], [247])\n",
    "\n",
    "==============================================================================================================\n",
    "Тернарный оператор работает поэлементно с индексами введенных массивов. Выполняются следующие преобразования: \n",
    "    - побитовое И\n",
    "    - побитовое ИЛИ. \n",
    "Далее полученные значения обратно преобразуются в десятичные и считаются согласно указанным преобразованиям.\n",
    "\n",
    "==============================================================================================================\n",
    "~~~\n",
    "\n",
    "Используя библиотеку NumPy и Jupyter Notebook реализуйте функцию\n",
    "`f_numpy(a, b)`, которая будет выполнять аналогичное преобразование двух\n",
    "целочисленных массивов, все элементы которых неотрицательны и меньше\n",
    "1_000_000, обеспечивая более быстрое получение результата. \n",
    "\n",
    "Напишите далее программный код, позволяющий оценить отношение времён работы \n",
    "функций `f_python(a, b)` и `f_numpy(a, b)` на списках/массивах, состоящих\n",
    "из миллиона полученных с помощью функции\n",
    " `random.chоices(range(1_000_000), k = 1_000_000)` случайных целых чисел. \n",
    "\n",
    "*С целью достижения максимального\n",
    "ускорения используйте для элементов массива наиболее подходящий тип из\n",
    "[имеющихся в библиотеке \n",
    "NumPy](https://docs.scipy.org/doc/numpy/user/basics.types.html)\n",
    "беззнаковых типов для представления целых чисел.*\n",
    "\n",
    "Для определения времени работы\n",
    "рекомендуется использовать функцию `time.time()`, а не \n",
    "[«магические команды»](https://ipython.readthedocs.io/en/stable/interactive/magics.html)\n",
    "`%time` или `%timeit`, которые доступны при работе в Jupyter Notebook и с\n",
    "которыми рекомендуется\n",
    "[познакомиться](https://ipython.readthedocs.io/en/stable/interactive/magics.html#magic-time).\n",
    "\n",
    "В результате решения задачи должны быть определены и напечатаны:\n",
    "\n",
    "- тип элементов массива;\n",
    "- коэффициент ускорения работы программы после описанной выше модификации,\n",
    "  округлённый до целого числа.\n"
   ]
  },
  {
   "cell_type": "code",
   "execution_count": 1,
   "metadata": {},
   "outputs": [],
   "source": [
    "import numpy as np\n",
    "import time\n",
    "from random import choices"
   ]
  },
  {
   "cell_type": "code",
   "execution_count": 2,
   "metadata": {},
   "outputs": [],
   "source": [
    "def f_python(a, b): \n",
    "    print( 'in f_python: ', type(a), type(b))\n",
    "    t1 = time.time()\n",
    "    c = [ ((a[i] & b[i]) * 2 + (a[i] | b[i]) // 3) for i in range(len(a))]\n",
    "    t2 = time.time()\n",
    "    return abs(t2-t1)\n",
    "\n",
    "\n",
    "def f_numpy(a, b):\n",
    "    a, b = np.array(a, dtype=np.uint32), np.array(b, dtype=np.uint32)\n",
    "    print( 'in f_numpy: ', type(a), type(b))\n",
    "    t1 = time.time()\n",
    "    c = (a & b) * 2 + (a | b) // 3\n",
    "    t2 = time.time()\n",
    "    return abs(t2-t1)"
   ]
  },
  {
   "cell_type": "code",
   "execution_count": 3,
   "metadata": {},
   "outputs": [
    {
     "name": "stdout",
     "output_type": "stream",
     "text": [
      "in f_numpy:  <class 'numpy.ndarray'> <class 'numpy.ndarray'>\n",
      "in f_python:  <class 'list'> <class 'list'>\n",
      "Avg acceleration of computing is 36.355293 times\n"
     ]
    }
   ],
   "source": [
    "a, b = choices(range(1_000_000), k = 1_000_000), choices(range(1_000_000), k = 1_000_000)\n",
    "\n",
    "# скорость расчета может зависеть от нагруженности машины сторонними процессами\n",
    "# зачение ускорения осреднено по 10 наблюдениям\n",
    "NUMP = f_numpy(a, b)\n",
    "LIST = f_python(a, b)\n",
    "print(f'Avg acceleration of computing is {round(LIST/NUMP, 6)} times')"
   ]
  },
  {
   "cell_type": "markdown",
   "metadata": {},
   "source": [
    "**Задание 2.** Используя обобщённый на n-мерное пространство метод прямоугольников \n",
    "нахождения приближённого значения определённого интеграла, вычислите \n",
    "$\\displaystyle \\int\\limits_{2}^{4}\\int\\limits_{4}^{5}\\int\\limits_{2}^{3}\\int\\limits_{1}^{6}\\int\\limits_{3}^{6}\\int\\limits_{4}^{6} \\left(x_{2} e^{x_{5}} + 2 x_{4} + x_{6}^{3} + \\left(- 2 x_{1} + x_{3}\\right)^{5}\\right)\\, dx_{1}\\, dx_{2}\\, dx_{3}\\, dx_{4}\\, dx_{5}\\, dx_{6}$ как сумму значений подынтегральной функции в\n",
    "узлах сетки, получаемой в результате разбиения области интегрирования,\n",
    "умноженную на n-мерный объём параллелепипеда — ячейки разбиения.\n",
    "Для получения сетки отрезок изменения каждой из переменных следует\n",
    "разделить на 20 равных частей. В случае появления ошибки, связанной с нехваткой\n",
    "оперативной памяти, константу 20 необходимо уменьшить.\n",
    "\n",
    "Точное значение интеграла следует найти с помощью библиотеки SymPy, a\n",
    "для вычисления приближённого значения надо использовать функции `ogrid` и `sum`\n",
    "библиотеки NumPy. Завершить решение следует вычислением относительной\n",
    "погрешности найденного приближённого значения заданного интеграла. \n",
    "Рекомендуется ознакомиться с решением подобной задачи из\n",
    "раздела [1.3.5.4. Crude integral approximations руководства 'Scipy Lecture\n",
    "Notes'](http://scipy-lectures.org/intro/numpy/exercises.html#crude-integral-approximations).\n",
    "\n",
    "В результате решения задачи должны быть найдены:\n",
    "\n",
    "- точное значение интеграла с четырьмя значащими цифрами;\n",
    "- его приближённое значение, округлённое до четырёх значащих цифр\n",
    "  (его можно напечатать с помощью формата `%.4g`);\n",
    "- относительная погрешность приближённого значения в процентах,\n",
    "  округлённая до десятых.\n"
   ]
  },
  {
   "cell_type": "code",
   "execution_count": 4,
   "metadata": {},
   "outputs": [
    {
     "data": {
      "image/png": "[encoded data removed]",
      "text/latex": [
       "$\\displaystyle \\left( \\int\\limits_{2}^{4}\\int\\limits_{4}^{5}\\int\\limits_{2}^{3}\\int\\limits_{1}^{6}\\int\\limits_{3}^{6}\\int\\limits_{4}^{6} \\left(x_{2} e^{x_{5}} + 2 x_{4} + x_{6}^{3} + \\left(- 2 x_{1} + x_{3}\\right)^{5}\\right)\\, dx_{1}\\, dx_{2}\\, dx_{3}\\, dx_{4}\\, dx_{5}\\, dx_{6}, \\  -1.286 \\cdot 10^{6}\\right)$"
      ],
      "text/plain": [
       "⎛4 5 3 6 6 6                                                                  \n",
       "⎜⌠ ⌠ ⌠ ⌠ ⌠ ⌠                                                                  \n",
       "⎜⎮ ⎮ ⎮ ⎮ ⎮ ⎮ ⎛    x₅            3               5⎞                            \n",
       "⎜⎮ ⎮ ⎮ ⎮ ⎮ ⎮ ⎝x₂⋅ℯ   + 2⋅x₄ + x₆  + (-2⋅x₁ + x₃) ⎠ d(x₁) d(x₂) d(x₃) d(x₄) d(x\n",
       "⎜⌡ ⌡ ⌡ ⌡ ⌡ ⌡                                                                  \n",
       "⎝2 4 2 1 3 4                                                                  \n",
       "\n",
       "                   ⎞\n",
       "                   ⎟\n",
       "                   ⎟\n",
       "₅) d(x₆), -1.286e+6⎟\n",
       "                   ⎟\n",
       "                   ⎠"
      ]
     },
     "execution_count": 4,
     "metadata": {},
     "output_type": "execute_result"
    }
   ],
   "source": [
    "from sympy import *\n",
    "init_printing()\n",
    "\n",
    "var('x1, x2, x3, x4, x5, x6')\n",
    "fun = x2*exp(x5)+2*x4+x6**3+(-2*x1+x3)**5\n",
    "\n",
    "answer = N(integrate(fun, (x1,4,6), (x2,3,6), (x3,1,6), (x4,2,3), (x5,4,5), (x6,2,4)), 4)\n",
    "(Integral(fun, (x1,4,6), (x2,3,6), (x3,1,6), (x4,2,3), (x5,4,5), (x6,2,4)), answer)"
   ]
  },
  {
   "cell_type": "markdown",
   "metadata": {},
   "source": [
    "n = 20\n",
    "\n",
    "h1 = (6-4)/n\n",
    "h2 = (6-3)/n\n",
    "h3 = (6-1)/n\n",
    "h4 = (3-2)/n\n",
    "h5 = (5-4)/n\n",
    "h6 = (4-2)/n\n",
    "\n",
    "H = h1*h2*h3*h4*h5*h6\n",
    "\n",
    "x1 = np.ogrid[4:6:21j]\n",
    "x2 = np.ogrid[3:6:21j]\n",
    "x3 = np.ogrid[1:6:21j]\n",
    "x4 = np.ogrid[2:3:21j]\n",
    "x5 = np.ogrid[4:5:21j]\n",
    "x6 = np.ogrid[2:4:21j]\n",
    "\n",
    "\n",
    "arr1, arr = np.array([0]), np.array([0])\n",
    "sum = np.array([0])\n",
    "for i in range(20):\n",
    "    for j in range(20):\n",
    "        print(arr)\n",
    "        for k in range(20):\n",
    "            for l in range(20):\n",
    "                for m in range(20):\n",
    "                    for n in range(20):\n",
    "                        #arr1 += (x2[j]*exp(x5[m])+2*x4[l]+x6[n]**3+(-2*x1[i]+x3[k])**5)*H\n",
    "                        #arr2 += (x2[m]*exp(x5[j])+2*x4[k]+x6[i]**3+(-2*x1[n]+x3[l])**5)*H\n",
    "                        #arr1 = np.array([x2[j]*exp(x5[m])+2*x4[l]+x6[n]**3+(-2*x1[i]+x3[k])**5*H])\n",
    "                        arr1 = np.array([(x2[j]*E**(x5[m])+2*x4[l]+x6[n]**3+(-2*x1[i]+x3[k])**5)*H])\n",
    "                        arr = arr + arr1\n",
    "\n",
    "print(N(Answer), (sum), H)\n",
    "print(arr1, arr2)\n",
    "print(x6[n])\n",
    "\n"
   ]
  },
  {
   "cell_type": "code",
   "execution_count": 5,
   "metadata": {},
   "outputs": [
    {
     "name": "stdout",
     "output_type": "stream",
     "text": [
      "Approximation: \t -27189.3919576709\n",
      "Exact:  \t -1.2857e+6\n",
      "Relative error:\t 97.9\n"
     ]
    }
   ],
   "source": [
    "import numpy as np\n",
    "from numpy import newaxis\n",
    "\n",
    "\n",
    "def f(x1, x2, x3, x4, x5, x6):\n",
    "    return (x2*E**(x5)+2*x4+x6**3+(-2*x1+x3)**5)\n",
    "    #-3*x1**6 + x3**2 +x3*x5 - x5**2 +4*x**6 + (4*x2+x4)**2\n",
    "\n",
    "x1, x2, x3, x4, x5, x6 = np.ogrid[4:6:5j, 3:6:5j, 1:6:5j, 2:3:5j, 4:5:5j, 2:4:5j]\n",
    "\n",
    "samples = f(x1, x2, x3, x4, x5, x6)\n",
    "\n",
    "I = samples.mean()\n",
    "\n",
    "print(\"Approximation: \\t\", I)\n",
    "print(\"Exact:  \\t\", N(answer, 5))\n",
    "print(\"Relative error:\\t\", N(abs((answer - I)*100/answer), 3))"
   ]
  },
  {
   "cell_type": "markdown",
   "metadata": {},
   "source": [
    "**Задание 3.** С помощью библиотеки NumPy следует определить статистические характеристики\n",
    "потока ы-частиц (Ы — 29-я буква русского алфавита) на основе данных их \n",
    "регистрации специализированным\n",
    "ы-детектором в июле 2019 года. Данные представлены в виде csv-файлов,\n",
    "имена которых содержат дату наблюдения. Каждый из файлов содержит 24 строки и\n",
    "3600 столбцов. Число, содержащееся в $i$-й строке и $j$-м столбце, соответствует\n",
    "количеству ы-частиц, зарегистрированных за $j$-ю секунду $i$-го часа\n",
    "соответствующего дня. \n",
    "\n",
    "Вот [ссылка](../../hwnumpy01_data.zip) для загрузки zip-архива файлов с данными \n",
    "измерений (не работает в Jupyter Notebook на портале «Подспорье»).\n",
    "\n",
    "Требуется максимально эффективно (используя функции и методы библиотеки\n",
    "NumPy):\n",
    "\n",
    "- обработать измерения за период с 21 по 27 июля;\n",
    "- не учитывать при этом ежедневные измерения, сделанные позже 17 часов;\n",
    "- с целью уменьшения влияния ошибок ы-детектора вместо величин ежесекундных\n",
    "  измерений рассматривать усреднённые за 20 секунд значения.\n",
    "\n",
    "В процессе решения этой задачи необходимо читать данные из csv-файлов,\n",
    "поэтому\n",
    "\n",
    "- невозможно выполнить это задание, использую Jupyter Notebook на\n",
    "  портале «Подспорье», — следует запускать Jupyter Notebook на том самом\n",
    "  компьютере, где находятся файлы с данными (и лучше в той самой\n",
    "  директории, где размещены файлы);\n",
    "- для чтения данных из csv-файлов следует применять механизмы,\n",
    "  реализованные именно в библиотеке NumPy (несмотря на то, что\n",
    "  библиотека Pandas, с которой мы также будем работать, обеспечивает\n",
    "  альтернативные и более эффективные способы); рекомендуется ознакомиться\n",
    "  с информацией, содержащейся в обсуждении ['How do I read CSV data into\n",
    "  a record array in NumPy?'](https://stackoverflow.com/questions/3518778/how-do-i-read-csv-data-into-a-record-array-in-numpy)\n",
    "  и научиться самостоятельно находить ответы на подобные вопросы в Сети.\n",
    "\n",
    "В результате решения задачи для указанного выше множества данных об\n",
    "интенсивности потока ы-частиц должны быть вычислены и напечатаны округлённые\n",
    "до трёх десятичных цифр после запятой:\n",
    "\n",
    "- среднее значение;\n",
    "- медиана;\n",
    "- стандартное отклонение.\n"
   ]
  },
  {
   "cell_type": "code",
   "execution_count": 10,
   "metadata": {},
   "outputs": [
    {
     "name": "stdout",
     "output_type": "stream",
     "text": [
      "mean: 18384.69434640523 \n",
      "\n",
      "median: 151.5 \n",
      "\n",
      "stand: 46.49348422257306 \n",
      "\n"
     ]
    }
   ],
   "source": [
    "# создание списка списков по каждому дню\n",
    "# заранее срезаем до 17 часов , как требует условие\n",
    "days = []\n",
    "for day in range(21, 30+1):\n",
    "    days.append(np.genfromtxt(f'hw2/2019-07-{day}.csv', delimiter=',')[:17]) \n",
    "\n",
    "days = np.array(days)\n",
    "\n",
    "day_mean, day_median, day_stand = [], [], []\n",
    "for day in days:\n",
    "    day_mean.append(np.mean(day))\n",
    "    day_median.append(np.median(day))\n",
    "    day_stand.append(np.std(day))\n",
    "    \n",
    "print('mean:', sum(day_mean), '\\n')\n",
    "print('median:', np.median(day_median), '\\n')\n",
    "print('stand:', np.std(day_stand), '\\n')\n"
   ]
  },
  {
   "cell_type": "code",
   "execution_count": 1,
   "metadata": {},
   "outputs": [
    {
     "ename": "NameError",
     "evalue": "name 'days' is not defined",
     "output_type": "error",
     "traceback": [
      "\u001b[0;31m---------------------------------------------------------------------------\u001b[0m",
      "\u001b[0;31mNameError\u001b[0m                                 Traceback (most recent call last)",
      "\u001b[0;32m<ipython-input-1-3956c085625c>\u001b[0m in \u001b[0;36m<module>\u001b[0;34m\u001b[0m\n\u001b[1;32m      1\u001b[0m \u001b[0;31m# создается новый список списков по каждому дню, только теперь везде будет осреднено по 20 секундам\u001b[0m\u001b[0;34m\u001b[0m\u001b[0;34m\u001b[0m\u001b[0;34m\u001b[0m\u001b[0m\n\u001b[1;32m      2\u001b[0m \u001b[0mdays_new\u001b[0m\u001b[0;34m=\u001b[0m \u001b[0;34m[\u001b[0m\u001b[0;34m]\u001b[0m\u001b[0;34m\u001b[0m\u001b[0;34m\u001b[0m\u001b[0m\n\u001b[0;32m----> 3\u001b[0;31m \u001b[0;32mfor\u001b[0m \u001b[0mday\u001b[0m \u001b[0;32min\u001b[0m \u001b[0mdays\u001b[0m\u001b[0;34m:\u001b[0m\u001b[0;34m\u001b[0m\u001b[0;34m\u001b[0m\u001b[0m\n\u001b[0m\u001b[1;32m      4\u001b[0m     \u001b[0mday_means\u001b[0m \u001b[0;34m=\u001b[0m \u001b[0;34m[\u001b[0m\u001b[0;34m]\u001b[0m\u001b[0;34m\u001b[0m\u001b[0;34m\u001b[0m\u001b[0m\n\u001b[1;32m      5\u001b[0m     \u001b[0;32mfor\u001b[0m \u001b[0mi\u001b[0m\u001b[0;34m,\u001b[0m \u001b[0mhour\u001b[0m \u001b[0;32min\u001b[0m \u001b[0menumerate\u001b[0m\u001b[0;34m(\u001b[0m\u001b[0mday\u001b[0m\u001b[0;34m)\u001b[0m\u001b[0;34m:\u001b[0m\u001b[0;34m\u001b[0m\u001b[0;34m\u001b[0m\u001b[0m\n",
      "\u001b[0;31mNameError\u001b[0m: name 'days' is not defined"
     ]
    }
   ],
   "source": [
    "\n",
    "# создается новый список списков по каждому дню, только теперь везде будет осреднено по 20 секундам\n",
    "days_new= []\n",
    "for day in days:\n",
    "    day_means = []\n",
    "    for i, hour in enumerate(day):\n",
    "        day_means.append([])\n",
    "        for k in range(len(day[i])//20):\n",
    "            day_means[i].append(day[i][k*20:(k+1)*20].mean())\n",
    "    # добавляем отформированный день в список дней\n",
    "    days_new.append(day_means)\n",
    "\n",
    "for num, every_day in enumerate(days_new):\n",
    "    for num2, every_hour in enumerate(every_day):\n",
    "        # да, есть грамматические ошибки в записи дня и часа на английском =)\n",
    "        print(f'{num2}th hour of the ', f'{num}th day', '\\n', every_hour, '\\n')\n",
    " "
   ]
  },
  {
   "cell_type": "code",
   "execution_count": null,
   "metadata": {},
   "outputs": [],
   "source": []
  }
 ],
 "metadata": {
  "kernelspec": {
   "display_name": "Python 3",
   "language": "python",
   "name": "python3"
  },
  "language_info": {
   "codemirror_mode": {
    "name": "ipython",
    "version": 3
   },
   "file_extension": ".py",
   "mimetype": "text/x-python",
   "name": "python",
   "nbconvert_exporter": "python",
   "pygments_lexer": "ipython3",
   "version": "3.7.4"
  }
 },
 "nbformat": 4,
 "nbformat_minor": 2
}
