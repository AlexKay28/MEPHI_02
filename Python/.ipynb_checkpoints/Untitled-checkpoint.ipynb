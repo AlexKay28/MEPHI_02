{
 "cells": [
  {
   "cell_type": "markdown",
   "metadata": {},
   "source": [
    "# Индивидуальное задание 14.02.2020\n"
   ]
  },
  {
   "cell_type": "code",
   "execution_count": 38,
   "metadata": {},
   "outputs": [],
   "source": [
    "# libraries import\n",
    "from sympy import *\n",
    "init_printing()\n",
    "%matplotlib inline"
   ]
  },
  {
   "cell_type": "markdown",
   "metadata": {},
   "source": [
    "**Заdaние 1** :\n",
    "Вычислите значение выражения $\\displaystyle\\lg\\left(\\frac{\\sqrt2}{{(\\sqrt{e}-1)}^2{(\\log_38+2)}^3}\\right)$  с точностью 35 значащих десятичных цифр"
   ]
  },
  {
   "cell_type": "code",
   "execution_count": 44,
   "metadata": {},
   "outputs": [
    {
     "name": "stdout",
     "output_type": "stream",
     "text": [
      "The answer is 2.2971814020554707031226163644038384\n"
     ]
    }
   ],
   "source": [
    "foo = sqrt(2) / (sqrt(E) - 1)**2 * (log(8, 3) + 2)**3\n",
    "answer = N(log(foo, 10), 35)\n",
    "print(f'The answer is {answer}')"
   ]
  },
  {
   "cell_type": "markdown",
   "metadata": {},
   "source": [
    "**Задание 2 :** Раскройте скобки в выражении $\\left(u + z - 1\\right)^{3} \\left(u + 2 z - 1\\right)^{3} \\left(2 u + z - 1\\right)^{2}$"
   ]
  },
  {
   "cell_type": "code",
   "execution_count": null,
   "metadata": {},
   "outputs": [],
   "source": []
  },
  {
   "cell_type": "markdown",
   "metadata": {},
   "source": [
    "**Задание 3 :** Разложите на множители многочлен $4 u x^{5} - 16 u x^{4} y + 25 u x^{3} y^{2} - 19 u x^{2} y^{3} + 7 u x y^{4} - u y^{5} + 8 x^{5} z - 4 x^{5} - 32 x^{4} y z + 16 x^{4} y + 50 x^{3} y^{2} z - 25 x^{3} y^{2} - 38 x^{2} y^{3} z + 19 x^{2} y^{3} + 14 x y^{4} z - 7 x y^{4} - 2 y^{5} z + y^{5}.$"
   ]
  },
  {
   "cell_type": "code",
   "execution_count": null,
   "metadata": {},
   "outputs": [],
   "source": []
  },
  {
   "cell_type": "markdown",
   "metadata": {},
   "source": [
    "**Задание 4 :** Найдите все (включая комплексные) корни уравнения $35 x^{4} + 33 x^{3} + 237 x^{2} + 231 x - 56 = 0.$"
   ]
  },
  {
   "cell_type": "code",
   "execution_count": null,
   "metadata": {},
   "outputs": [],
   "source": []
  },
  {
   "cell_type": "markdown",
   "metadata": {},
   "source": [
    "**Задание 5 :** остройте график функции, заданной неявно: $\\displaystyle - x^{3} - 2 x^{2} - x + 3 y^{2}=0.$ Используйте одинаковый масштаб по координатным осям."
   ]
  },
  {
   "cell_type": "code",
   "execution_count": null,
   "metadata": {},
   "outputs": [],
   "source": []
  },
  {
   "cell_type": "markdown",
   "metadata": {},
   "source": [
    "**Задание 6 :** Постройте график функции, заданной параметрически: $\\displaystyle x(t)=6 \\sin{\\left (5 t \\right )}$ , $\\displaystyle y(t)=4 \\sin{\\left (2 t \\right )}$  Используйте минимальный по длине промежуток изменения параметра и одинаковый масштаб по координатным осям."
   ]
  },
  {
   "cell_type": "code",
   "execution_count": 34,
   "metadata": {},
   "outputs": [
    {
     "data": {
      "text/plain": [
       "exp"
      ]
     },
     "execution_count": 34,
     "metadata": {},
     "output_type": "execute_result"
    }
   ],
   "source": [
    "E"
   ]
  },
  {
   "cell_type": "code",
   "execution_count": null,
   "metadata": {},
   "outputs": [],
   "source": []
  }
 ],
 "metadata": {
  "kernelspec": {
   "display_name": "Python 3",
   "language": "python",
   "name": "python3"
  },
  "language_info": {
   "codemirror_mode": {
    "name": "ipython",
    "version": 3
   },
   "file_extension": ".py",
   "mimetype": "text/x-python",
   "name": "python",
   "nbconvert_exporter": "python",
   "pygments_lexer": "ipython3",
   "version": "3.7.4"
  }
 },
 "nbformat": 4,
 "nbformat_minor": 2
}
