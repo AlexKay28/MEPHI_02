{
 "cells": [
  {
   "cell_type": "markdown",
   "metadata": {},
   "source": [
    "# Индивидуальное задание 14.02.2020\n"
   ]
  },
  {
   "cell_type": "code",
   "execution_count": 1,
   "metadata": {},
   "outputs": [],
   "source": [
    "# libraries import\n",
    "from sympy import *\n",
    "init_printing()\n",
    "%matplotlib inline"
   ]
  },
  {
   "cell_type": "markdown",
   "metadata": {},
   "source": [
    "**Заdaние 1** :\n",
    "Вычислите значение выражения $\\displaystyle\\lg\\left(\\frac{\\sqrt2}{{(\\sqrt{e}-1)}^2{(\\log_38+2)}^3}\\right)$  с точностью 35 значащих десятичных цифр"
   ]
  },
  {
   "cell_type": "code",
   "execution_count": 2,
   "metadata": {},
   "outputs": [
    {
     "name": "stdout",
     "output_type": "stream",
     "text": [
      "The answer is -1.2443839587798452382624953779108999\n"
     ]
    }
   ],
   "source": [
    "foo = sqrt(2) / ((sqrt(E) - 1)**2 * (log(8, 3) + 2)**3)\n",
    "answer = N(log(foo, 10), 35)\n",
    "print(f'The answer is {answer}')"
   ]
  },
  {
   "cell_type": "markdown",
   "metadata": {},
   "source": [
    "**Задание 2 :** Раскройте скобки в выражении $\\left(u + z - 1\\right)^{3} \\left(u + 2 z - 1\\right)^{3} \\left(2 u + z - 1\\right)^{2}$"
   ]
  },
  {
   "cell_type": "code",
   "execution_count": 3,
   "metadata": {},
   "outputs": [
    {
     "data": {
      "image/png": "[encoded data removed]",
      "text/latex": [
       "$\\displaystyle 4 u^{8} + 40 u^{7} z - 28 u^{7} + 169 u^{6} z^{2} - 242 u^{6} z + 85 u^{6} + 393 u^{5} z^{3} - 864 u^{5} z^{2} + 621 u^{5} z - 146 u^{5} + 549 u^{4} z^{4} - 1647 u^{4} z^{3} + 1818 u^{4} z^{2} - 875 u^{4} z + 155 u^{4} + 471 u^{3} z^{5} - 1806 u^{3} z^{4} + 2721 u^{3} z^{3} - 2012 u^{3} z^{2} + 730 u^{3} z - 104 u^{3} + 242 u^{2} z^{6} - 1137 u^{2} z^{5} + 2190 u^{2} z^{4} - 2211 u^{2} z^{3} + 1233 u^{2} z^{2} - 360 u^{2} z + 43 u^{2} + 68 u z^{7} - 380 u z^{6} + 897 u z^{5} - 1158 u z^{4} + 882 u z^{3} - 396 u z^{2} + 97 u z - 10 u + 8 z^{8} - 52 z^{7} + 146 z^{6} - 231 z^{5} + 225 z^{4} - 138 z^{3} + 52 z^{2} - 11 z + 1$"
      ],
      "text/plain": [
       "   8       7         7        6  2        6         6        5  3        5  2 \n",
       "4⋅u  + 40⋅u ⋅z - 28⋅u  + 169⋅u ⋅z  - 242⋅u ⋅z + 85⋅u  + 393⋅u ⋅z  - 864⋅u ⋅z  \n",
       "\n",
       "       5          5        4  4         4  3         4  2        4          4 \n",
       "+ 621⋅u ⋅z - 146⋅u  + 549⋅u ⋅z  - 1647⋅u ⋅z  + 1818⋅u ⋅z  - 875⋅u ⋅z + 155⋅u  \n",
       "\n",
       "       3  5         3  4         3  3         3  2        3          3        \n",
       "+ 471⋅u ⋅z  - 1806⋅u ⋅z  + 2721⋅u ⋅z  - 2012⋅u ⋅z  + 730⋅u ⋅z - 104⋅u  + 242⋅u\n",
       "\n",
       "2  6         2  5         2  4         2  3         2  2        2         2   \n",
       " ⋅z  - 1137⋅u ⋅z  + 2190⋅u ⋅z  - 2211⋅u ⋅z  + 1233⋅u ⋅z  - 360⋅u ⋅z + 43⋅u  + \n",
       "\n",
       "      7          6          5           4          3          2               \n",
       "68⋅u⋅z  - 380⋅u⋅z  + 897⋅u⋅z  - 1158⋅u⋅z  + 882⋅u⋅z  - 396⋅u⋅z  + 97⋅u⋅z - 10⋅\n",
       "\n",
       "       8       7        6        5        4        3       2           \n",
       "u + 8⋅z  - 52⋅z  + 146⋅z  - 231⋅z  + 225⋅z  - 138⋅z  + 52⋅z  - 11⋅z + 1"
      ]
     },
     "execution_count": 3,
     "metadata": {},
     "output_type": "execute_result"
    }
   ],
   "source": [
    "var('u, z')\n",
    "foo = (u + z - 1)**3 * (u + 2*z - 1)**3 * (2*u + z - 1)**2\n",
    "expand(foo)"
   ]
  },
  {
   "cell_type": "markdown",
   "metadata": {},
   "source": [
    "**Задание 3 :** Разложите на множители многочлен $4 u x^{5} - 16 u x^{4} y + 25 u x^{3} y^{2} - 19 u x^{2} y^{3} + 7 u x y^{4} - u y^{5} + 8 x^{5} z - 4 x^{5} - 32 x^{4} y z + 16 x^{4} y + 50 x^{3} y^{2} z - 25 x^{3} y^{2} - 38 x^{2} y^{3} z + 19 x^{2} y^{3} + 14 x y^{4} z - 7 x y^{4} - 2 y^{5} z + y^{5}.$"
   ]
  },
  {
   "cell_type": "code",
   "execution_count": 4,
   "metadata": {},
   "outputs": [
    {
     "data": {
      "text/plain": [
       "'4ux**5-16ux**4y+25ux**3y**2-19ux**2y**3+7uxy**4-uy**5+8x**5z-4x**5-32x**4yz+16x**4y+50x**3y**2z-25x**3y**2-38x**2y**3z+19x**2y**3+14xy**4z-7xy**4-2y**5z+y**5'"
      ]
     },
     "execution_count": 4,
     "metadata": {},
     "output_type": "execute_result"
    }
   ],
   "source": [
    "import re\n",
    "# упрощаю для переписи многочлена из латеха в пригодный для пайтона формат\n",
    "latex_equation = '4 u x^{5} - 16 u x^{4} y + 25 u x^{3} y^{2} - 19 u x^{2} y^{3} + 7 u x y^{4} - \\\n",
    "                    u y^{5} + 8 x^{5} z - 4 x^{5} - 32 x^{4} y z + 16 x^{4} y + 50 x^{3} y^{2} z - \\\n",
    "                    25 x^{3} y^{2} - 38 x^{2} y^{3} z + 19 x^{2} y^{3} + 14 x y^{4} z - 7 x y^{4} - \\\n",
    "                    2 y^{5} z + y^{5}'\n",
    "latex_equation = re.sub(r' |[{}]' ,'', latex_equation)\n",
    "latex_equation = re.sub(r'\\^', '**', latex_equation)\n",
    "latex_equation"
   ]
  },
  {
   "cell_type": "code",
   "execution_count": 5,
   "metadata": {},
   "outputs": [
    {
     "data": {
      "image/png": "[encoded data removed]",
      "text/latex": [
       "$\\displaystyle \\left(x - y\\right)^{3} \\left(2 x - y\\right)^{2} \\left(u + 2 z - 1\\right)$"
      ],
      "text/plain": [
       "       3          2              \n",
       "(x - y) ⋅(2⋅x - y) ⋅(u + 2⋅z - 1)"
      ]
     },
     "execution_count": 5,
     "metadata": {},
     "output_type": "execute_result"
    }
   ],
   "source": [
    "var('x, y, z, u')\n",
    "foo1 = 4*u*x**5-16*u*x**4*y+25*u*x**3*y**2-19*u*x**2*y**3+7*u*x*y**4-u*y**5+8*x**5*z-4*x**5\n",
    "foo2 = -32*x**4*y*z+16*x**4*y+50*x**3*y**2*z-25*x**3*y**2-38*x**2*y**3*z+19*x**2*y**3+14*x*y**4*z-7*x*y**4-2*y**5*z+y**5\n",
    "foo = foo1 + foo2\n",
    "factor(foo)"
   ]
  },
  {
   "cell_type": "markdown",
   "metadata": {},
   "source": [
    "**Задание 4 :** Найдите все (включая комплексные) корни уравнения $35 x^{4} + 33 x^{3} + 237 x^{2} + 231 x - 56 = 0.$"
   ]
  },
  {
   "cell_type": "code",
   "execution_count": 6,
   "metadata": {},
   "outputs": [
    {
     "data": {
      "image/png": "[encoded data removed]",
      "text/latex": [
       "$\\displaystyle \\left\\{- \\frac{8}{7}, \\frac{1}{5}, - \\sqrt{7} i, \\sqrt{7} i\\right\\}$"
      ],
      "text/plain": [
       "{-8/7, 1/5, -√7⋅ⅈ, √7⋅ⅈ}"
      ]
     },
     "execution_count": 6,
     "metadata": {},
     "output_type": "execute_result"
    }
   ],
   "source": [
    "var('x')\n",
    "eq = 35*x**4 + 33*x**3 + 237*x**2 + 231*x - 56\n",
    "solveset(eq, x)"
   ]
  },
  {
   "cell_type": "markdown",
   "metadata": {},
   "source": [
    "**Задание 5 :** постройте график функции, заданной неявно: $\\displaystyle - x^{3} - 2 x^{2} - x + 3 y^{2}=0.$ Используйте одинаковый масштаб по координатным осям."
   ]
  },
  {
   "cell_type": "code",
   "execution_count": 8,
   "metadata": {},
   "outputs": [
    {
     "data": {
      "image/png": "[encoded data removed]",
      "text/plain": [
       "<Figure size 432x288 with 1 Axes>"
      ]
     },
     "metadata": {
      "needs_background": "light"
     },
     "output_type": "display_data"
    },
    {
     "data": {
      "image/png": "[encoded data removed]",
      "text/plain": [
       "<Figure size 432x288 with 1 Axes>"
      ]
     },
     "execution_count": 8,
     "metadata": {},
     "output_type": "execute_result"
    }
   ],
   "source": [
    "var('x, y')\n",
    "foo = -x**3 - 2*x**2 - x + 3*y**2\n",
    "p1 = plot_implicit(foo)\n",
    "p1._backend.ax.set_aspect('equal')\n",
    "p1._backend.fig"
   ]
  },
  {
   "cell_type": "markdown",
   "metadata": {},
   "source": [
    "**Задание 6 :** Постройте график функции, заданной параметрически: $\\displaystyle x(t)=6 \\sin{\\left (5 t \\right )}$ , $\\displaystyle y(t)=4 \\sin{\\left (2 t \\right )}$  Используйте минимальный по длине промежуток изменения параметра и одинаковый масштаб по координатным осям."
   ]
  },
  {
   "cell_type": "code",
   "execution_count": 31,
   "metadata": {},
   "outputs": [
    {
     "data": {
      "image/png": "[encoded data removed]",
      "text/plain": [
       "<Figure size 432x288 with 1 Axes>"
      ]
     },
     "metadata": {
      "needs_background": "light"
     },
     "output_type": "display_data"
    },
    {
     "data": {
      "text/plain": [
       "<sympy.plotting.plot.Plot at 0x7f41f17b2390>"
      ]
     },
     "execution_count": 31,
     "metadata": {},
     "output_type": "execute_result"
    }
   ],
   "source": [
    "var('t')\n",
    "p2 = plotting.plot_parametric(6*sin(5*t), 4*sin(2*t), (t, -pi/5, pi/5), line_color = 'black')\n",
    "p2._backend.ax.set_aspect('equal')\n",
    "p2._backend.fig\n",
    "p2"
   ]
  },
  {
   "cell_type": "code",
   "execution_count": null,
   "metadata": {},
   "outputs": [],
   "source": []
  }
 ],
 "metadata": {
  "kernelspec": {
   "display_name": "Python 3",
   "language": "python",
   "name": "python3"
  },
  "language_info": {
   "codemirror_mode": {
    "name": "ipython",
    "version": 3
   },
   "file_extension": ".py",
   "mimetype": "text/x-python",
   "name": "python",
   "nbconvert_exporter": "python",
   "pygments_lexer": "ipython3",
   "version": "3.7.4"
  }
 },
 "nbformat": 4,
 "nbformat_minor": 2
}
