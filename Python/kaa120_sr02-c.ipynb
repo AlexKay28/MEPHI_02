{
 "cells": [
  {
   "cell_type": "markdown",
   "metadata": {},
   "source": [
    "# Продолжение работы с библиотекой SymPy"
   ]
  },
  {
   "cell_type": "markdown",
   "metadata": {},
   "source": [
    "### Контрольная работа"
   ]
  },
  {
   "cell_type": "markdown",
   "metadata": {},
   "source": [
    "### Кайгородов Александр Александрович (kaa120), группа: Поток 2"
   ]
  },
  {
   "cell_type": "markdown",
   "metadata": {},
   "source": [
    "**Выполните указанные ниже действия, сохраните свою работу в виде ipynb-файла с именем `kaa120_sr02-c.ipynb` и прикрепите этот файл к сообщению своему преподавателю**."
   ]
  },
  {
   "cell_type": "code",
   "execution_count": 1,
   "metadata": {},
   "outputs": [],
   "source": [
    "from sympy import *\n",
    "init_printing()\n",
    "%matplotlib inline"
   ]
  },
  {
   "cell_type": "markdown",
   "metadata": {},
   "source": [
    "**Задание 1.** Найдите площадь параллелограмма, построенного на векторах $\\vec{u} = (1272,1133)$ и $\\vec{v} = (1102,-833)$ с четырьмя значащими цифрами.\n",
    "Завершите решение созданием (вручную) ячейки типа `Markdown`,\n",
    "в которой полученному ответу предшествует текст «Ответ:»"
   ]
  },
  {
   "cell_type": "code",
   "execution_count": 4,
   "metadata": {},
   "outputs": [
    {
     "data": {
      "image/png": "[encoded data removed]",
      "text/latex": [
       "$$2.308 \\cdot 10^{6}$$"
      ],
      "text/plain": [
       "2.308e+6"
      ]
     },
     "execution_count": 4,
     "metadata": {},
     "output_type": "execute_result"
    }
   ],
   "source": [
    "M = Matrix([[1272, 1133], [1102, -833]])\n",
    "V = abs(M.det())\n",
    "N(V, 4)"
   ]
  },
  {
   "cell_type": "markdown",
   "metadata": {},
   "source": [
    "Ответ: $2.308 \\cdot 10^{6}$"
   ]
  },
  {
   "cell_type": "markdown",
   "metadata": {},
   "source": [
    "**Задание 2.** Найдите величину угла в радианах между прямыми $\\displaystyle l_1\\colon \\left\\{\\begin{array}{l}\n",
    "x(t) = 1082t + 757\\\\\n",
    "y(t)=-763t - 1251\\\\\n",
    "z(t)=1297t + 736\n",
    "\\end{array}\\right.$ и $\\displaystyle l_2\\colon \\left\\{\\begin{array}{l}\n",
    "x(t) = -801t - 854\\\\\n",
    "y(t)=1223t + 1235\\\\\n",
    "z(t)=1074t + 799\n",
    "\\end{array}\\right.$ с точностью до $10^{-3}$."
   ]
  },
  {
   "cell_type": "code",
   "execution_count": 18,
   "metadata": {},
   "outputs": [
    {
     "name": "stdout",
     "output_type": "stream",
     "text": [
      "1.694\n"
     ]
    }
   ],
   "source": [
    "from math import acos, degrees\n",
    "var('line1, line2, angle')\n",
    "\n",
    "line1 = Matrix([1082, -763, 1297])\n",
    "line2 = Matrix([-807, 1223, 1074])\n",
    "\n",
    "angle = acos(line1.dot(line2)/(line1.norm()*line2.norm()))\n",
    "print(N(angle ,4))"
   ]
  },
  {
   "cell_type": "markdown",
   "metadata": {},
   "source": [
    "Ответ: 1.694"
   ]
  },
  {
   "cell_type": "markdown",
   "metadata": {},
   "source": [
    "**Задание 3.** Найдите точки невырожденного минимума второй производной функции $(6x+7)^2(5x-11)^2(6x+8)^3$ с шестью значащими цифрами.\n"
   ]
  },
  {
   "cell_type": "code",
   "execution_count": 22,
   "metadata": {},
   "outputs": [
    {
     "data": {
      "image/png": "[encoded data removed]",
      "text/latex": [
       "$$\\left [ -1.33, \\quad -1.33, \\quad -1.33, \\quad -1.17, \\quad -1.17, \\quad 2.2, \\quad 2.2\\right ]$$"
      ],
      "text/plain": [
       "[-1.33, -1.33, -1.33, -1.17, -1.17, 2.2, 2.2]"
      ]
     },
     "execution_count": 22,
     "metadata": {},
     "output_type": "execute_result"
    }
   ],
   "source": [
    "var('x')\n",
    "\n",
    "fun = (6*x+7)**2 * (5*x-11)**2 * (6*x+8)**3\n",
    "roots = nroots(fun, n=3)\n",
    "roots"
   ]
  },
  {
   "cell_type": "code",
   "execution_count": 26,
   "metadata": {},
   "outputs": [
    {
     "data": {
      "image/png": "[encoded data removed]",
      "text/latex": [
       "$$18 \\left(5 x - 11\\right)^{2} \\left(6 x + 7\\right)^{2} \\left(6 x + 8\\right)^{2} + \\left(5 x - 11\\right)^{2} \\left(6 x + 8\\right)^{3} \\left(72 x + 84\\right) + \\left(6 x + 7\\right)^{2} \\left(6 x + 8\\right)^{3} \\left(50 x - 110\\right)$$"
      ],
      "text/plain": [
       "             2          2          2             2          3                 \n",
       "18⋅(5⋅x - 11) ⋅(6⋅x + 7) ⋅(6⋅x + 8)  + (5⋅x - 11) ⋅(6⋅x + 8) ⋅(72⋅x + 84) + (6\n",
       "\n",
       "       2          3             \n",
       "⋅x + 7) ⋅(6⋅x + 8) ⋅(50⋅x - 110)"
      ]
     },
     "execution_count": 26,
     "metadata": {},
     "output_type": "execute_result"
    }
   ],
   "source": [
    "d1_fun = diff(fun, x)\n",
    "d1_fun"
   ]
  },
  {
   "cell_type": "code",
   "execution_count": 27,
   "metadata": {},
   "outputs": [
    {
     "data": {
      "image/png": "[encoded data removed]",
      "text/latex": [
       "$$18 \\left(5 x - 11\\right)^{2} \\left(6 x + 7\\right)^{2} \\left(72 x + 96\\right) + 72 \\left(5 x - 11\\right)^{2} \\left(6 x + 8\\right)^{3} + 36 \\left(5 x - 11\\right)^{2} \\left(6 x + 8\\right)^{2} \\left(72 x + 84\\right) + 50 \\left(6 x + 7\\right)^{2} \\left(6 x + 8\\right)^{3} + 18 \\left(6 x + 7\\right)^{2} \\left(6 x + 8\\right)^{2} \\left(50 x - 110\\right) + \\left(6 x + 7\\right)^{2} \\left(6 x + 8\\right)^{2} \\left(900 x - 1980\\right) + 2 \\left(6 x + 8\\right)^{3} \\left(50 x - 110\\right) \\left(72 x + 84\\right)$$"
      ],
      "text/plain": [
       "             2          2                            2          3             \n",
       "18⋅(5⋅x - 11) ⋅(6⋅x + 7) ⋅(72⋅x + 96) + 72⋅(5⋅x - 11) ⋅(6⋅x + 8)  + 36⋅(5⋅x - \n",
       "\n",
       "   2          2                           2          3               2        \n",
       "11) ⋅(6⋅x + 8) ⋅(72⋅x + 84) + 50⋅(6⋅x + 7) ⋅(6⋅x + 8)  + 18⋅(6⋅x + 7) ⋅(6⋅x + \n",
       "\n",
       "  2                         2          2                             3        \n",
       "8) ⋅(50⋅x - 110) + (6⋅x + 7) ⋅(6⋅x + 8) ⋅(900⋅x - 1980) + 2⋅(6⋅x + 8) ⋅(50⋅x -\n",
       "\n",
       "                 \n",
       " 110)⋅(72⋅x + 84)"
      ]
     },
     "execution_count": 27,
     "metadata": {},
     "output_type": "execute_result"
    }
   ],
   "source": [
    "d2_fun = diff(d1_fun, x)\n",
    "d2_fun"
   ]
  },
  {
   "cell_type": "code",
   "execution_count": 38,
   "metadata": {},
   "outputs": [
    {
     "data": {
      "image/png": "[encoded data removed]",
      "text/latex": [
       "$$\\left [ -1.17, \\quad -1.17, \\quad 2.2, \\quad 2.2\\right ]$$"
      ],
      "text/plain": [
       "[-1.17, -1.17, 2.2, 2.2]"
      ]
     },
     "execution_count": 38,
     "metadata": {},
     "output_type": "execute_result"
    }
   ],
   "source": [
    "need_roots = []\n",
    "for root in roots:\n",
    "    if d2_fun.subs(x,root) != 0 and d2_fun.subs(x,root) >0:\n",
    "        need_roots.append(root)\n",
    "\n",
    "need_roots"
   ]
  },
  {
   "cell_type": "code",
   "execution_count": 40,
   "metadata": {},
   "outputs": [
    {
     "name": "stdout",
     "output_type": "stream",
     "text": [
      "-1.16675\n",
      "-1.16675\n",
      "2.20020\n",
      "2.20020\n"
     ]
    }
   ],
   "source": [
    "for root in need_roots: print(N(root, 6))"
   ]
  },
  {
   "cell_type": "code",
   "execution_count": null,
   "metadata": {},
   "outputs": [],
   "source": []
  }
 ],
 "metadata": {
  "kernelspec": {
   "display_name": "Python 3",
   "language": "python",
   "name": "python3"
  },
  "language_info": {
   "codemirror_mode": {
    "name": "ipython",
    "version": 3
   },
   "file_extension": ".py",
   "mimetype": "text/x-python",
   "name": "python",
   "nbconvert_exporter": "python",
   "pygments_lexer": "ipython3",
   "version": "3.7.4"
  }
 },
 "nbformat": 4,
 "nbformat_minor": 2
}
