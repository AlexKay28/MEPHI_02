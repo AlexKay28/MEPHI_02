{
 "cells": [
  {
   "cell_type": "code",
   "execution_count": 9,
   "metadata": {},
   "outputs": [],
   "source": [
    "from sympy import *\n",
    "init_printing()\n",
    "%matplotlib inline"
   ]
  },
  {
   "cell_type": "code",
   "execution_count": 10,
   "metadata": {},
   "outputs": [],
   "source": [
    "#vars = var('x,y')\n",
    "# foo = 2*x**2 - 3*x*y + 4*y**2 - 2*x + y + 10 \n",
    "# diff(foo,x)"
   ]
  },
  {
   "cell_type": "code",
   "execution_count": 11,
   "metadata": {},
   "outputs": [
    {
     "name": "stdout",
     "output_type": "stream",
     "text": [
      "[[0. 1.]\n",
      " [1. 1.]\n",
      " [2. 1.]\n",
      " [3. 1.]]\n",
      "[[3. 1.]\n",
      " [2. 1.]\n",
      " [1. 1.]\n",
      " [0. 1.]]\n"
     ]
    }
   ],
   "source": [
    "import numpy as np\n",
    "X1 = np.array([0,1,2,3])\n",
    "X2 = np.array([3,2,1,0])\n",
    "Y = np.array([0,1,0,3])\n",
    "\n",
    "X1 = np.vstack([X1, np.ones(len(X1))]).T\n",
    "X2 = np.vstack([X2, np.ones(len(X2))]).T\n",
    "print(X1)\n",
    "print(X2)"
   ]
  },
  {
   "cell_type": "code",
   "execution_count": 72,
   "metadata": {},
   "outputs": [
    {
     "name": "stdout",
     "output_type": "stream",
     "text": [
      "12⋅w₀ + 30⋅w₁ + 8⋅w₂ - 20\n",
      "None\n",
      "12⋅w₀ + 8⋅w₁ + 30⋅w₂ - 4\n",
      "None\n",
      "10⋅w₀ + 12⋅w₁ + 12⋅w₂ - 8\n",
      "None\n"
     ]
    }
   ],
   "source": [
    "from sympy import *\n",
    "init_printing()\n",
    "%matplotlib inline\n",
    "vars = var('w1, w2, w0')\n",
    "L = (3*w2+w0-0)**2 + (w1+2*w2+w0-1)**2 + (2*w1+w2+w0-0)**2 + (3*w1+w0-3)**2 + w1**2 + w2**2 + w0**2\n",
    "for var in vars:\n",
    "    f = diff(L, var)\n",
    "    print(pretty_print(f))"
   ]
  },
  {
   "cell_type": "code",
   "execution_count": 59,
   "metadata": {},
   "outputs": [
    {
     "data": {
      "image/png": "[encoded data removed]",
      "text/latex": [
       "$\\displaystyle \\left[ \\right]$"
      ],
      "text/plain": [
       "[]"
      ]
     },
     "execution_count": 59,
     "metadata": {},
     "output_type": "execute_result"
    }
   ],
   "source": [
    "from sympy import Matrix, solve_linear_system\n",
    "from sympy.abc import x, y, z\n",
    "\n",
    "system = Matrix(( (12, 30, 8, 20), (12, 8, 30, 4), (0, 12, 12, 8)))\n",
    "solve_linear_system(system)"
   ]
  },
  {
   "cell_type": "code",
   "execution_count": 58,
   "metadata": {},
   "outputs": [
    {
     "data": {
      "image/png": "[encoded data removed]",
      "text/latex": [
       "$\\displaystyle \\left\\{ w_{0} : - \\frac{26}{253}, \\  w_{1} : \\frac{4}{23}, \\  w_{2} : \\frac{158}{253}\\right\\}$"
      ],
      "text/plain": [
       "⎧    -26                 158⎫\n",
       "⎨w₀: ────, w₁: 4/23, w₂: ───⎬\n",
       "⎩    253                 253⎭"
      ]
     },
     "execution_count": 58,
     "metadata": {},
     "output_type": "execute_result"
    }
   ],
   "source": [
    "from sympy.solvers.solvers import solve_linear_system_LU\n",
    "# solve_linear_system_LU(Matrix([\n",
    "#     [12, 28, 8, 20],\n",
    "#     [12, 8, 28, 4],\n",
    "#     [8, 12, 12, 8]]),[x, y, z])\n",
    "\n",
    "ans = solve_linear_system_LU(Matrix([\n",
    "[12, 30, 8, 20],\n",
    "[12, 8, 30, 4],\n",
    "[10, 12, 12, 8]]), [w1, w2, w0])\n",
    "ans"
   ]
  },
  {
   "cell_type": "code",
   "execution_count": 60,
   "metadata": {},
   "outputs": [
    {
     "data": {
      "text/plain": [
       "array([ 0.17391304,  0.62450593, -0.1027668 ])"
      ]
     },
     "execution_count": 60,
     "metadata": {},
     "output_type": "execute_result"
    }
   ],
   "source": [
    "import numpy as np\n",
    "\n",
    "x = np.array([[10,12,12], [12,30,8], [12,8,30]])\n",
    "y = np.array([8,20,4])\n",
    "np.linalg.solve(x,y)"
   ]
  },
  {
   "cell_type": "code",
   "execution_count": 48,
   "metadata": {},
   "outputs": [
    {
     "name": "stdout",
     "output_type": "stream",
     "text": [
      "coef: [ 0.17391304  0.62450593 -0.1027668 ]\n"
     ]
    }
   ],
   "source": [
    "from sklearn.linear_model import Ridge\n",
    "import numpy as np\n",
    "\n",
    "alpha=1.0\n",
    "\n",
    "X = np.array( [ [0,3], [1,2], [2,1], [3,0] ] )\n",
    "y = np.array( [ 0, 1, 0, 3 ] )\n",
    "\n",
    "#expand X by 1.0 column\n",
    "\n",
    "X = np.insert(X, 0, values=1, axis=1 )\n",
    "\n",
    "model = Ridge(alpha=alpha, fit_intercept=False )\n",
    "model.fit(X, y )\n",
    "\n",
    "print(\"coef:\", model.coef_);"
   ]
  },
  {
   "cell_type": "code",
   "execution_count": null,
   "metadata": {},
   "outputs": [],
   "source": []
  }
 ],
 "metadata": {
  "kernelspec": {
   "display_name": "Python 3",
   "language": "python",
   "name": "python3"
  },
  "language_info": {
   "codemirror_mode": {
    "name": "ipython",
    "version": 3
   },
   "file_extension": ".py",
   "mimetype": "text/x-python",
   "name": "python",
   "nbconvert_exporter": "python",
   "pygments_lexer": "ipython3",
   "version": "3.7.4"
  }
 },
 "nbformat": 4,
 "nbformat_minor": 2
}
