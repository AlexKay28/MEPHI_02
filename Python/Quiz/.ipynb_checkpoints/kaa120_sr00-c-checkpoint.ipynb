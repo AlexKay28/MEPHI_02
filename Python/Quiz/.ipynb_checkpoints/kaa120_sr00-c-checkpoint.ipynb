{
 "cells": [
  {
   "cell_type": "markdown",
   "metadata": {},
   "source": [
    "# Знакомство с SymPy"
   ]
  },
  {
   "cell_type": "markdown",
   "metadata": {},
   "source": [
    "### Самостоятельная работа"
   ]
  },
  {
   "cell_type": "markdown",
   "metadata": {},
   "source": [
    "### Кайгородов Александр Александрович (kaa120), группа: Поток 2"
   ]
  },
  {
   "cell_type": "markdown",
   "metadata": {},
   "source": [
    "**Выполните указанные ниже действия, сохраните свою работу в виде ipynb-файла с именем `kaa120_sr00-c.ipynb` и прикрепите этот файл к сообщению своему преподавателю**."
   ]
  },
  {
   "cell_type": "markdown",
   "metadata": {},
   "source": [
    "**Задание 1.** Постройте график той первообразной функции $(4x+5)^3(4x-11)^2$, которая в точке $x_0=-4$ принимает значение $y_0=17974$."
   ]
  },
  {
   "cell_type": "code",
   "execution_count": 1,
   "metadata": {},
   "outputs": [
    {
     "data": {
      "image/png": "[encoded data removed]",
      "text/plain": [
       "<Figure size 432x288 with 1 Axes>"
      ]
     },
     "metadata": {
      "needs_background": "light"
     },
     "output_type": "display_data"
    },
    {
     "data": {
      "text/plain": [
       "<sympy.plotting.plot.Plot at 0x7f3a808f24a8>"
      ]
     },
     "execution_count": 1,
     "metadata": {},
     "output_type": "execute_result"
    }
   ],
   "source": [
    "from sympy import *\n",
    "init_printing()\n",
    "%matplotlib inline\n",
    "var('x')\n",
    "F = Integral((4*x+5)**3*(4*x-11)**2, x).doit()\n",
    "const = 17974 - Integral((6*x+8)**2*(3*x-11)**3, x).doit().subs(x,-4)\n",
    "y = F + const\n",
    "plot(y)"
   ]
  },
  {
   "cell_type": "markdown",
   "metadata": {},
   "source": [
    "**Задание 2.** Найдите объём параллелепипеда, построенного на векторах $\\vec{u} = (-905,1015,-950)$, $\\vec{v} = (-733,-775,-960)$ и $\\vec{w} = (1117,1275,1117)$.\n",
    "Завершите решение созданием (вручную) ячейки типа `Markdown`,\n",
    "в которой полученному ответу, округлённому до целого числа,\n",
    "предшествует текст «`Ответ:`»"
   ]
  },
  {
   "cell_type": "code",
   "execution_count": 2,
   "metadata": {},
   "outputs": [
    {
     "data": {
      "image/png": "[encoded data removed]",
      "text/latex": [
       "$$516191510$$"
      ],
      "text/plain": [
       "516191510"
      ]
     },
     "execution_count": 2,
     "metadata": {},
     "output_type": "execute_result"
    }
   ],
   "source": [
    "M = Matrix([[-905, 1015, -950], [-733, -775, -960], [1117, 1275, 1117]])\n",
    "V = abs(M.det())\n",
    "V"
   ]
  },
  {
   "cell_type": "markdown",
   "metadata": {},
   "source": [
    "Ответ: 516191510"
   ]
  },
  {
   "cell_type": "markdown",
   "metadata": {},
   "source": [
    "**Задание 3.** Найдите величину угла в градусах между прямыми $\\displaystyle l_1\\colon \\left\\{\\begin{array}{l}\n",
    "x(t) = 1033t + 810\\\\\n",
    "y(t)=-926t - 852\\\\\n",
    "z(t)=1092t + 837\n",
    "\\end{array}\\right.$ и $\\displaystyle l_2\\colon \\left\\{\\begin{array}{l}\n",
    "x(t) = -788t - 945\\\\\n",
    "y(t)=-907t + 911\\\\\n",
    "z(t)=-772t + 704\n",
    "\\end{array}\\right.$.\n",
    "Завершите решение созданием (вручную) ячейки типа `Markdown`,\n",
    "в которой полученному ответу, округлённому до сотых,\n",
    "предшествует текст «`Ответ:`»"
   ]
  },
  {
   "cell_type": "code",
   "execution_count": 4,
   "metadata": {},
   "outputs": [
    {
     "name": "stdout",
     "output_type": "stream",
     "text": [
      "108.91\n"
     ]
    }
   ],
   "source": [
    "from math import acos, degrees\n",
    "var('line1, line2, angle')\n",
    "\n",
    "line1 = Matrix([1033, -926, 1092])\n",
    "line2 = Matrix([-788, -907, -772])\n",
    "\n",
    "angle = acos(line1.dot(l2)/(line1.norm()*line2.norm()))\n",
    "print(N(degrees(angle),5))"
   ]
  },
  {
   "cell_type": "markdown",
   "metadata": {},
   "source": [
    "Ответ: 108.91"
   ]
  },
  {
   "cell_type": "code",
   "execution_count": null,
   "metadata": {},
   "outputs": [],
   "source": []
  }
 ],
 "metadata": {
  "kernelspec": {
   "display_name": "Python 3",
   "language": "python",
   "name": "python3"
  },
  "language_info": {
   "codemirror_mode": {
    "name": "ipython",
    "version": 3
   },
   "file_extension": ".py",
   "mimetype": "text/x-python",
   "name": "python",
   "nbconvert_exporter": "python",
   "pygments_lexer": "ipython3",
   "version": "3.7.4"
  }
 },
 "nbformat": 4,
 "nbformat_minor": 2
}
