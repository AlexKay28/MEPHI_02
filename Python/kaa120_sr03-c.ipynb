{
 "cells": [
  {
   "cell_type": "markdown",
   "metadata": {},
   "source": [
    "# Продолжение работы с библиотекой SymPy"
   ]
  },
  {
   "cell_type": "markdown",
   "metadata": {},
   "source": [
    "### Контрольная работа"
   ]
  },
  {
   "cell_type": "markdown",
   "metadata": {},
   "source": [
    "### Кайгородов Александр Александрович (kaa120), группа: Поток 2"
   ]
  },
  {
   "cell_type": "markdown",
   "metadata": {},
   "source": [
    "**Выполните указанные ниже действия, сохраните свою работу в виде ipynb-файла с именем `kaa120_sr03-c.ipynb` и прикрепите этот файл к сообщению своему преподавателю**."
   ]
  },
  {
   "cell_type": "code",
   "execution_count": 1,
   "metadata": {},
   "outputs": [],
   "source": [
    "from sympy import *\n",
    "init_printing()\n",
    "%matplotlib inline"
   ]
  },
  {
   "cell_type": "markdown",
   "metadata": {},
   "source": [
    "**Задание 1.** Найдите объём параллелепипеда, построенного на векторах $\\vec{u} = (-950,1048,-981)$, $\\vec{v} = (-902,-748,1183)$ и $\\vec{w} = (-935,-996,-972)$ с четырьмя значащими цифрами.\n",
    "Завершите решение созданием (вручную) ячейки типа `Markdown`,\n",
    "в которой полученному ответу предшествует текст «Ответ:»"
   ]
  },
  {
   "cell_type": "code",
   "execution_count": 2,
   "metadata": {},
   "outputs": [
    {
     "data": {
      "image/png": "[encoded data removed]",
      "text/latex": [
       "$\\displaystyle 4.738 \\cdot 10^{8}$"
      ],
      "text/plain": [
       "4.738e+8"
      ]
     },
     "execution_count": 2,
     "metadata": {},
     "output_type": "execute_result"
    }
   ],
   "source": [
    "M = Matrix([[-950,1048,-981],[-902,-748,-1183],[-935,-996,-972]])\n",
    "V = abs(M.det())\n",
    "N(V,4)"
   ]
  },
  {
   "cell_type": "markdown",
   "metadata": {},
   "source": [
    "Ответ: $4.738 * 10^8$"
   ]
  },
  {
   "cell_type": "markdown",
   "metadata": {},
   "source": [
    "**Задание 2.** Найдите величину угла в радианах между плоскостью $\\displaystyle \\pi\\colon 1076x + 1297y - 767z + 1077 = 0$ и прямой $\\displaystyle l\\colon \\left\\{\\begin{array}{l}\n",
    "x(t) = -993t - 976\\\\\n",
    "y(t)=1037t + 1298\\\\\n",
    "z(t)=-713t + 1212\n",
    "\\end{array}\\right.$ с точностью до $10^{-3}$."
   ]
  },
  {
   "cell_type": "code",
   "execution_count": 21,
   "metadata": {},
   "outputs": [
    {
     "data": {
      "image/png": "[encoded data removed]",
      "text/latex": [
       "$\\displaystyle 0.281$"
      ],
      "text/plain": [
       "0.281"
      ]
     },
     "execution_count": 21,
     "metadata": {},
     "output_type": "execute_result"
    }
   ],
   "source": [
    "from math import acos, sqrt, pi\n",
    "\n",
    "plate = Matrix([1076, 1297, -767])\n",
    "line = Matrix([-993, 1037, -713])\n",
    "\n",
    "angle = pi/2 - acos(abs(plate.dot(line)/sqrt(plate.dot(plate)*line.dot(line))))\n",
    "N(angle, 3)"
   ]
  },
  {
   "cell_type": "markdown",
   "metadata": {},
   "source": [
    "**Задание 3.** Найдите точки невырожденного минимума производной функции $(4x+7)^3(4x-13)^3(2x+8)^3$ с шестью значащими цифрами."
   ]
  },
  {
   "cell_type": "code",
   "execution_count": 58,
   "metadata": {},
   "outputs": [
    {
     "name": "stdout",
     "output_type": "stream",
     "text": [
      "root is  -4.00000\n",
      "subs is  0\n",
      "root is  -3.46328\n",
      "subs is  2.61449e+7\n",
      "root is  -2.48227\n",
      "subs is  -2.23984e+7\n",
      "root is  -1.75000\n",
      "subs is  0\n",
      "root is  0.340125\n",
      "subs is  -6.60295e+8\n",
      "root is  2.27209\n",
      "subs is  9.06984e+8\n",
      "root is  3.25000\n",
      "subs is  0\n"
     ]
    },
    {
     "data": {
      "image/png": "[encoded data removed]",
      "text/latex": [
       "$\\displaystyle \\left[ -4.0, \\  -2.48227, \\  0.340125, \\  3.25\\right]$"
      ],
      "text/plain": [
       "[-4.0, -2.48227, 0.340125, 3.25]"
      ]
     },
     "execution_count": 58,
     "metadata": {},
     "output_type": "execute_result"
    }
   ],
   "source": [
    "import matplotlib.pyplot as plt\n",
    "\n",
    "var('x')\n",
    "f = (4*x+7)**3 * (4*x-13)**3 * (2*x+8)**3\n",
    "fun = diff(f, x) # искать точки невырожденного минимума для этой функции\n",
    "\n",
    "# поиск критических точек\n",
    "for root in nroots(diff(fun,x,1), n=6):\n",
    "    print('root is ', root)\n",
    "    print('subs is ', fun.subs(x, root))\n",
    "    \n",
    "roots = nroots(diff(fun,x,1), n=6)[::2]\n",
    "\n",
    "# если вторая производная функции зануляется в точке экстремума, то экстремум вырожден\n",
    "fun2 = diff(fun, x, 2)\n",
    "roots_ex = []\n",
    "for root in roots:\n",
    "    if fun2.subs(x,root) != 0:\n",
    "        roots_ex.append(root)\n",
    "\n",
    "roots"
   ]
  },
  {
   "cell_type": "code",
   "execution_count": null,
   "metadata": {},
   "outputs": [],
   "source": []
  },
  {
   "cell_type": "code",
   "execution_count": null,
   "metadata": {},
   "outputs": [],
   "source": []
  }
 ],
 "metadata": {
  "kernelspec": {
   "display_name": "Python 3",
   "language": "python",
   "name": "python3"
  },
  "language_info": {
   "codemirror_mode": {
    "name": "ipython",
    "version": 3
   },
   "file_extension": ".py",
   "mimetype": "text/x-python",
   "name": "python",
   "nbconvert_exporter": "python",
   "pygments_lexer": "ipython3",
   "version": "3.7.4"
  }
 },
 "nbformat": 4,
 "nbformat_minor": 2
}
