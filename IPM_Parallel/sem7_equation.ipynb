{
 "cells": [
  {
   "cell_type": "code",
   "execution_count": 2,
   "metadata": {},
   "outputs": [],
   "source": [
    "from sympy import *"
   ]
  },
  {
   "cell_type": "code",
   "execution_count": 43,
   "metadata": {},
   "outputs": [
    {
     "data": {
      "text/latex": [
       "$\\displaystyle ua \\cos{\\left(\\frac{\\pi \\left(x - xa\\right)}{- xa + xb} \\right)} - \\frac{ub \\left(- xa + xb\\right) \\sin{\\left(\\frac{\\pi \\left(x - xa\\right)}{- xa + xb} \\right)}}{\\pi}$"
      ],
      "text/plain": [
       "ua*cos(pi*(x - xa)/(-xa + xb)) - ub*(-xa + xb)*sin(pi*(x - xa)/(-xa + xb))/pi"
      ]
     },
     "execution_count": 43,
     "metadata": {},
     "output_type": "execute_result"
    }
   ],
   "source": [
    "var('x, ua, pi, ub, xa, xb')\n",
    "\n",
    "px = pi/(xb-xa)\n",
    "f = ua*cos(px*(x-xa)) - (1/px)*ub*sin(px*(x-xa))\n",
    "f"
   ]
  },
  {
   "cell_type": "code",
   "execution_count": 44,
   "metadata": {},
   "outputs": [
    {
     "data": {
      "text/latex": [
       "$\\displaystyle - \\frac{\\pi ua \\sin{\\left(\\frac{\\pi \\left(x - xa\\right)}{- xa + xb} \\right)}}{- xa + xb} - ub \\cos{\\left(\\frac{\\pi \\left(x - xa\\right)}{- xa + xb} \\right)}$"
      ],
      "text/plain": [
       "-pi*ua*sin(pi*(x - xa)/(-xa + xb))/(-xa + xb) - ub*cos(pi*(x - xa)/(-xa + xb))"
      ]
     },
     "execution_count": 44,
     "metadata": {},
     "output_type": "execute_result"
    }
   ],
   "source": [
    "diff(f, x)"
   ]
  },
  {
   "cell_type": "code",
   "execution_count": 47,
   "metadata": {},
   "outputs": [
    {
     "data": {
      "text/latex": [
       "$\\displaystyle ua$"
      ],
      "text/plain": [
       "ua"
      ]
     },
     "execution_count": 47,
     "metadata": {},
     "output_type": "execute_result"
    }
   ],
   "source": [
    "f.subs(x,xa)"
   ]
  },
  {
   "cell_type": "code",
   "execution_count": 48,
   "metadata": {},
   "outputs": [
    {
     "data": {
      "text/latex": [
       "$\\displaystyle - \\frac{\\pi ua \\sin{\\left(\\pi \\right)}}{- xa + xb} - ub \\cos{\\left(\\pi \\right)}$"
      ],
      "text/plain": [
       "-pi*ua*sin(pi)/(-xa + xb) - ub*cos(pi)"
      ]
     },
     "execution_count": 48,
     "metadata": {},
     "output_type": "execute_result"
    }
   ],
   "source": [
    "dd = diff(f, x).subs(x, xb)\n",
    "dd"
   ]
  },
  {
   "cell_type": "code",
   "execution_count": 49,
   "metadata": {},
   "outputs": [
    {
     "data": {
      "text/latex": [
       "$\\displaystyle \\sin{\\left(\\pi \\right)}$"
      ],
      "text/plain": [
       "sin(pi)"
      ]
     },
     "execution_count": 49,
     "metadata": {},
     "output_type": "execute_result"
    }
   ],
   "source": [
    "sin(pi)"
   ]
  },
  {
   "cell_type": "code",
   "execution_count": null,
   "metadata": {},
   "outputs": [],
   "source": []
  },
  {
   "cell_type": "code",
   "execution_count": null,
   "metadata": {},
   "outputs": [],
   "source": []
  }
 ],
 "metadata": {
  "kernelspec": {
   "display_name": "Python 3",
   "language": "python",
   "name": "python3"
  },
  "language_info": {
   "codemirror_mode": {
    "name": "ipython",
    "version": 3
   },
   "file_extension": ".py",
   "mimetype": "text/x-python",
   "name": "python",
   "nbconvert_exporter": "python",
   "pygments_lexer": "ipython3",
   "version": "3.7.4"
  }
 },
 "nbformat": 4,
 "nbformat_minor": 2
}
