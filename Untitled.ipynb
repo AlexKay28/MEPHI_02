{
 "cells": [
  {
   "cell_type": "code",
   "execution_count": 1,
   "metadata": {},
   "outputs": [
    {
     "data": {
      "text/plain": [
       "[32, 22, 21, 10, 2, 2, 2, 3, 1]"
      ]
     },
     "execution_count": 1,
     "metadata": {},
     "output_type": "execute_result"
    }
   ],
   "source": [
    "def Insert(lst, element):\n",
    "    lst.append(element)\n",
    "    el_idx = int(len(lst)-1)\n",
    "    if len(lst) == 1:\n",
    "        return lst\n",
    "    \n",
    "    while 1: \n",
    "        # четное\n",
    "        if el_idx%2 == 0:\n",
    "            # lower or on the top then end up with it\n",
    "            if lst[el_idx] <= lst[int(el_idx/2)] or el_idx == 0:\n",
    "                return lst\n",
    "            lst[el_idx], lst[el_idx//2] = lst[int(el_idx/2)], lst[el_idx]\n",
    "            el_idx = el_idx//2\n",
    "        # нечетное\n",
    "        if el_idx%2 == 1:\n",
    "            # lower or on the top then end up with it \n",
    "            if lst[el_idx] <= lst[int((el_idx-1)//2)] or el_idx == 0:\n",
    "                return lst\n",
    "            lst[el_idx], lst[int((el_idx-1)//2)] = lst[int((el_idx-1)//2)], lst[el_idx]\n",
    "            el_idx = (el_idx-1)//2\n",
    "\n",
    "arr = []\n",
    "Insert(arr, 1)\n",
    "Insert(arr, 2)\n",
    "Insert(arr, 3)\n",
    "Insert(arr, 2)\n",
    "Insert(arr, 2)\n",
    "Insert(arr, 10)https://twitter.com/\n",
    "Insert(arr, 22)\n",
    "Insert(arr, 32)\n",
    "Insert(arr, 21)"
   ]
  },
  {
   "cell_type": "code",
   "execution_count": 11,
   "metadata": {},
   "outputs": [
    {
     "name": "stdout",
     "output_type": "stream",
     "text": [
      "[7, 6, 5, 4, 3, 2, 1]\n",
      "7\n",
      "[6, 5, 4, 3, 2, 1]\n",
      "6\n",
      "[5, 4, 3, 2, 1]\n",
      "5\n",
      "[4, 3, 2, 1]\n",
      "4\n",
      "[3, 2, 1]\n",
      "3\n",
      "[2, 1]\n",
      "2\n",
      "[1]\n",
      "1\n"
     ]
    },
    {
     "data": {
      "text/plain": [
       "[]"
      ]
     },
     "execution_count": 11,
     "metadata": {},
     "output_type": "execute_result"
    }
   ],
   "source": [
    "def ExtractMax(arr):\n",
    "    if len(arr) == 0: return []\n",
    "    print(arr)\n",
    "    print(arr[0])\n",
    "    pointer = 0\n",
    "    arr[0]= 'del'\n",
    "\n",
    "    if len(arr) == 1:\n",
    "        del arr[pointer]\n",
    "        return []\n",
    "    \n",
    "    if len(arr) == 2:\n",
    "        arr[0], arr[1] = arr[1], arr[0]\n",
    "        pointer = 1\n",
    "        del arr[pointer]\n",
    "        return arr\n",
    "    \n",
    "    if arr[1] >= arr[2]: \n",
    "        arr[0], arr[1] = arr[1], arr[0]\n",
    "        pointer = 1\n",
    "        del arr[pointer]\n",
    "        return arr\n",
    "    \n",
    "    else: \n",
    "        arr[0], arr[2] = arr[2], arr[0]\n",
    "        pointer = 2\n",
    "        del arr[pointer]\n",
    "        return arr\n",
    "        \n",
    "    while 1:\n",
    "        if 2*pointer >= len(arr) or 2*pointer + 1 >= len(arr) or len(arr) == 1:\n",
    "            del arr[pointer]\n",
    "            return arr\n",
    "        if arr[2*pointer] >= arr[2*pointer + 1]:\n",
    "            arr[pointer], arr[2*pointer] = arr[2*pointer], arr[pointer]\n",
    "            pointer = 2*pointer\n",
    "        else:\n",
    "            arr[pointer], arr[2*pointer+1] = arr[2*pointer+1], arr[pointer]\n",
    "            pointer = 2*pointer+1\n",
    "            \n",
    "arr = [7,6,5,4,3,2,1]\n",
    "arr = ExtractMax(arr)\n",
    "arr = ExtractMax(arr)\n",
    "arr = ExtractMax(arr)\n",
    "arr = ExtractMax(arr)\n",
    "arr = ExtractMax(arr)\n",
    "arr = ExtractMax(arr)\n",
    "arr = ExtractMax(arr)\n",
    "arr = ExtractMax(arr)\n",
    "\n",
    "arr = ExtractMax(arr)\n",
    "arr"
   ]
  },
  {
   "cell_type": "code",
   "execution_count": null,
   "metadata": {},
   "outputs": [],
   "source": []
  }
 ],
 "metadata": {
  "kernelspec": {
   "display_name": "Python 3",
   "language": "python",
   "name": "python3"
  },
  "language_info": {
   "codemirror_mode": {
    "name": "ipython",
    "version": 3
   },
   "file_extension": ".py",
   "mimetype": "text/x-python",
   "name": "python",
   "nbconvert_exporter": "python",
   "pygments_lexer": "ipython3",
   "version": "3.7.4"
  }
 },
 "nbformat": 4,
 "nbformat_minor": 2
}
