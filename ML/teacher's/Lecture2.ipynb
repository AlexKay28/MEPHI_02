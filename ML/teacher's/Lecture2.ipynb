{
  "nbformat": 4,
  "nbformat_minor": 0,
  "metadata": {
    "colab": {
      "name": "Lecture2.ipynb",
      "provenance": [],
      "collapsed_sections": []
    },
    "kernelspec": {
      "name": "python3",
      "display_name": "Python 3"
    }
  },
  "cells": [
    {
      "cell_type": "markdown",
      "metadata": {
        "id": "lIKJ4i6jEUrH",
        "colab_type": "text"
      },
      "source": [
        "# Лекция 2"
      ]
    },
    {
      "cell_type": "code",
      "metadata": {
        "id": "Q405iAigVwwQ",
        "colab_type": "code",
        "colab": {}
      },
      "source": [
        "import pandas as pd"
      ],
      "execution_count": 0,
      "outputs": []
    },
    {
      "cell_type": "code",
      "metadata": {
        "id": "8W2-jpIlVyvs",
        "colab_type": "code",
        "colab": {}
      },
      "source": [
        "data_higgs = pd.read_csv(\"higgs_reduced.csv\")"
      ],
      "execution_count": 0,
      "outputs": []
    },
    {
      "cell_type": "code",
      "metadata": {
        "id": "NwnGIlRLE-10",
        "colab_type": "code",
        "outputId": "aa2c838c-0036-447a-914f-f538182ee22f",
        "colab": {
          "base_uri": "https://localhost:8080/",
          "height": 220
        }
      },
      "source": [
        "data_higgs.head()"
      ],
      "execution_count": 0,
      "outputs": [
        {
          "output_type": "execute_result",
          "data": {
            "text/html": [
              "<div>\n",
              "<style scoped>\n",
              "    .dataframe tbody tr th:only-of-type {\n",
              "        vertical-align: middle;\n",
              "    }\n",
              "\n",
              "    .dataframe tbody tr th {\n",
              "        vertical-align: top;\n",
              "    }\n",
              "\n",
              "    .dataframe thead th {\n",
              "        text-align: right;\n",
              "    }\n",
              "</style>\n",
              "<table border=\"1\" class=\"dataframe\">\n",
              "  <thead>\n",
              "    <tr style=\"text-align: right;\">\n",
              "      <th></th>\n",
              "      <th>0</th>\n",
              "      <th>1</th>\n",
              "      <th>2</th>\n",
              "      <th>3</th>\n",
              "      <th>4</th>\n",
              "      <th>5</th>\n",
              "      <th>6</th>\n",
              "      <th>7</th>\n",
              "      <th>8</th>\n",
              "      <th>9</th>\n",
              "      <th>10</th>\n",
              "      <th>11</th>\n",
              "      <th>12</th>\n",
              "      <th>13</th>\n",
              "      <th>14</th>\n",
              "      <th>15</th>\n",
              "      <th>16</th>\n",
              "      <th>17</th>\n",
              "      <th>18</th>\n",
              "      <th>19</th>\n",
              "      <th>20</th>\n",
              "      <th>21</th>\n",
              "      <th>22</th>\n",
              "      <th>23</th>\n",
              "      <th>24</th>\n",
              "      <th>25</th>\n",
              "      <th>26</th>\n",
              "      <th>27</th>\n",
              "      <th>28</th>\n",
              "    </tr>\n",
              "  </thead>\n",
              "  <tbody>\n",
              "    <tr>\n",
              "      <th>0</th>\n",
              "      <td>1.0</td>\n",
              "      <td>0.869293</td>\n",
              "      <td>-0.635082</td>\n",
              "      <td>0.225690</td>\n",
              "      <td>0.327470</td>\n",
              "      <td>-0.689993</td>\n",
              "      <td>0.754202</td>\n",
              "      <td>-0.248573</td>\n",
              "      <td>-1.092064</td>\n",
              "      <td>0.000000</td>\n",
              "      <td>1.374992</td>\n",
              "      <td>-0.653674</td>\n",
              "      <td>0.930349</td>\n",
              "      <td>1.107436</td>\n",
              "      <td>1.138904</td>\n",
              "      <td>-1.578198</td>\n",
              "      <td>-1.046985</td>\n",
              "      <td>0.000000</td>\n",
              "      <td>0.657930</td>\n",
              "      <td>-0.010455</td>\n",
              "      <td>-0.045767</td>\n",
              "      <td>3.101961</td>\n",
              "      <td>1.353760</td>\n",
              "      <td>0.979563</td>\n",
              "      <td>0.978076</td>\n",
              "      <td>0.920005</td>\n",
              "      <td>0.721657</td>\n",
              "      <td>0.988751</td>\n",
              "      <td>0.876678</td>\n",
              "    </tr>\n",
              "    <tr>\n",
              "      <th>1</th>\n",
              "      <td>1.0</td>\n",
              "      <td>0.907542</td>\n",
              "      <td>0.329147</td>\n",
              "      <td>0.359412</td>\n",
              "      <td>1.497970</td>\n",
              "      <td>-0.313010</td>\n",
              "      <td>1.095531</td>\n",
              "      <td>-0.557525</td>\n",
              "      <td>-1.588230</td>\n",
              "      <td>2.173076</td>\n",
              "      <td>0.812581</td>\n",
              "      <td>-0.213642</td>\n",
              "      <td>1.271015</td>\n",
              "      <td>2.214872</td>\n",
              "      <td>0.499994</td>\n",
              "      <td>-1.261432</td>\n",
              "      <td>0.732156</td>\n",
              "      <td>0.000000</td>\n",
              "      <td>0.398701</td>\n",
              "      <td>-1.138930</td>\n",
              "      <td>-0.000819</td>\n",
              "      <td>0.000000</td>\n",
              "      <td>0.302220</td>\n",
              "      <td>0.833048</td>\n",
              "      <td>0.985700</td>\n",
              "      <td>0.978098</td>\n",
              "      <td>0.779732</td>\n",
              "      <td>0.992356</td>\n",
              "      <td>0.798343</td>\n",
              "    </tr>\n",
              "    <tr>\n",
              "      <th>2</th>\n",
              "      <td>1.0</td>\n",
              "      <td>0.798835</td>\n",
              "      <td>1.470639</td>\n",
              "      <td>-1.635975</td>\n",
              "      <td>0.453773</td>\n",
              "      <td>0.425629</td>\n",
              "      <td>1.104875</td>\n",
              "      <td>1.282322</td>\n",
              "      <td>1.381664</td>\n",
              "      <td>0.000000</td>\n",
              "      <td>0.851737</td>\n",
              "      <td>1.540659</td>\n",
              "      <td>-0.819690</td>\n",
              "      <td>2.214872</td>\n",
              "      <td>0.993490</td>\n",
              "      <td>0.356080</td>\n",
              "      <td>-0.208778</td>\n",
              "      <td>2.548224</td>\n",
              "      <td>1.256955</td>\n",
              "      <td>1.128848</td>\n",
              "      <td>0.900461</td>\n",
              "      <td>0.000000</td>\n",
              "      <td>0.909753</td>\n",
              "      <td>1.108330</td>\n",
              "      <td>0.985692</td>\n",
              "      <td>0.951331</td>\n",
              "      <td>0.803252</td>\n",
              "      <td>0.865924</td>\n",
              "      <td>0.780118</td>\n",
              "    </tr>\n",
              "    <tr>\n",
              "      <th>3</th>\n",
              "      <td>0.0</td>\n",
              "      <td>1.344385</td>\n",
              "      <td>-0.876626</td>\n",
              "      <td>0.935913</td>\n",
              "      <td>1.992050</td>\n",
              "      <td>0.882454</td>\n",
              "      <td>1.786066</td>\n",
              "      <td>-1.646778</td>\n",
              "      <td>-0.942383</td>\n",
              "      <td>0.000000</td>\n",
              "      <td>2.423265</td>\n",
              "      <td>-0.676016</td>\n",
              "      <td>0.736159</td>\n",
              "      <td>2.214872</td>\n",
              "      <td>1.298720</td>\n",
              "      <td>-1.430738</td>\n",
              "      <td>-0.364658</td>\n",
              "      <td>0.000000</td>\n",
              "      <td>0.745313</td>\n",
              "      <td>-0.678379</td>\n",
              "      <td>-1.360356</td>\n",
              "      <td>0.000000</td>\n",
              "      <td>0.946652</td>\n",
              "      <td>1.028704</td>\n",
              "      <td>0.998656</td>\n",
              "      <td>0.728281</td>\n",
              "      <td>0.869200</td>\n",
              "      <td>1.026736</td>\n",
              "      <td>0.957904</td>\n",
              "    </tr>\n",
              "    <tr>\n",
              "      <th>4</th>\n",
              "      <td>1.0</td>\n",
              "      <td>1.105009</td>\n",
              "      <td>0.321356</td>\n",
              "      <td>1.522401</td>\n",
              "      <td>0.882808</td>\n",
              "      <td>-1.205349</td>\n",
              "      <td>0.681466</td>\n",
              "      <td>-1.070464</td>\n",
              "      <td>-0.921871</td>\n",
              "      <td>0.000000</td>\n",
              "      <td>0.800872</td>\n",
              "      <td>1.020974</td>\n",
              "      <td>0.971407</td>\n",
              "      <td>2.214872</td>\n",
              "      <td>0.596761</td>\n",
              "      <td>-0.350273</td>\n",
              "      <td>0.631194</td>\n",
              "      <td>0.000000</td>\n",
              "      <td>0.479999</td>\n",
              "      <td>-0.373566</td>\n",
              "      <td>0.113041</td>\n",
              "      <td>0.000000</td>\n",
              "      <td>0.755856</td>\n",
              "      <td>1.361057</td>\n",
              "      <td>0.986610</td>\n",
              "      <td>0.838085</td>\n",
              "      <td>1.133295</td>\n",
              "      <td>0.872245</td>\n",
              "      <td>0.808487</td>\n",
              "    </tr>\n",
              "  </tbody>\n",
              "</table>\n",
              "</div>"
            ],
            "text/plain": [
              "     0         1         2         3  ...        25        26        27        28\n",
              "0  1.0  0.869293 -0.635082  0.225690  ...  0.920005  0.721657  0.988751  0.876678\n",
              "1  1.0  0.907542  0.329147  0.359412  ...  0.978098  0.779732  0.992356  0.798343\n",
              "2  1.0  0.798835  1.470639 -1.635975  ...  0.951331  0.803252  0.865924  0.780118\n",
              "3  0.0  1.344385 -0.876626  0.935913  ...  0.728281  0.869200  1.026736  0.957904\n",
              "4  1.0  1.105009  0.321356  1.522401  ...  0.838085  1.133295  0.872245  0.808487\n",
              "\n",
              "[5 rows x 29 columns]"
            ]
          },
          "metadata": {
            "tags": []
          },
          "execution_count": 22
        }
      ]
    },
    {
      "cell_type": "code",
      "metadata": {
        "id": "vUtYO_SUFA5V",
        "colab_type": "code",
        "colab": {}
      },
      "source": [
        "data_higgs.rename({'0':\"labels\"},axis=1,inplace=True)"
      ],
      "execution_count": 0,
      "outputs": []
    },
    {
      "cell_type": "code",
      "metadata": {
        "id": "TVkwyvEnGcM6",
        "colab_type": "code",
        "outputId": "7f870d11-6d28-43b7-9ac3-168aa49f4f10",
        "colab": {
          "base_uri": "https://localhost:8080/",
          "height": 220
        }
      },
      "source": [
        "data_higgs.head()"
      ],
      "execution_count": 0,
      "outputs": [
        {
          "output_type": "execute_result",
          "data": {
            "text/html": [
              "<div>\n",
              "<style scoped>\n",
              "    .dataframe tbody tr th:only-of-type {\n",
              "        vertical-align: middle;\n",
              "    }\n",
              "\n",
              "    .dataframe tbody tr th {\n",
              "        vertical-align: top;\n",
              "    }\n",
              "\n",
              "    .dataframe thead th {\n",
              "        text-align: right;\n",
              "    }\n",
              "</style>\n",
              "<table border=\"1\" class=\"dataframe\">\n",
              "  <thead>\n",
              "    <tr style=\"text-align: right;\">\n",
              "      <th></th>\n",
              "      <th>labels</th>\n",
              "      <th>1</th>\n",
              "      <th>2</th>\n",
              "      <th>3</th>\n",
              "      <th>4</th>\n",
              "      <th>5</th>\n",
              "      <th>6</th>\n",
              "      <th>7</th>\n",
              "      <th>8</th>\n",
              "      <th>9</th>\n",
              "      <th>10</th>\n",
              "      <th>11</th>\n",
              "      <th>12</th>\n",
              "      <th>13</th>\n",
              "      <th>14</th>\n",
              "      <th>15</th>\n",
              "      <th>16</th>\n",
              "      <th>17</th>\n",
              "      <th>18</th>\n",
              "      <th>19</th>\n",
              "      <th>20</th>\n",
              "      <th>21</th>\n",
              "      <th>22</th>\n",
              "      <th>23</th>\n",
              "      <th>24</th>\n",
              "      <th>25</th>\n",
              "      <th>26</th>\n",
              "      <th>27</th>\n",
              "      <th>28</th>\n",
              "    </tr>\n",
              "  </thead>\n",
              "  <tbody>\n",
              "    <tr>\n",
              "      <th>0</th>\n",
              "      <td>1.0</td>\n",
              "      <td>0.869293</td>\n",
              "      <td>-0.635082</td>\n",
              "      <td>0.225690</td>\n",
              "      <td>0.327470</td>\n",
              "      <td>-0.689993</td>\n",
              "      <td>0.754202</td>\n",
              "      <td>-0.248573</td>\n",
              "      <td>-1.092064</td>\n",
              "      <td>0.000000</td>\n",
              "      <td>1.374992</td>\n",
              "      <td>-0.653674</td>\n",
              "      <td>0.930349</td>\n",
              "      <td>1.107436</td>\n",
              "      <td>1.138904</td>\n",
              "      <td>-1.578198</td>\n",
              "      <td>-1.046985</td>\n",
              "      <td>0.000000</td>\n",
              "      <td>0.657930</td>\n",
              "      <td>-0.010455</td>\n",
              "      <td>-0.045767</td>\n",
              "      <td>3.101961</td>\n",
              "      <td>1.353760</td>\n",
              "      <td>0.979563</td>\n",
              "      <td>0.978076</td>\n",
              "      <td>0.920005</td>\n",
              "      <td>0.721657</td>\n",
              "      <td>0.988751</td>\n",
              "      <td>0.876678</td>\n",
              "    </tr>\n",
              "    <tr>\n",
              "      <th>1</th>\n",
              "      <td>1.0</td>\n",
              "      <td>0.907542</td>\n",
              "      <td>0.329147</td>\n",
              "      <td>0.359412</td>\n",
              "      <td>1.497970</td>\n",
              "      <td>-0.313010</td>\n",
              "      <td>1.095531</td>\n",
              "      <td>-0.557525</td>\n",
              "      <td>-1.588230</td>\n",
              "      <td>2.173076</td>\n",
              "      <td>0.812581</td>\n",
              "      <td>-0.213642</td>\n",
              "      <td>1.271015</td>\n",
              "      <td>2.214872</td>\n",
              "      <td>0.499994</td>\n",
              "      <td>-1.261432</td>\n",
              "      <td>0.732156</td>\n",
              "      <td>0.000000</td>\n",
              "      <td>0.398701</td>\n",
              "      <td>-1.138930</td>\n",
              "      <td>-0.000819</td>\n",
              "      <td>0.000000</td>\n",
              "      <td>0.302220</td>\n",
              "      <td>0.833048</td>\n",
              "      <td>0.985700</td>\n",
              "      <td>0.978098</td>\n",
              "      <td>0.779732</td>\n",
              "      <td>0.992356</td>\n",
              "      <td>0.798343</td>\n",
              "    </tr>\n",
              "    <tr>\n",
              "      <th>2</th>\n",
              "      <td>1.0</td>\n",
              "      <td>0.798835</td>\n",
              "      <td>1.470639</td>\n",
              "      <td>-1.635975</td>\n",
              "      <td>0.453773</td>\n",
              "      <td>0.425629</td>\n",
              "      <td>1.104875</td>\n",
              "      <td>1.282322</td>\n",
              "      <td>1.381664</td>\n",
              "      <td>0.000000</td>\n",
              "      <td>0.851737</td>\n",
              "      <td>1.540659</td>\n",
              "      <td>-0.819690</td>\n",
              "      <td>2.214872</td>\n",
              "      <td>0.993490</td>\n",
              "      <td>0.356080</td>\n",
              "      <td>-0.208778</td>\n",
              "      <td>2.548224</td>\n",
              "      <td>1.256955</td>\n",
              "      <td>1.128848</td>\n",
              "      <td>0.900461</td>\n",
              "      <td>0.000000</td>\n",
              "      <td>0.909753</td>\n",
              "      <td>1.108330</td>\n",
              "      <td>0.985692</td>\n",
              "      <td>0.951331</td>\n",
              "      <td>0.803252</td>\n",
              "      <td>0.865924</td>\n",
              "      <td>0.780118</td>\n",
              "    </tr>\n",
              "    <tr>\n",
              "      <th>3</th>\n",
              "      <td>0.0</td>\n",
              "      <td>1.344385</td>\n",
              "      <td>-0.876626</td>\n",
              "      <td>0.935913</td>\n",
              "      <td>1.992050</td>\n",
              "      <td>0.882454</td>\n",
              "      <td>1.786066</td>\n",
              "      <td>-1.646778</td>\n",
              "      <td>-0.942383</td>\n",
              "      <td>0.000000</td>\n",
              "      <td>2.423265</td>\n",
              "      <td>-0.676016</td>\n",
              "      <td>0.736159</td>\n",
              "      <td>2.214872</td>\n",
              "      <td>1.298720</td>\n",
              "      <td>-1.430738</td>\n",
              "      <td>-0.364658</td>\n",
              "      <td>0.000000</td>\n",
              "      <td>0.745313</td>\n",
              "      <td>-0.678379</td>\n",
              "      <td>-1.360356</td>\n",
              "      <td>0.000000</td>\n",
              "      <td>0.946652</td>\n",
              "      <td>1.028704</td>\n",
              "      <td>0.998656</td>\n",
              "      <td>0.728281</td>\n",
              "      <td>0.869200</td>\n",
              "      <td>1.026736</td>\n",
              "      <td>0.957904</td>\n",
              "    </tr>\n",
              "    <tr>\n",
              "      <th>4</th>\n",
              "      <td>1.0</td>\n",
              "      <td>1.105009</td>\n",
              "      <td>0.321356</td>\n",
              "      <td>1.522401</td>\n",
              "      <td>0.882808</td>\n",
              "      <td>-1.205349</td>\n",
              "      <td>0.681466</td>\n",
              "      <td>-1.070464</td>\n",
              "      <td>-0.921871</td>\n",
              "      <td>0.000000</td>\n",
              "      <td>0.800872</td>\n",
              "      <td>1.020974</td>\n",
              "      <td>0.971407</td>\n",
              "      <td>2.214872</td>\n",
              "      <td>0.596761</td>\n",
              "      <td>-0.350273</td>\n",
              "      <td>0.631194</td>\n",
              "      <td>0.000000</td>\n",
              "      <td>0.479999</td>\n",
              "      <td>-0.373566</td>\n",
              "      <td>0.113041</td>\n",
              "      <td>0.000000</td>\n",
              "      <td>0.755856</td>\n",
              "      <td>1.361057</td>\n",
              "      <td>0.986610</td>\n",
              "      <td>0.838085</td>\n",
              "      <td>1.133295</td>\n",
              "      <td>0.872245</td>\n",
              "      <td>0.808487</td>\n",
              "    </tr>\n",
              "  </tbody>\n",
              "</table>\n",
              "</div>"
            ],
            "text/plain": [
              "   labels         1         2         3  ...        25        26        27        28\n",
              "0     1.0  0.869293 -0.635082  0.225690  ...  0.920005  0.721657  0.988751  0.876678\n",
              "1     1.0  0.907542  0.329147  0.359412  ...  0.978098  0.779732  0.992356  0.798343\n",
              "2     1.0  0.798835  1.470639 -1.635975  ...  0.951331  0.803252  0.865924  0.780118\n",
              "3     0.0  1.344385 -0.876626  0.935913  ...  0.728281  0.869200  1.026736  0.957904\n",
              "4     1.0  1.105009  0.321356  1.522401  ...  0.838085  1.133295  0.872245  0.808487\n",
              "\n",
              "[5 rows x 29 columns]"
            ]
          },
          "metadata": {
            "tags": []
          },
          "execution_count": 24
        }
      ]
    },
    {
      "cell_type": "code",
      "metadata": {
        "id": "qGwYSM86GefE",
        "colab_type": "code",
        "colab": {}
      },
      "source": [
        "feat_names=\"lepton pT, lepton eta, lepton phi, missing energy magnitude, missing energy phi, jet 1 pt, jet 1 eta, jet 1 phi, jet 1 b-tag, jet 2 pt, jet 2 eta, jet 2 phi, jet 2 b-tag, jet 3 pt, jet 3 eta, jet 3 phi, jet 3 b-tag, jet 4 pt, jet 4 eta, jet 4 phi, jet 4 b-tag, m_jj, m_jjj, m_lv, m_jlv, m_bb, m_wbb, m_wwbb\""
      ],
      "execution_count": 0,
      "outputs": []
    },
    {
      "cell_type": "code",
      "metadata": {
        "id": "a3FVVgbzHEho",
        "colab_type": "code",
        "colab": {}
      },
      "source": [
        "feat_names_list=feat_names.split(\", \")"
      ],
      "execution_count": 0,
      "outputs": []
    },
    {
      "cell_type": "code",
      "metadata": {
        "id": "rzm0FviJHQNy",
        "colab_type": "code",
        "outputId": "ab3a14c4-0bf8-4416-b9d4-417228f9762d",
        "colab": {
          "base_uri": "https://localhost:8080/",
          "height": 55
        }
      },
      "source": [
        "print(feat_names_list)"
      ],
      "execution_count": 0,
      "outputs": [
        {
          "output_type": "stream",
          "text": [
            "['lepton pT', 'lepton eta', 'lepton phi', 'missing energy magnitude', 'missing energy phi', 'jet 1 pt', 'jet 1 eta', 'jet 1 phi', 'jet 1 b-tag', 'jet 2 pt', 'jet 2 eta', 'jet 2 phi', 'jet 2 b-tag', 'jet 3 pt', 'jet 3 eta', 'jet 3 phi', 'jet 3 b-tag', 'jet 4 pt', 'jet 4 eta', 'jet 4 phi', 'jet 4 b-tag', 'm_jj', 'm_jjj', 'm_lv', 'm_jlv', 'm_bb', 'm_wbb', 'm_wwbb']\n"
          ],
          "name": "stdout"
        }
      ]
    },
    {
      "cell_type": "code",
      "metadata": {
        "id": "AhFq-kM8HSC3",
        "colab_type": "code",
        "colab": {}
      },
      "source": [
        "def create_dict_names(nms):\n",
        "  num_feat = len(nms)\n",
        "  dict_keys=[]\n",
        "  for i in range(1,num_feat+1):\n",
        "    dict_keys.append(str(i))\n",
        "  dict_names=dict(zip(dict_keys,nms))\n",
        "  return dict_names\n"
      ],
      "execution_count": 0,
      "outputs": []
    },
    {
      "cell_type": "code",
      "metadata": {
        "id": "tCj5NXp4IwAY",
        "colab_type": "code",
        "colab": {}
      },
      "source": [
        "dict_col=create_dict_names(feat_names_list)"
      ],
      "execution_count": 0,
      "outputs": []
    },
    {
      "cell_type": "code",
      "metadata": {
        "id": "dWs4ncq2JDAy",
        "colab_type": "code",
        "outputId": "16ee9582-ae3f-4ab9-9cb7-2b5a91002028",
        "colab": {
          "base_uri": "https://localhost:8080/",
          "height": 55
        }
      },
      "source": [
        "print(dict_col)"
      ],
      "execution_count": 0,
      "outputs": [
        {
          "output_type": "stream",
          "text": [
            "{'1': 'lepton pT', '2': 'lepton eta', '3': 'lepton phi', '4': 'missing energy magnitude', '5': 'missing energy phi', '6': 'jet 1 pt', '7': 'jet 1 eta', '8': 'jet 1 phi', '9': 'jet 1 b-tag', '10': 'jet 2 pt', '11': 'jet 2 eta', '12': 'jet 2 phi', '13': 'jet 2 b-tag', '14': 'jet 3 pt', '15': 'jet 3 eta', '16': 'jet 3 phi', '17': 'jet 3 b-tag', '18': 'jet 4 pt', '19': 'jet 4 eta', '20': 'jet 4 phi', '21': 'jet 4 b-tag', '22': 'm_jj', '23': 'm_jjj', '24': 'm_lv', '25': 'm_jlv', '26': 'm_bb', '27': 'm_wbb', '28': 'm_wwbb'}\n"
          ],
          "name": "stdout"
        }
      ]
    },
    {
      "cell_type": "code",
      "metadata": {
        "id": "Bfgf7DP7JFQD",
        "colab_type": "code",
        "colab": {}
      },
      "source": [
        "data_higgs.rename(dict_col,axis=1,inplace=True)"
      ],
      "execution_count": 0,
      "outputs": []
    },
    {
      "cell_type": "code",
      "metadata": {
        "id": "bed_wBw-JNLe",
        "colab_type": "code",
        "outputId": "762faf2e-1c15-49e4-e13f-1151fdff5aae",
        "colab": {
          "base_uri": "https://localhost:8080/",
          "height": 254
        }
      },
      "source": [
        "data_higgs.tail()"
      ],
      "execution_count": 0,
      "outputs": [
        {
          "output_type": "execute_result",
          "data": {
            "text/html": [
              "<div>\n",
              "<style scoped>\n",
              "    .dataframe tbody tr th:only-of-type {\n",
              "        vertical-align: middle;\n",
              "    }\n",
              "\n",
              "    .dataframe tbody tr th {\n",
              "        vertical-align: top;\n",
              "    }\n",
              "\n",
              "    .dataframe thead th {\n",
              "        text-align: right;\n",
              "    }\n",
              "</style>\n",
              "<table border=\"1\" class=\"dataframe\">\n",
              "  <thead>\n",
              "    <tr style=\"text-align: right;\">\n",
              "      <th></th>\n",
              "      <th>labels</th>\n",
              "      <th>lepton pT</th>\n",
              "      <th>lepton eta</th>\n",
              "      <th>lepton phi</th>\n",
              "      <th>missing energy magnitude</th>\n",
              "      <th>missing energy phi</th>\n",
              "      <th>jet 1 pt</th>\n",
              "      <th>jet 1 eta</th>\n",
              "      <th>jet 1 phi</th>\n",
              "      <th>jet 1 b-tag</th>\n",
              "      <th>jet 2 pt</th>\n",
              "      <th>jet 2 eta</th>\n",
              "      <th>jet 2 phi</th>\n",
              "      <th>jet 2 b-tag</th>\n",
              "      <th>jet 3 pt</th>\n",
              "      <th>jet 3 eta</th>\n",
              "      <th>jet 3 phi</th>\n",
              "      <th>jet 3 b-tag</th>\n",
              "      <th>jet 4 pt</th>\n",
              "      <th>jet 4 eta</th>\n",
              "      <th>jet 4 phi</th>\n",
              "      <th>jet 4 b-tag</th>\n",
              "      <th>m_jj</th>\n",
              "      <th>m_jjj</th>\n",
              "      <th>m_lv</th>\n",
              "      <th>m_jlv</th>\n",
              "      <th>m_bb</th>\n",
              "      <th>m_wbb</th>\n",
              "      <th>m_wwbb</th>\n",
              "    </tr>\n",
              "  </thead>\n",
              "  <tbody>\n",
              "    <tr>\n",
              "      <th>9995</th>\n",
              "      <td>1.0</td>\n",
              "      <td>0.743017</td>\n",
              "      <td>0.390507</td>\n",
              "      <td>-0.431368</td>\n",
              "      <td>0.734279</td>\n",
              "      <td>0.491310</td>\n",
              "      <td>1.748141</td>\n",
              "      <td>1.165475</td>\n",
              "      <td>-1.033300</td>\n",
              "      <td>0.000000</td>\n",
              "      <td>1.185004</td>\n",
              "      <td>0.622711</td>\n",
              "      <td>1.473527</td>\n",
              "      <td>2.214872</td>\n",
              "      <td>1.710025</td>\n",
              "      <td>0.204979</td>\n",
              "      <td>0.068693</td>\n",
              "      <td>0.000000</td>\n",
              "      <td>2.261983</td>\n",
              "      <td>-0.340253</td>\n",
              "      <td>1.074148</td>\n",
              "      <td>3.101961</td>\n",
              "      <td>0.768013</td>\n",
              "      <td>1.058611</td>\n",
              "      <td>0.979336</td>\n",
              "      <td>1.028349</td>\n",
              "      <td>0.964556</td>\n",
              "      <td>0.915222</td>\n",
              "      <td>0.816399</td>\n",
              "    </tr>\n",
              "    <tr>\n",
              "      <th>9996</th>\n",
              "      <td>0.0</td>\n",
              "      <td>2.778078</td>\n",
              "      <td>-0.498726</td>\n",
              "      <td>-0.236057</td>\n",
              "      <td>0.625503</td>\n",
              "      <td>0.443076</td>\n",
              "      <td>1.353130</td>\n",
              "      <td>0.014828</td>\n",
              "      <td>1.449298</td>\n",
              "      <td>2.173076</td>\n",
              "      <td>0.546673</td>\n",
              "      <td>-1.020853</td>\n",
              "      <td>0.302282</td>\n",
              "      <td>2.214872</td>\n",
              "      <td>0.933779</td>\n",
              "      <td>-0.389414</td>\n",
              "      <td>1.713483</td>\n",
              "      <td>0.000000</td>\n",
              "      <td>0.560567</td>\n",
              "      <td>0.779062</td>\n",
              "      <td>0.496485</td>\n",
              "      <td>0.000000</td>\n",
              "      <td>0.921317</td>\n",
              "      <td>0.814733</td>\n",
              "      <td>1.050062</td>\n",
              "      <td>1.759452</td>\n",
              "      <td>1.297594</td>\n",
              "      <td>1.164259</td>\n",
              "      <td>0.962886</td>\n",
              "    </tr>\n",
              "    <tr>\n",
              "      <th>9997</th>\n",
              "      <td>0.0</td>\n",
              "      <td>0.602100</td>\n",
              "      <td>2.008270</td>\n",
              "      <td>-1.646517</td>\n",
              "      <td>0.566484</td>\n",
              "      <td>-1.323110</td>\n",
              "      <td>0.597096</td>\n",
              "      <td>0.511923</td>\n",
              "      <td>0.191420</td>\n",
              "      <td>1.086538</td>\n",
              "      <td>0.315388</td>\n",
              "      <td>0.884982</td>\n",
              "      <td>-1.698540</td>\n",
              "      <td>0.000000</td>\n",
              "      <td>0.554261</td>\n",
              "      <td>0.456207</td>\n",
              "      <td>0.578494</td>\n",
              "      <td>2.548224</td>\n",
              "      <td>0.701986</td>\n",
              "      <td>2.048285</td>\n",
              "      <td>-0.696127</td>\n",
              "      <td>0.000000</td>\n",
              "      <td>0.711091</td>\n",
              "      <td>0.863039</td>\n",
              "      <td>0.986306</td>\n",
              "      <td>0.672815</td>\n",
              "      <td>0.244809</td>\n",
              "      <td>0.607074</td>\n",
              "      <td>0.588277</td>\n",
              "    </tr>\n",
              "    <tr>\n",
              "      <th>9998</th>\n",
              "      <td>0.0</td>\n",
              "      <td>0.771017</td>\n",
              "      <td>-1.224333</td>\n",
              "      <td>0.076987</td>\n",
              "      <td>0.819454</td>\n",
              "      <td>1.574369</td>\n",
              "      <td>0.411866</td>\n",
              "      <td>-0.686255</td>\n",
              "      <td>-1.531129</td>\n",
              "      <td>2.173076</td>\n",
              "      <td>0.463828</td>\n",
              "      <td>-0.374890</td>\n",
              "      <td>1.292098</td>\n",
              "      <td>2.214872</td>\n",
              "      <td>0.853520</td>\n",
              "      <td>1.098843</td>\n",
              "      <td>-0.351900</td>\n",
              "      <td>0.000000</td>\n",
              "      <td>0.688842</td>\n",
              "      <td>2.454702</td>\n",
              "      <td>-0.137882</td>\n",
              "      <td>0.000000</td>\n",
              "      <td>0.847904</td>\n",
              "      <td>1.234889</td>\n",
              "      <td>1.074361</td>\n",
              "      <td>0.675443</td>\n",
              "      <td>0.374609</td>\n",
              "      <td>1.027287</td>\n",
              "      <td>1.185665</td>\n",
              "    </tr>\n",
              "    <tr>\n",
              "      <th>9999</th>\n",
              "      <td>0.0</td>\n",
              "      <td>0.545184</td>\n",
              "      <td>-1.011034</td>\n",
              "      <td>0.280067</td>\n",
              "      <td>0.152822</td>\n",
              "      <td>-0.196007</td>\n",
              "      <td>1.035253</td>\n",
              "      <td>-1.189291</td>\n",
              "      <td>-1.137523</td>\n",
              "      <td>2.173076</td>\n",
              "      <td>0.904491</td>\n",
              "      <td>-0.748869</td>\n",
              "      <td>1.411941</td>\n",
              "      <td>0.000000</td>\n",
              "      <td>2.141175</td>\n",
              "      <td>-0.616065</td>\n",
              "      <td>0.411519</td>\n",
              "      <td>0.000000</td>\n",
              "      <td>0.742879</td>\n",
              "      <td>-1.082298</td>\n",
              "      <td>-0.181720</td>\n",
              "      <td>1.550981</td>\n",
              "      <td>1.676911</td>\n",
              "      <td>1.059162</td>\n",
              "      <td>0.983805</td>\n",
              "      <td>1.137410</td>\n",
              "      <td>0.705999</td>\n",
              "      <td>1.035395</td>\n",
              "      <td>0.914397</td>\n",
              "    </tr>\n",
              "  </tbody>\n",
              "</table>\n",
              "</div>"
            ],
            "text/plain": [
              "      labels  lepton pT  lepton eta  ...      m_bb     m_wbb    m_wwbb\n",
              "9995     1.0   0.743017    0.390507  ...  0.964556  0.915222  0.816399\n",
              "9996     0.0   2.778078   -0.498726  ...  1.297594  1.164259  0.962886\n",
              "9997     0.0   0.602100    2.008270  ...  0.244809  0.607074  0.588277\n",
              "9998     0.0   0.771017   -1.224333  ...  0.374609  1.027287  1.185665\n",
              "9999     0.0   0.545184   -1.011034  ...  0.705999  1.035395  0.914397\n",
              "\n",
              "[5 rows x 29 columns]"
            ]
          },
          "metadata": {
            "tags": []
          },
          "execution_count": 37
        }
      ]
    },
    {
      "cell_type": "code",
      "metadata": {
        "id": "yHcNYkVyJa0Q",
        "colab_type": "code",
        "colab": {}
      },
      "source": [
        "from matplotlib import pylab as plt "
      ],
      "execution_count": 0,
      "outputs": []
    },
    {
      "cell_type": "code",
      "metadata": {
        "id": "UiRtWrDTKPqw",
        "colab_type": "code",
        "outputId": "6d3e2bb9-9365-4d3a-ad28-47b36ae60cfc",
        "colab": {
          "base_uri": "https://localhost:8080/",
          "height": 316
        }
      },
      "source": [
        "data_higgs[data_higgs.labels==1].hist(\"lepton pT\",bins=50)"
      ],
      "execution_count": 0,
      "outputs": [
        {
          "output_type": "execute_result",
          "data": {
            "text/plain": [
              "array([[<matplotlib.axes._subplots.AxesSubplot object at 0x7f2de993abe0>]],\n",
              "      dtype=object)"
            ]
          },
          "metadata": {
            "tags": []
          },
          "execution_count": 42
        },
        {
          "output_type": "display_data",
          "data": {
            "image/png": "[encoded data removed]",
            "text/plain": [
              "<Figure size 432x288 with 1 Axes>"
            ]
          },
          "metadata": {
            "tags": []
          }
        }
      ]
    },
    {
      "cell_type": "code",
      "metadata": {
        "id": "qIeFMGkhKiKP",
        "colab_type": "code",
        "outputId": "b271e03f-681f-486c-baa6-5a00005dde02",
        "colab": {
          "base_uri": "https://localhost:8080/",
          "height": 316
        }
      },
      "source": [
        "data_higgs[data_higgs.labels==0].hist(\"lepton pT\",bins=50)"
      ],
      "execution_count": 0,
      "outputs": [
        {
          "output_type": "execute_result",
          "data": {
            "text/plain": [
              "array([[<matplotlib.axes._subplots.AxesSubplot object at 0x7f2de979cc18>]],\n",
              "      dtype=object)"
            ]
          },
          "metadata": {
            "tags": []
          },
          "execution_count": 43
        },
        {
          "output_type": "display_data",
          "data": {
            "image/png": "[encoded data removed]",
            "text/plain": [
              "<Figure size 432x288 with 1 Axes>"
            ]
          },
          "metadata": {
            "tags": []
          }
        }
      ]
    },
    {
      "cell_type": "code",
      "metadata": {
        "id": "komsbQxFKyWK",
        "colab_type": "code",
        "colab": {}
      },
      "source": [
        ""
      ],
      "execution_count": 0,
      "outputs": []
    }
  ]
}