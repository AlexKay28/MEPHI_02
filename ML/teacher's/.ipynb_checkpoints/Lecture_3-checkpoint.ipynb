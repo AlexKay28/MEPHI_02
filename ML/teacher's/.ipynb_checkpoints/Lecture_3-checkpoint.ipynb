{
 "cells": [
  {
   "cell_type": "code",
   "execution_count": 0,
   "metadata": {
    "colab": {},
    "colab_type": "code",
    "id": "ydwRHHjeduD6"
   },
   "outputs": [],
   "source": [
    "import pandas as pd"
   ]
  },
  {
   "cell_type": "code",
   "execution_count": 0,
   "metadata": {
    "colab": {},
    "colab_type": "code",
    "id": "imW_GcBrd-dE"
   },
   "outputs": [],
   "source": [
    "import numpy as np\n",
    "import sklearn as sk"
   ]
  },
  {
   "cell_type": "code",
   "execution_count": 0,
   "metadata": {
    "colab": {},
    "colab_type": "code",
    "id": "Ccj2y-MreCU-"
   },
   "outputs": [],
   "source": [
    "from sklearn import datasets\n",
    "from matplotlib import pylab as plt"
   ]
  },
  {
   "cell_type": "code",
   "execution_count": 0,
   "metadata": {
    "colab": {},
    "colab_type": "code",
    "id": "BVQ_Ewelfq5z"
   },
   "outputs": [],
   "source": [
    "from matplotlib.colors import ListedColormap"
   ]
  },
  {
   "cell_type": "code",
   "execution_count": 0,
   "metadata": {
    "colab": {},
    "colab_type": "code",
    "id": "xGIiw7VUf7ZV"
   },
   "outputs": [],
   "source": [
    "colors = ListedColormap(['red', 'green'])"
   ]
  },
  {
   "cell_type": "code",
   "execution_count": 0,
   "metadata": {
    "colab": {},
    "colab_type": "code",
    "id": "HiRPy_NTghp9"
   },
   "outputs": [],
   "source": [
    "class_data = datasets.make_classification(n_features = 4, n_informative = 3, \n",
    "                                                  n_redundant = 1, n_clusters_per_class = 4,\n",
    "                                                            random_state = 1 )"
   ]
  },
  {
   "cell_type": "code",
   "execution_count": 77,
   "metadata": {
    "colab": {
     "base_uri": "https://localhost:8080/",
     "height": 609
    },
    "colab_type": "code",
    "id": "azbOqcZng61X",
    "outputId": "a1008e1f-9d49-4ca7-c9c9-6a8e962ae19e"
   },
   "outputs": [
    {
     "data": {
      "text/plain": [
       "<matplotlib.collections.PathCollection at 0x7f9f3899bb70>"
      ]
     },
     "execution_count": 77,
     "metadata": {
      "tags": []
     },
     "output_type": "execute_result"
    },
    {
     "data": {
      "image/png": "[encoded data removed]",
      "text/plain": [
       "<Figure size 720x720 with 1 Axes>"
      ]
     },
     "metadata": {
      "tags": []
     },
     "output_type": "display_data"
    }
   ],
   "source": [
    "plt.figure(figsize=(10,10))\n",
    "plt.scatter(list(map(lambda x: x[2], class_data[0])), list(map(lambda x: x[1], class_data[0])), c = class_data[1], cmap = colors)"
   ]
  },
  {
   "cell_type": "code",
   "execution_count": 78,
   "metadata": {
    "colab": {
     "base_uri": "https://localhost:8080/",
     "height": 1000
    },
    "colab_type": "code",
    "id": "I-Rs_U0LhHwd",
    "outputId": "d4b988b9-67ef-4cd9-92ad-9f5117c1acec"
   },
   "outputs": [
    {
     "data": {
      "text/plain": [
       "(array([[ 1.84761723e+00, -1.89677077e-01,  4.79646613e-01,\n",
       "          1.88948174e+00],\n",
       "        [-4.79269044e-01, -2.89409654e-03, -5.32464697e-01,\n",
       "         -9.11973547e-01],\n",
       "        [ 1.18966850e-01,  1.32473429e-01,  1.49136960e+00,\n",
       "          1.61390050e+00],\n",
       "        [ 1.81386350e+00,  4.38156634e-01,  1.78287634e+00,\n",
       "          3.40423447e+00],\n",
       "        [ 1.11059049e+00, -1.43337896e+00,  1.40130544e-01,\n",
       "          4.33454727e-01],\n",
       "        [-1.06693967e-01,  1.84756203e+00, -2.36466452e+00,\n",
       "         -1.62363042e+00],\n",
       "        [ 6.19992926e-01, -6.29657169e-01, -1.25301912e+00,\n",
       "         -9.90517916e-01],\n",
       "        [-2.86764816e+00, -1.14140976e-01, -1.60109567e+00,\n",
       "         -3.94456339e+00],\n",
       "        [-9.37855223e-02,  3.05198745e+00, -3.60790980e+00,\n",
       "         -2.32286011e+00],\n",
       "        [-5.16067302e-01, -3.45595625e-01,  1.07090036e-01,\n",
       "         -4.59837385e-01],\n",
       "        [-1.32370128e+00,  9.83328302e-01,  6.35088892e-01,\n",
       "         -3.68055404e-02],\n",
       "        [-5.92325378e-01,  7.88406399e-01, -3.58723753e-01,\n",
       "         -4.99359052e-01],\n",
       "        [-1.90072990e+00, -2.60565867e-01, -1.19245527e+00,\n",
       "         -2.82119037e+00],\n",
       "        [-7.83130822e-01,  4.01564489e-01,  3.65493734e-01,\n",
       "         -1.07894189e-01],\n",
       "        [-1.04170741e+00,  1.33709364e+00, -1.72377806e+00,\n",
       "         -1.97003650e+00],\n",
       "        [ 8.87039309e-01, -2.05641232e+00, -2.13726808e+00,\n",
       "         -2.24270283e+00],\n",
       "        [-2.40060646e+00, -4.68300609e+00,  2.24779234e+00,\n",
       "         -1.72311831e+00],\n",
       "        [ 8.58729884e-01, -9.89471340e-01, -9.10743912e-01,\n",
       "         -6.13285153e-01],\n",
       "        [-9.96589485e-01, -1.23132732e+00,  1.92797649e+00,\n",
       "          5.60471478e-01],\n",
       "        [ 2.65874606e+00,  2.07226353e+00,  6.00890402e-01,\n",
       "          3.62171027e+00],\n",
       "        [-7.59511272e-01,  2.31078988e+00, -3.57409059e+00,\n",
       "         -3.14300288e+00],\n",
       "        [ 9.22987911e-01, -1.96260229e+00, -1.86355795e+00,\n",
       "         -1.90570406e+00],\n",
       "        [-1.34197689e+00, -1.22806182e+00,  2.57144903e+00,\n",
       "          9.12072744e-01],\n",
       "        [ 1.28139673e+00, -1.73314395e+00, -1.16693980e+00,\n",
       "         -8.35301702e-01],\n",
       "        [ 2.56507659e+00,  5.74498747e-01, -5.39231699e-01,\n",
       "          1.79604533e+00],\n",
       "        [ 2.46131224e+00, -1.76947079e-02, -5.70495300e-01,\n",
       "          1.43114200e+00],\n",
       "        [ 5.09933850e-01,  8.85749469e-01, -3.45401323e-01,\n",
       "          4.49412876e-01],\n",
       "        [-1.56700956e+00,  1.76502024e+00,  1.05194673e+00,\n",
       "          5.04269599e-01],\n",
       "        [ 1.93251071e-01,  1.33478240e+00, -1.23248334e+00,\n",
       "         -4.87271864e-01],\n",
       "        [ 2.85886788e-01,  1.37190233e+00, -2.14165921e+00,\n",
       "         -1.28732411e+00],\n",
       "        [ 5.63175165e-01,  7.69675329e-01,  2.56218137e+00,\n",
       "          3.29278321e+00],\n",
       "        [-1.39368080e+00, -3.33596558e+00,  1.75392494e+00,\n",
       "         -8.21043105e-01],\n",
       "        [-1.20932413e+00, -1.21742467e+00, -1.01691749e+00,\n",
       "         -2.49204979e+00],\n",
       "        [-5.53519114e-01,  2.29344566e-01, -5.02211820e-01,\n",
       "         -8.44529612e-01],\n",
       "        [ 1.05354595e+00, -1.20847659e+00,  3.92587070e-01,\n",
       "          7.29504935e-01],\n",
       "        [ 2.28535535e+00, -8.31664559e-03,  1.76287962e-01,\n",
       "          2.02407255e+00],\n",
       "        [-1.13536195e+00,  1.41702874e+00, -1.99509890e+00,\n",
       "         -2.27816621e+00],\n",
       "        [-3.09688650e-01, -8.91155283e-01, -1.99859847e+00,\n",
       "         -2.58608232e+00],\n",
       "        [-1.02850575e+00, -8.79834745e-01, -8.53541299e-01,\n",
       "         -2.04265451e+00],\n",
       "        [ 6.78640746e-01,  1.20287423e+00,  1.09354764e+00,\n",
       "          2.13028391e+00],\n",
       "        [-5.10627406e-01, -1.49737840e+00, -7.98142962e-01,\n",
       "         -1.82880387e+00],\n",
       "        [ 1.95174706e-01,  2.12677733e+00,  1.61204423e+00,\n",
       "          2.63608725e+00],\n",
       "        [-7.61264112e-01,  3.16507338e-01, -4.97482305e-01,\n",
       "         -9.71700859e-01],\n",
       "        [-8.76288975e-01, -3.94301700e-01,  3.04617873e-01,\n",
       "         -5.79206455e-01],\n",
       "        [ 1.17979374e+00, -8.61563678e-01, -1.49506525e+00,\n",
       "         -8.71277794e-01],\n",
       "        [ 6.22319514e-01,  1.24451106e+00,  4.16063641e-01,\n",
       "          1.43827988e+00],\n",
       "        [-3.40944903e-01,  1.48858176e-01,  2.57215616e-01,\n",
       "          3.81854949e-02],\n",
       "        [-2.85642900e-01, -2.13071484e+00, -1.47835074e+00,\n",
       "         -2.58016792e+00],\n",
       "        [ 4.68905131e-01,  1.28596467e+00, -1.86526674e+00,\n",
       "         -9.04229847e-01],\n",
       "        [-1.66380131e+00,  8.95440561e-01, -2.18067866e+00,\n",
       "         -3.10914712e+00],\n",
       "        [-1.16795137e+00,  1.03990378e+00, -1.87116221e+00,\n",
       "         -2.34240865e+00],\n",
       "        [ 1.42360581e+00,  9.03446319e-01, -1.40363093e+00,\n",
       "          1.61468640e-01],\n",
       "        [ 2.50272665e+00, -2.52717417e+00, -2.71605891e+00,\n",
       "         -1.69732022e+00],\n",
       "        [ 2.08990189e+00,  9.12709522e-02,  8.16047130e-01,\n",
       "          2.53439579e+00],\n",
       "        [-1.09072850e+00,  1.35007082e+00, -3.80879369e-01,\n",
       "         -6.88423058e-01],\n",
       "        [ 2.21450578e+00, -2.76889970e-02, -1.13650013e+00,\n",
       "          6.71975159e-01],\n",
       "        [ 1.62624557e+00,  7.73235035e-01, -1.09533059e+00,\n",
       "          5.73060570e-01],\n",
       "        [-7.62194935e-01, -1.45264953e+00,  6.20795524e-01,\n",
       "         -6.23661802e-01],\n",
       "        [-7.85344215e-01, -3.55943624e-01,  1.28892112e+00,\n",
       "          4.75331484e-01],\n",
       "        [-1.52000850e+00,  9.63744794e-01, -1.03500556e+00,\n",
       "         -1.84094410e+00],\n",
       "        [-1.67829999e-01, -2.13781155e+00, -9.56395482e-01,\n",
       "         -1.97607592e+00],\n",
       "        [-4.67271004e-01, -2.25913715e+00, -1.06315333e+00,\n",
       "         -2.37495016e+00],\n",
       "        [-9.19761150e-01, -1.33479707e+00,  1.17609263e+00,\n",
       "         -1.57641547e-01],\n",
       "        [-5.45420178e-01,  1.25938431e+00,  2.59904039e+00,\n",
       "          2.63592184e+00],\n",
       "        [-1.48339967e+00,  9.72527397e-01,  2.41926746e-01,\n",
       "         -5.56244069e-01],\n",
       "        [ 1.38337648e+00,  3.26330873e-01,  1.94143588e+00,\n",
       "          3.16299930e+00],\n",
       "        [-5.54742287e-01,  2.58209737e+00,  1.88711399e+00,\n",
       "          2.48924066e+00],\n",
       "        [-1.20122524e+00,  8.37526869e-01,  9.07998815e-01,\n",
       "          2.68461688e-01],\n",
       "        [ 1.78843688e+00, -2.65581412e-01,  1.50588664e+00,\n",
       "          2.81502285e+00],\n",
       "        [-2.40336913e+00,  9.86774152e-01, -7.65843329e-01,\n",
       "         -2.28441747e+00],\n",
       "        [ 9.85405609e-01, -1.17054658e+00,  9.28769403e-01,\n",
       "          1.21562732e+00],\n",
       "        [ 1.72876139e+00,  5.50891610e-01, -7.97418809e-01,\n",
       "          8.54307810e-01],\n",
       "        [ 2.30414055e-02, -7.96133556e-01, -4.85551474e-01,\n",
       "         -7.93259423e-01],\n",
       "        [-1.49842543e+00,  9.57412813e-01, -9.26155564e-02,\n",
       "         -9.02642789e-01],\n",
       "        [ 2.34199063e+00, -2.21606699e-01, -5.95001486e-01,\n",
       "          1.22418365e+00],\n",
       "        [ 8.21167365e-01, -1.39585091e+00,  7.87679962e-01,\n",
       "          8.48939829e-01],\n",
       "        [ 1.45730390e+00, -7.58384738e-01,  1.16117964e+00,\n",
       "          2.00040337e+00],\n",
       "        [-1.41549745e+00, -7.52865196e-01, -1.31135547e+00,\n",
       "         -2.75174893e+00],\n",
       "        [-8.34455111e-01,  3.88271036e-01,  5.89092167e-01,\n",
       "          6.39433710e-02],\n",
       "        [-9.37760376e-01, -9.52275228e-01,  3.76097211e-01,\n",
       "         -7.94655954e-01],\n",
       "        [ 3.33558762e+00, -1.10406404e+00,  8.82012976e-01,\n",
       "          3.10533448e+00],\n",
       "        [-8.89990898e-01, -4.65950622e-01, -2.81384805e-01,\n",
       "         -1.19481068e+00],\n",
       "        [-4.18414258e-01,  1.22806598e-01, -5.34997841e-01,\n",
       "         -8.11988422e-01],\n",
       "        [ 3.56070483e-01,  1.70478860e+00, -1.31320741e+00,\n",
       "         -2.77993651e-01],\n",
       "        [-9.63245723e-01,  1.78132693e+00,  2.87025523e+00,\n",
       "          2.78296055e+00],\n",
       "        [ 4.73003677e-01, -1.81635478e+00,  1.29198591e+00,\n",
       "          8.82982571e-01],\n",
       "        [-7.49909823e-01, -2.85902023e+00,  2.09998689e+00,\n",
       "          2.41951083e-01],\n",
       "        [ 9.35141068e-01, -1.19310912e+00, -4.32336694e-01,\n",
       "         -1.68457215e-01],\n",
       "        [-6.64385377e-01,  1.40411983e+00, -1.63354581e+00,\n",
       "         -1.54707379e+00],\n",
       "        [-1.78522729e-01, -3.67672899e+00, -1.44339019e+00,\n",
       "         -3.11176556e+00],\n",
       "        [-1.78724590e+00, -1.20588652e+00,  2.22152408e+00,\n",
       "          2.17152280e-01],\n",
       "        [-7.46661474e-01,  2.45712373e+00,  5.48600407e-01,\n",
       "          9.69082594e-01],\n",
       "        [-2.53937684e+00, -4.23122800e-01, -1.41364184e+00,\n",
       "         -3.62491020e+00],\n",
       "        [-1.25506108e+00,  8.75498881e-01, -1.27183722e+00,\n",
       "         -1.89524292e+00],\n",
       "        [-1.33667468e+00,  1.30455808e+00,  1.71719376e+00,\n",
       "          1.14866841e+00],\n",
       "        [-2.49459635e+00,  1.35032248e+00, -9.10503051e-01,\n",
       "         -2.34670635e+00],\n",
       "        [-7.72348142e-01,  1.83082099e+00, -2.27900039e+00,\n",
       "         -2.08701365e+00],\n",
       "        [ 1.40900248e+00,  4.39053564e-01,  1.81346664e+00,\n",
       "          3.10599605e+00],\n",
       "        [-4.91205563e-01,  2.05174807e+00, -2.01684350e+00,\n",
       "         -1.50865741e+00],\n",
       "        [ 1.40473973e+00,  8.37158333e-01,  1.92459513e+00,\n",
       "          3.37953000e+00]]),\n",
       " array([0, 0, 1, 1, 0, 1, 0, 0, 1, 0, 1, 0, 0, 1, 1, 0, 0, 0, 0, 0, 1, 0,\n",
       "        0, 0, 1, 0, 1, 1, 1, 1, 1, 0, 0, 0, 0, 1, 1, 0, 0, 1, 0, 1, 0, 0,\n",
       "        0, 1, 1, 0, 1, 1, 1, 1, 0, 1, 0, 0, 1, 0, 1, 1, 0, 0, 0, 1, 1, 1,\n",
       "        1, 1, 0, 1, 0, 1, 1, 1, 0, 0, 1, 0, 0, 0, 1, 0, 0, 1, 1, 0, 0, 0,\n",
       "        1, 0, 0, 1, 0, 1, 1, 1, 1, 1, 1, 1]))"
      ]
     },
     "execution_count": 78,
     "metadata": {
      "tags": []
     },
     "output_type": "execute_result"
    }
   ],
   "source": [
    "class_data"
   ]
  },
  {
   "cell_type": "code",
   "execution_count": 0,
   "metadata": {
    "colab": {},
    "colab_type": "code",
    "id": "-lYWWajAikhY"
   },
   "outputs": [],
   "source": [
    "regr_data = datasets.make_regression(n_features=3)"
   ]
  },
  {
   "cell_type": "code",
   "execution_count": 80,
   "metadata": {
    "colab": {
     "base_uri": "https://localhost:8080/",
     "height": 34
    },
    "colab_type": "code",
    "id": "L_qgQ_2bjG6C",
    "outputId": "d41ee3de-79f9-49d5-b940-9d45efe718d4"
   },
   "outputs": [
    {
     "data": {
      "text/plain": [
       "tuple"
      ]
     },
     "execution_count": 80,
     "metadata": {
      "tags": []
     },
     "output_type": "execute_result"
    }
   ],
   "source": [
    "type(regr_data)"
   ]
  },
  {
   "cell_type": "code",
   "execution_count": 0,
   "metadata": {
    "colab": {},
    "colab_type": "code",
    "id": "Qj71JUU3pThQ"
   },
   "outputs": [],
   "source": [
    "from pprint import pprint"
   ]
  },
  {
   "cell_type": "code",
   "execution_count": 82,
   "metadata": {
    "colab": {
     "base_uri": "https://localhost:8080/",
     "height": 1000
    },
    "colab_type": "code",
    "id": "8hgEbo8ppYO6",
    "outputId": "701aa641-820d-421e-ec63-a6de4abdf194"
   },
   "outputs": [
    {
     "name": "stdout",
     "output_type": "stream",
     "text": [
      "(array([[-2.72683598e-01,  4.82414853e-02, -6.10436436e-01],\n",
      "       [ 9.80178887e-01, -1.00636931e+00,  5.43389184e-01],\n",
      "       [-2.93577428e-01, -8.29700030e-01,  1.25378437e-02],\n",
      "       [ 9.60058150e-01,  1.62385235e+00, -7.89683394e-01],\n",
      "       [-7.47086555e-01,  2.11102130e+00, -5.69373679e-01],\n",
      "       [-5.19231581e-01, -2.28979412e+00,  1.00577538e+00],\n",
      "       [ 1.50512872e+00,  1.19087430e+00, -3.84852308e-01],\n",
      "       [-1.41581783e+00,  2.96828823e-01, -3.93032440e-01],\n",
      "       [ 9.62283262e-02,  7.65495327e-01, -1.76222679e-01],\n",
      "       [ 1.62115712e+00,  2.56259393e+00,  4.81346035e-01],\n",
      "       [-1.36689361e+00, -1.18137712e+00,  1.07447666e+00],\n",
      "       [-5.32369022e-01,  1.97509811e+00, -5.77132028e-01],\n",
      "       [-9.08552647e-01,  6.43601072e-03,  1.78740559e-01],\n",
      "       [ 3.66690147e-01, -2.89900466e-01, -9.47870841e-01],\n",
      "       [-8.35842674e-01,  7.19622530e-01, -1.59117033e+00],\n",
      "       [ 7.59099185e-01, -1.24534373e+00, -6.78853590e-01],\n",
      "       [ 4.94738133e-01,  1.60064141e+00,  6.11128719e-01],\n",
      "       [-1.14404509e+00, -7.10020562e-01, -6.86083079e-01],\n",
      "       [ 3.71693398e-01,  1.07274432e+00,  3.62540006e-01],\n",
      "       [ 9.34283747e-01, -9.72576821e-01, -1.96446052e+00],\n",
      "       [ 8.02525290e-01,  1.13961455e+00,  3.43207663e-01],\n",
      "       [-4.77749164e-01, -4.33416687e-01,  1.02135366e+00],\n",
      "       [ 2.02605565e+00, -1.30258174e+00, -1.04950891e+00],\n",
      "       [-6.57978907e-01, -1.08520280e+00, -1.79104684e+00],\n",
      "       [ 5.81286807e-01, -1.81072944e-01, -8.29740536e-01],\n",
      "       [ 1.84434115e+00,  6.32156046e-01, -9.79606043e-01],\n",
      "       [-2.10442126e-01, -1.35796386e+00,  5.15002743e-01],\n",
      "       [-8.23012375e-01,  3.84416477e-01, -4.91112923e-01],\n",
      "       [-4.30918281e-01,  3.71792080e-01, -2.28126507e-01],\n",
      "       [ 5.41989005e-01, -5.79630477e-01,  4.06368674e-01],\n",
      "       [ 9.57201731e-01, -6.20453982e-01,  5.77219589e-01],\n",
      "       [-3.07581744e-01,  8.86052532e-01,  4.39456723e-01],\n",
      "       [ 2.72553813e-01,  8.98429089e-01,  3.77901647e-02],\n",
      "       [-2.93494859e-02,  1.04912358e-01,  7.67902950e-04],\n",
      "       [ 1.06407434e-01,  4.71581327e-02,  1.13111527e+00],\n",
      "       [ 4.04204933e-01, -2.29585672e+00,  1.24953463e+00],\n",
      "       [ 8.97847089e-01, -6.71879564e-01, -1.67511600e+00],\n",
      "       [-1.37345750e+00, -3.76868829e-01,  4.75477028e-01],\n",
      "       [-7.52850625e-01,  2.09841146e+00, -1.15433812e+00],\n",
      "       [ 7.04868535e-02,  1.02662287e+00,  7.62595972e-01],\n",
      "       [ 7.15812687e-01, -1.52769121e-01, -3.63993416e-01],\n",
      "       [-9.36717722e-01, -4.36132271e-01,  3.60444662e-01],\n",
      "       [ 3.52861069e-01,  9.86857568e-01, -1.13462951e+00],\n",
      "       [-5.69663256e-01,  6.19721962e-01,  9.33834625e-01],\n",
      "       [-1.17620686e-01, -9.23584799e-02,  5.94404687e-01],\n",
      "       [ 1.58955013e-01, -1.01407519e+00,  1.16002173e+00],\n",
      "       [-1.12228960e+00,  1.02866831e+00,  3.10384545e-01],\n",
      "       [-1.47860784e+00,  2.19657446e-01,  1.94727180e+00],\n",
      "       [-1.85952469e-01,  1.72018636e+00,  1.19738687e+00],\n",
      "       [-1.42003595e-01, -6.15256413e-01,  7.00466279e-01],\n",
      "       [-1.25350420e+00,  1.26108528e+00,  7.54846781e-01],\n",
      "       [-9.27221405e-02,  1.89360447e+00,  1.33688720e+00],\n",
      "       [ 8.15730990e-01, -1.19065441e-01,  4.30819449e-01],\n",
      "       [-1.06923721e+00,  5.94916423e-01, -4.48234299e-01],\n",
      "       [-1.27849663e+00,  2.07550646e-01,  7.23628565e-01],\n",
      "       [-1.51818765e+00, -9.76088006e-01,  1.18944421e+00],\n",
      "       [ 7.43996144e-01, -5.89222715e-01, -7.93677389e-01],\n",
      "       [-4.90325238e-01,  8.00388002e-01, -2.72036670e-01],\n",
      "       [-1.25396222e+00,  1.98468886e+00, -8.20616795e-01],\n",
      "       [ 2.41213046e-01, -4.57508339e-01, -1.71172214e+00],\n",
      "       [-2.11728186e+00,  7.13202981e-01,  2.50798284e-01],\n",
      "       [-6.43503452e-03, -3.91414180e-01, -5.12285956e-02],\n",
      "       [-1.83762448e+00,  7.03885399e-01,  1.35468968e+00],\n",
      "       [-5.18028052e-01, -5.78786706e-01,  1.31178371e+00],\n",
      "       [-7.11044034e-01,  5.64880989e-01, -1.00444651e+00],\n",
      "       [-4.57393869e-01, -3.51313764e-01, -2.14091271e+00],\n",
      "       [-1.45547230e+00,  1.34494714e+00, -1.11315705e+00],\n",
      "       [-4.43368428e-02,  4.03046574e-01,  1.15872988e+00],\n",
      "       [ 1.37064463e+00,  4.44496074e-01,  1.61819066e+00],\n",
      "       [-5.69653568e-01, -1.48819011e+00, -3.30495608e-01],\n",
      "       [ 2.97105361e+00,  1.73569542e+00, -8.81480638e-01],\n",
      "       [-1.05196741e+00,  4.39293389e-01, -1.33070384e-02],\n",
      "       [ 4.60768838e-01, -3.57302220e-01, -1.77122433e+00],\n",
      "       [ 5.90792860e-01, -2.72911414e-01,  1.00442897e+00],\n",
      "       [-6.38775256e-02,  2.92834726e+00,  2.06532490e+00],\n",
      "       [-1.49503021e-01,  4.38508312e-01, -1.34374841e+00],\n",
      "       [ 4.45155985e-01,  5.66909650e-01,  7.56702491e-01],\n",
      "       [ 1.43305443e+00,  5.57422481e-02,  5.97906711e-01],\n",
      "       [ 2.17943364e-01,  1.56457721e-01,  2.65695919e-01],\n",
      "       [ 1.19178767e+00,  1.28688129e+00, -1.76221119e+00],\n",
      "       [-2.04000844e-01,  5.78537226e-01,  5.54135979e-02],\n",
      "       [ 1.20998841e+00, -2.61112511e-01,  1.56747788e+00],\n",
      "       [ 1.66215656e+00, -7.20177040e-01, -2.01047807e-01],\n",
      "       [ 4.67402871e-01,  1.17719809e+00,  1.91137486e+00],\n",
      "       [ 1.13013973e-01,  3.90889307e-01,  4.10626631e-01],\n",
      "       [-3.86151987e-01, -3.66672754e-01,  9.44283220e-01],\n",
      "       [ 4.44978974e-01, -1.08139126e-01,  1.29620115e+00],\n",
      "       [-1.06295017e+00,  1.29892342e-01,  2.30653292e+00],\n",
      "       [ 1.96603422e-01,  8.09132221e-01, -1.10401358e+00],\n",
      "       [ 6.49811231e-01, -3.28064595e-01,  7.14034289e-01],\n",
      "       [-1.51831317e-01, -2.27859368e+00, -1.46748017e-02],\n",
      "       [ 2.53233108e-01,  2.12953897e-01,  4.79883887e-01],\n",
      "       [-1.58654511e+00, -1.08954924e+00,  2.13821269e-01],\n",
      "       [-3.70154134e-01, -1.18562694e+00,  7.17017373e-01],\n",
      "       [ 4.51512485e-01, -5.92098078e-01,  6.08308174e-01],\n",
      "       [-5.13615185e-01,  2.31245352e-01,  1.49279154e+00],\n",
      "       [ 6.69336051e-01, -1.38219348e+00,  1.43933401e-01],\n",
      "       [-3.09727831e-01, -8.80610227e-01, -1.43502603e+00],\n",
      "       [ 6.61630068e-01,  2.59546522e-01,  4.10324739e-01],\n",
      "       [ 6.08885573e-01,  7.94433858e-01,  1.48021284e-01]]),\n",
      " array([ -61.11243487,   13.6964043 ,  -98.80142647,  161.66415376,\n",
      "        106.1420916 , -178.06119287,  189.24430498, -100.3623092 ,\n",
      "         66.38507599,  394.74194235, -125.9199563 ,  107.51732821,\n",
      "        -49.00968129,  -74.71061613, -111.24594899, -118.10175885,\n",
      "        234.24298032, -200.0940178 ,  156.18419757, -178.22529   ,\n",
      "        191.11552062,    3.45985975,  -63.66451598, -286.66235895,\n",
      "        -40.31410699,  113.9526779 , -105.04256824,  -58.19228041,\n",
      "        -11.94944435,   13.46563303,   51.57180348,   96.89658022,\n",
      "        107.75805015,    8.04161743,   98.49866158,  -95.64010555,\n",
      "       -129.87576736,  -95.32808102,   59.76129992,  161.40914612,\n",
      "          7.41355692,  -79.36634922,   32.06753833,   91.01891955,\n",
      "         28.47299723,    2.93664313,   43.88191605,   67.01603443,\n",
      "        243.11339022,  -15.08806168,   90.9739832 ,  276.86282467,\n",
      "         78.43306476,  -51.94644939,  -13.85699602, -108.03985946,\n",
      "        -65.22878809,   21.51679654,   39.51846184, -157.94014227,\n",
      "        -60.16082134,  -41.78204921,   42.92763033,    8.98826771,\n",
      "        -72.43239547, -229.31782995,  -58.06216435,  124.12571412,\n",
      "        261.84793647, -207.23448135,  305.44975371,  -32.32820583,\n",
      "       -137.61835604,   91.95957709,  433.53204756,  -71.35516438,\n",
      "        143.12333528,  150.9444668 ,   50.47718955,   71.1633649 ,\n",
      "         45.32548049,  179.3279197 ,   31.59009   ,  291.38669986,\n",
      "         76.66681244,   10.32266843,  119.88163351,  114.89636117,\n",
      "          6.53570664,   68.5729751 , -229.49748754,   74.73037991,\n",
      "       -198.32317122,  -84.23600066,   21.42643508,  100.57566072,\n",
      "        -74.45966899, -215.59117296,  102.31587267,  129.68991557]))\n"
     ]
    }
   ],
   "source": [
    "pprint(regr_data)"
   ]
  },
  {
   "cell_type": "code",
   "execution_count": 87,
   "metadata": {
    "colab": {
     "base_uri": "https://localhost:8080/",
     "height": 282
    },
    "colab_type": "code",
    "id": "BpLpPReipaQH",
    "outputId": "8230c9ad-0cf9-448a-d1ed-95c07a0538d2"
   },
   "outputs": [
    {
     "data": {
      "text/plain": [
       "<matplotlib.collections.PathCollection at 0x7f9f38835da0>"
      ]
     },
     "execution_count": 87,
     "metadata": {
      "tags": []
     },
     "output_type": "execute_result"
    },
    {
     "data": {
      "image/png": "[encoded data removed]",
      "text/plain": [
       "<Figure size 432x288 with 1 Axes>"
      ]
     },
     "metadata": {
      "tags": []
     },
     "output_type": "display_data"
    }
   ],
   "source": [
    "plt.figure()\n",
    "plt.scatter(list(map(lambda x: x[2],regr_data[0])),regr_data[1])"
   ]
  },
  {
   "cell_type": "code",
   "execution_count": 0,
   "metadata": {
    "colab": {},
    "colab_type": "code",
    "id": "mpv55ZCQuKz6"
   },
   "outputs": [],
   "source": [
    "def MSE(y_pred,Y,n_population):\n",
    "  return 1/n_population * np.sum(np.subtract(y_pred,Y) ** 2)"
   ]
  },
  {
   "cell_type": "code",
   "execution_count": 0,
   "metadata": {
    "colab": {},
    "colab_type": "code",
    "id": "ZGfDbEQswwEL"
   },
   "outputs": [],
   "source": [
    "def MSE_differential_evolution(X, Y, n_population=400, n_generations=1e4, mutation_force=100, probability=0.8):\n",
    "  \"\"\"here you can do any optimization technique you want. I try differential evolution\"\"\"\n",
    "  \n",
    "  #initialize population\n",
    "  w_population=[]\n",
    "  for k in range(n_population): \n",
    "    w_population.append(10*np.random.randint(-100, 100)*np.random.sample(size=(1,4)))\n",
    "  w_populations=[]\n",
    "  n_step=0\n",
    "\n",
    "  while n_step < n_generations:\n",
    "    w_populations.append(w_population)\n",
    "\n",
    "  #choose 3 vectors, mutate first one in the direction of (second - third), compare with first \n",
    "    w_index = np.random.randint(0, n_population, size=(1,3))\n",
    "    w1 = np.array(w_population[w_index[0][0]]) \n",
    "    w2 = np.array(w_population[w_index[0][1]])\n",
    "    w3 = np.array(w_population[w_index[0][2]])\n",
    "\n",
    "    w_mutant = np.add(w1, (mutation_force * np.subtract(w2,w3)))\n",
    "    \n",
    "    w_desc = []\n",
    "    for k in range(4):\n",
    "      proba = np.random.uniform()\n",
    "      if proba<=probability:\n",
    "        w_desc.append(w_mutant[0][k])\n",
    "      else:\n",
    "        w_desc.append(w1[0][k])\n",
    "        \n",
    "    w_desc=np.array([w_desc])\n",
    "\n",
    "    Y_pred = np.sum(X * w1, axis = 1)\n",
    "    Y_pred_mutant = np.sum(X * w_desc, axis = 1)\n",
    "    error_1 = MSE(Y_pred,Y,n_population)\n",
    "    error_2 = MSE(Y_pred_mutant,Y,n_population)\n",
    "    if error_2 < error_1:\n",
    "      w_population.pop(w_index[0][0])\n",
    "      w_population.insert(w_index[0][0],w_desc)\n",
    "    n_step+=1\n",
    "  \n",
    "  w_best = np.mean(np.array(w_population),axis=0)\n",
    "  Y_predicted = np.sum(X * w_best, axis = 1)\n",
    "\n",
    "  return w_best, Y_predicted, w_populations\n",
    "\n"
   ]
  },
  {
   "cell_type": "code",
   "execution_count": 0,
   "metadata": {
    "colab": {},
    "colab_type": "code",
    "id": "MQLTCnG8AhkD"
   },
   "outputs": [],
   "source": [
    "def evolution_plot():\n",
    "  pass"
   ]
  },
  {
   "cell_type": "code",
   "execution_count": 0,
   "metadata": {
    "colab": {},
    "colab_type": "code",
    "id": "Wxpn6L5FqP-C"
   },
   "outputs": [],
   "source": [
    "def regr_model(X,Y):\n",
    "\n",
    "  \"\"\"Simplest model that takes two pandas dataframes as input\"\"\"\n",
    "  \n",
    "  features = X.keys()\n",
    "  X_train = X.loc[:, list(features)].values\n",
    "  Y_train = Y.values\n",
    "  means, stds = np.mean(X_train,axis=0), np.std(X_train, axis=0)\n",
    "  X_train = (X_train - means) / stds\n",
    "  X_train = np.hstack((X_train, np.ones(X.shape[0]).reshape(X.shape[0], 1))) #add one more column\n",
    "  w, predictions, w_stats = MSE_differential_evolution(X_train, Y_train)\n",
    "  print(w)\n",
    "  print(predictions)\n",
    "\n",
    "  return w, w_stats, predictions"
   ]
  },
  {
   "cell_type": "code",
   "execution_count": 0,
   "metadata": {
    "colab": {},
    "colab_type": "code",
    "id": "Hi3uV1ofB6Eh"
   },
   "outputs": [],
   "source": [
    "X_data=pd.DataFrame(regr_data[0])"
   ]
  },
  {
   "cell_type": "code",
   "execution_count": 94,
   "metadata": {
    "colab": {
     "base_uri": "https://localhost:8080/",
     "height": 203
    },
    "colab_type": "code",
    "id": "6nysLVJlCG-L",
    "outputId": "c067b955-3e9f-4322-de5e-d475847e34ad"
   },
   "outputs": [
    {
     "data": {
      "text/html": [
       "<div>\n",
       "<style scoped>\n",
       "    .dataframe tbody tr th:only-of-type {\n",
       "        vertical-align: middle;\n",
       "    }\n",
       "\n",
       "    .dataframe tbody tr th {\n",
       "        vertical-align: top;\n",
       "    }\n",
       "\n",
       "    .dataframe thead th {\n",
       "        text-align: right;\n",
       "    }\n",
       "</style>\n",
       "<table border=\"1\" class=\"dataframe\">\n",
       "  <thead>\n",
       "    <tr style=\"text-align: right;\">\n",
       "      <th></th>\n",
       "      <th>0</th>\n",
       "      <th>1</th>\n",
       "      <th>2</th>\n",
       "    </tr>\n",
       "  </thead>\n",
       "  <tbody>\n",
       "    <tr>\n",
       "      <th>0</th>\n",
       "      <td>-0.272684</td>\n",
       "      <td>0.048241</td>\n",
       "      <td>-0.610436</td>\n",
       "    </tr>\n",
       "    <tr>\n",
       "      <th>1</th>\n",
       "      <td>0.980179</td>\n",
       "      <td>-1.006369</td>\n",
       "      <td>0.543389</td>\n",
       "    </tr>\n",
       "    <tr>\n",
       "      <th>2</th>\n",
       "      <td>-0.293577</td>\n",
       "      <td>-0.829700</td>\n",
       "      <td>0.012538</td>\n",
       "    </tr>\n",
       "    <tr>\n",
       "      <th>3</th>\n",
       "      <td>0.960058</td>\n",
       "      <td>1.623852</td>\n",
       "      <td>-0.789683</td>\n",
       "    </tr>\n",
       "    <tr>\n",
       "      <th>4</th>\n",
       "      <td>-0.747087</td>\n",
       "      <td>2.111021</td>\n",
       "      <td>-0.569374</td>\n",
       "    </tr>\n",
       "  </tbody>\n",
       "</table>\n",
       "</div>"
      ],
      "text/plain": [
       "          0         1         2\n",
       "0 -0.272684  0.048241 -0.610436\n",
       "1  0.980179 -1.006369  0.543389\n",
       "2 -0.293577 -0.829700  0.012538\n",
       "3  0.960058  1.623852 -0.789683\n",
       "4 -0.747087  2.111021 -0.569374"
      ]
     },
     "execution_count": 94,
     "metadata": {
      "tags": []
     },
     "output_type": "execute_result"
    }
   ],
   "source": [
    "X_data.head()"
   ]
  },
  {
   "cell_type": "code",
   "execution_count": 0,
   "metadata": {
    "colab": {},
    "colab_type": "code",
    "id": "YsKYoC6_CIwH"
   },
   "outputs": [],
   "source": [
    "Y_data=pd.DataFrame(regr_data[1])"
   ]
  },
  {
   "cell_type": "code",
   "execution_count": 96,
   "metadata": {
    "colab": {
     "base_uri": "https://localhost:8080/",
     "height": 203
    },
    "colab_type": "code",
    "id": "dUzf78tjLgtU",
    "outputId": "ef9c3689-7ce3-416c-c779-e43962ed39fd"
   },
   "outputs": [
    {
     "data": {
      "text/html": [
       "<div>\n",
       "<style scoped>\n",
       "    .dataframe tbody tr th:only-of-type {\n",
       "        vertical-align: middle;\n",
       "    }\n",
       "\n",
       "    .dataframe tbody tr th {\n",
       "        vertical-align: top;\n",
       "    }\n",
       "\n",
       "    .dataframe thead th {\n",
       "        text-align: right;\n",
       "    }\n",
       "</style>\n",
       "<table border=\"1\" class=\"dataframe\">\n",
       "  <thead>\n",
       "    <tr style=\"text-align: right;\">\n",
       "      <th></th>\n",
       "      <th>0</th>\n",
       "    </tr>\n",
       "  </thead>\n",
       "  <tbody>\n",
       "    <tr>\n",
       "      <th>0</th>\n",
       "      <td>-61.112435</td>\n",
       "    </tr>\n",
       "    <tr>\n",
       "      <th>1</th>\n",
       "      <td>13.696404</td>\n",
       "    </tr>\n",
       "    <tr>\n",
       "      <th>2</th>\n",
       "      <td>-98.801426</td>\n",
       "    </tr>\n",
       "    <tr>\n",
       "      <th>3</th>\n",
       "      <td>161.664154</td>\n",
       "    </tr>\n",
       "    <tr>\n",
       "      <th>4</th>\n",
       "      <td>106.142092</td>\n",
       "    </tr>\n",
       "  </tbody>\n",
       "</table>\n",
       "</div>"
      ],
      "text/plain": [
       "            0\n",
       "0  -61.112435\n",
       "1   13.696404\n",
       "2  -98.801426\n",
       "3  161.664154\n",
       "4  106.142092"
      ]
     },
     "execution_count": 96,
     "metadata": {
      "tags": []
     },
     "output_type": "execute_result"
    }
   ],
   "source": [
    "Y_data.head()"
   ]
  },
  {
   "cell_type": "code",
   "execution_count": 165,
   "metadata": {
    "colab": {
     "base_uri": "https://localhost:8080/",
     "height": 386
    },
    "colab_type": "code",
    "id": "Vq2Bvp17COKL",
    "outputId": "b6e541e9-1920-4e3b-d60c-d39a4f8bcd16"
   },
   "outputs": [
    {
     "name": "stdout",
     "output_type": "stream",
     "text": [
      "[[ 3.32837844  4.74923345 17.21615919  8.79119865]]\n",
      "[ -4.93790245  14.76073853   1.77115424   3.60588284   3.49120933\n",
      "  11.49780441  10.61021481  -4.15834466   7.1979095   32.31249515\n",
      "  14.69656767   3.51020518   6.25484884 -10.02501601 -20.89950859\n",
      "  -8.31378583  26.1001447  -12.85938667  18.93442401 -28.71744116\n",
      "  20.45963983  20.40324387 -10.42807156 -31.97213491  -6.70571686\n",
      "  -1.02824792   8.36529734  -3.31885325   2.59646042  12.75535446\n",
      "  17.02825901  16.96307757  12.15117729   6.79283218  26.61032364\n",
      "  19.02716251 -22.45935954   7.96829742  -6.72606555  24.57064738\n",
      "   1.98160139   7.27954719  -7.47566345  23.36870042  15.86170949\n",
      "  22.4499185   12.43806135  35.82539953  34.35164577  15.22179222\n",
      "  20.73058838  37.8986509   16.27222207  -2.50192181  15.2834739\n",
      "  17.08170294  -7.35923999   3.58019558  -3.26993401 -24.48331891\n",
      "   6.37291318   3.70551938  26.47252176  24.62724376 -10.98719877\n",
      " -33.95765164 -11.99183191  28.17181638  41.43067936  -8.18067805\n",
      "   9.78256656   4.38735237 -24.26433126  24.69932913  55.35824906\n",
      " -15.4195079   23.71905043  22.19487074  12.51262428 -13.95451611\n",
      "   9.27476029  36.74656218   5.62694167  46.60227219  15.71760964\n",
      "  19.70304418  29.98347894  43.14179117  -8.32126395  19.62694405\n",
      "  -4.81211074  16.61060605  -0.59348707  12.0781626   15.87198197\n",
      "  31.48322921   4.99762253 -23.60958866  17.09162501  14.79999433]\n"
     ]
    }
   ],
   "source": [
    "best_w,stats,predictions = regr_model(X_data,Y_data)"
   ]
  },
  {
   "cell_type": "code",
   "execution_count": 166,
   "metadata": {
    "colab": {
     "base_uri": "https://localhost:8080/",
     "height": 35
    },
    "colab_type": "code",
    "id": "gdQxAAn4Cbhs",
    "outputId": "01e93caf-c4cc-4683-ef62-0e0eab23b818"
   },
   "outputs": [
    {
     "data": {
      "text/plain": [
       "15279.839890364938"
      ]
     },
     "execution_count": 166,
     "metadata": {
      "tags": []
     },
     "output_type": "execute_result"
    }
   ],
   "source": [
    "from sklearn import metrics \n",
    "metrics.mean_squared_error(Y_data, predictions)"
   ]
  },
  {
   "cell_type": "code",
   "execution_count": 0,
   "metadata": {
    "colab": {},
    "colab_type": "code",
    "id": "FBhEcGCyMhwk"
   },
   "outputs": [],
   "source": [
    "from sklearn import model_selection"
   ]
  },
  {
   "cell_type": "code",
   "execution_count": 0,
   "metadata": {
    "colab": {},
    "colab_type": "code",
    "id": "4-sbHv4GNCRZ"
   },
   "outputs": [],
   "source": []
  },
  {
   "cell_type": "code",
   "execution_count": 167,
   "metadata": {
    "colab": {
     "base_uri": "https://localhost:8080/",
     "height": 283
    },
    "colab_type": "code",
    "id": "wY5029xmDI5p",
    "outputId": "97205c0b-c152-4dd7-8108-04fd595d50ef"
   },
   "outputs": [
    {
     "data": {
      "text/plain": [
       "<matplotlib.collections.PathCollection at 0x7f9f38c59eb8>"
      ]
     },
     "execution_count": 167,
     "metadata": {
      "tags": []
     },
     "output_type": "execute_result"
    },
    {
     "data": {
      "image/png": "[encoded data removed]",
      "text/plain": [
       "<Figure size 432x288 with 1 Axes>"
      ]
     },
     "metadata": {
      "tags": []
     },
     "output_type": "display_data"
    }
   ],
   "source": [
    "plt.scatter(X_data[1],Y_data)\n",
    "plt.scatter(X_data[1], predictions)"
   ]
  },
  {
   "cell_type": "code",
   "execution_count": 0,
   "metadata": {
    "colab": {},
    "colab_type": "code",
    "id": "m1YZF9_VMvUE"
   },
   "outputs": [],
   "source": [
    "from sklearn.linear_model import LinearRegression"
   ]
  },
  {
   "cell_type": "code",
   "execution_count": 0,
   "metadata": {
    "colab": {},
    "colab_type": "code",
    "id": "heQPHgxVbLvT"
   },
   "outputs": [],
   "source": [
    "reg = LinearRegression().fit(X_data, Y_data)"
   ]
  },
  {
   "cell_type": "code",
   "execution_count": 162,
   "metadata": {
    "colab": {
     "base_uri": "https://localhost:8080/",
     "height": 34
    },
    "colab_type": "code",
    "id": "Y4RNO3GgY52m",
    "outputId": "01ec0c60-06d5-4d05-f9e8-0ce88aeeac69"
   },
   "outputs": [
    {
     "data": {
      "text/plain": [
       "array([[69.67771365, 95.58307967, 76.54119608]])"
      ]
     },
     "execution_count": 162,
     "metadata": {
      "tags": []
     },
     "output_type": "execute_result"
    }
   ],
   "source": [
    "reg.coef_"
   ]
  },
  {
   "cell_type": "code",
   "execution_count": 163,
   "metadata": {
    "colab": {
     "base_uri": "https://localhost:8080/",
     "height": 34
    },
    "colab_type": "code",
    "id": "JRLUdnQGZNDE",
    "outputId": "accddc14-cc90-487e-b89c-e509ead76a97"
   },
   "outputs": [
    {
     "data": {
      "text/plain": [
       "array([-7.10542736e-15])"
      ]
     },
     "execution_count": 163,
     "metadata": {
      "tags": []
     },
     "output_type": "execute_result"
    }
   ],
   "source": [
    "reg.intercept_"
   ]
  },
  {
   "cell_type": "code",
   "execution_count": 0,
   "metadata": {
    "colab": {},
    "colab_type": "code",
    "id": "rtcTX4p2Z1Bf"
   },
   "outputs": [],
   "source": []
  },
  {
   "cell_type": "code",
   "execution_count": 0,
   "metadata": {
    "colab": {},
    "colab_type": "code",
    "id": "FRc8V9trZ3za"
   },
   "outputs": [],
   "source": []
  },
  {
   "cell_type": "code",
   "execution_count": 0,
   "metadata": {
    "colab": {},
    "colab_type": "code",
    "id": "x3vHuylsaASP"
   },
   "outputs": [],
   "source": []
  }
 ],
 "metadata": {
  "colab": {
   "collapsed_sections": [],
   "name": "Lection_3.ipynb",
   "provenance": []
  },
  "kernelspec": {
   "display_name": "Python 3",
   "language": "python",
   "name": "python3"
  },
  "language_info": {
   "codemirror_mode": {
    "name": "ipython",
    "version": 3
   },
   "file_extension": ".py",
   "mimetype": "text/x-python",
   "name": "python",
   "nbconvert_exporter": "python",
   "pygments_lexer": "ipython3",
   "version": "3.7.4"
  }
 },
 "nbformat": 4,
 "nbformat_minor": 1
}
