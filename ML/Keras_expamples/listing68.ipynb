{
 "cells": [
  {
   "cell_type": "code",
   "execution_count": 1,
   "metadata": {},
   "outputs": [
    {
     "data": {
      "text/plain": [
       "'/home/alexkay/Downloads/1/aclImdb/aclImdb/train'"
      ]
     },
     "execution_count": 1,
     "metadata": {},
     "output_type": "execute_result"
    }
   ],
   "source": [
    "import os\n",
    "imdb_dir = '/home/alexkay/Downloads/1/aclImdb/aclImdb'\n",
    "train_dir = os.path.join(imdb_dir, 'train')\n",
    "train_dir"
   ]
  },
  {
   "cell_type": "markdown",
   "metadata": {},
   "source": [
    "labels, texts = [], []\n",
    "\n",
    "for label_type in ['neg', 'pos']:\n",
    "    dir_name = os.path.join(train_dir, label_type)\n",
    "    for fname in os.listdir(dir_name):\n",
    "        if fname[-4:] == '.txt':\n",
    "            f = open(os.path.join(dir_name, fname))\n",
    "            texts.append(f.read())\n",
    "            f.close()\n",
    "            if label_type == 'neg':\n",
    "                labels.append(0)\n",
    "            else:\n",
    "                labels.append(1)\n"
   ]
  },
  {
   "cell_type": "code",
   "execution_count": 4,
   "metadata": {},
   "outputs": [
    {
     "name": "stdout",
     "output_type": "stream",
     "text": [
      "loading data...\n",
      "25000 train sequences\n",
      "25000 test sequences\n",
      "Pad sequences (samples * time)\n",
      "input_train shape: (25000, 500)\n",
      "iput_test shape: (25000, 500)\n"
     ]
    }
   ],
   "source": [
    "from keras.datasets import imdb\n",
    "from keras.preprocessing import sequence\n",
    "\n",
    "max_features = 10_000\n",
    "maxlen = 500\n",
    "batch_size = 32\n",
    "\n",
    "print('loading data...')\n",
    "(input_train, y_train), (input_test, y_test) = imdb.load_data(num_words=max_features)\n",
    "print(len(input_train), 'train sequences')\n",
    "print(len(input_test), 'test sequences')\n",
    "\n",
    "print('Pad sequences (samples * time)')\n",
    "input_train = sequence.pad_sequences(input_train, maxlen=maxlen)\n",
    "input_test = sequence.pad_sequences(input_test, maxlen=maxlen)\n",
    "print('input_train shape:', input_train.shape)\n",
    "print('iput_test shape:', input_test.shape)"
   ]
  },
  {
   "cell_type": "code",
   "execution_count": 10,
   "metadata": {},
   "outputs": [],
   "source": [
    "from keras.models import Sequential\n",
    "from keras.layers import Embedding, Dense"
   ]
  },
  {
   "cell_type": "code",
   "execution_count": 13,
   "metadata": {},
   "outputs": [
    {
     "name": "stderr",
     "output_type": "stream",
     "text": [
      "/home/alexkay/anaconda3/lib/python3.7/site-packages/tensorflow_core/python/framework/indexed_slices.py:433: UserWarning: Converting sparse IndexedSlices to a dense Tensor of unknown shape. This may consume a large amount of memory.\n",
      "  \"Converting sparse IndexedSlices to a dense Tensor of unknown shape. \"\n"
     ]
    },
    {
     "name": "stdout",
     "output_type": "stream",
     "text": [
      "Train on 20000 samples, validate on 5000 samples\n",
      "Epoch 1/10\n",
      "20000/20000 [==============================] - 43s 2ms/step - loss: 0.4889 - acc: 0.7678 - val_loss: 0.3754 - val_acc: 0.8450\n",
      "Epoch 2/10\n",
      "20000/20000 [==============================] - 42s 2ms/step - loss: 0.2886 - acc: 0.8857 - val_loss: 0.3256 - val_acc: 0.8684\n",
      "Epoch 3/10\n",
      "20000/20000 [==============================] - 42s 2ms/step - loss: 0.2292 - acc: 0.9119 - val_loss: 0.3089 - val_acc: 0.8666\n",
      "Epoch 4/10\n",
      "20000/20000 [==============================] - 41s 2ms/step - loss: 0.2000 - acc: 0.9275 - val_loss: 0.3030 - val_acc: 0.8906\n",
      "Epoch 5/10\n",
      "20000/20000 [==============================] - 43s 2ms/step - loss: 0.1752 - acc: 0.9367 - val_loss: 0.4005 - val_acc: 0.8522\n",
      "Epoch 6/10\n",
      "20000/20000 [==============================] - 43s 2ms/step - loss: 0.1546 - acc: 0.9444 - val_loss: 0.3410 - val_acc: 0.8704\n",
      "Epoch 7/10\n",
      "20000/20000 [==============================] - 43s 2ms/step - loss: 0.1424 - acc: 0.9493 - val_loss: 0.3414 - val_acc: 0.8736\n",
      "Epoch 8/10\n",
      "20000/20000 [==============================] - 43s 2ms/step - loss: 0.1337 - acc: 0.9527 - val_loss: 0.3587 - val_acc: 0.8810\n",
      "Epoch 9/10\n",
      "20000/20000 [==============================] - 43s 2ms/step - loss: 0.1188 - acc: 0.9599 - val_loss: 0.3358 - val_acc: 0.8666\n",
      "Epoch 10/10\n",
      "20000/20000 [==============================] - 44s 2ms/step - loss: 0.1123 - acc: 0.9613 - val_loss: 0.3732 - val_acc: 0.8742\n"
     ]
    }
   ],
   "source": [
    "from keras.layers import LSTM\n",
    "\n",
    "model = Sequential()\n",
    "model.add(Embedding(max_features, 32))\n",
    "model.add(LSTM(32))\n",
    "model.add(Dense(1, activation='sigmoid'))\n",
    "\n",
    "model.compile(optimizer='rmsprop',\n",
    "             loss='binary_crossentropy',\n",
    "             metrics=['acc'])\n",
    "history = model.fit(input_train, y_train,\n",
    "                   epochs=10,\n",
    "                   batch_size=128,\n",
    "                   validation_split=0.2)"
   ]
  },
  {
   "cell_type": "code",
   "execution_count": null,
   "metadata": {},
   "outputs": [],
   "source": []
  },
  {
   "cell_type": "code",
   "execution_count": null,
   "metadata": {},
   "outputs": [],
   "source": []
  }
 ],
 "metadata": {
  "kernelspec": {
   "display_name": "Python 3",
   "language": "python",
   "name": "python3"
  },
  "language_info": {
   "codemirror_mode": {
    "name": "ipython",
    "version": 3
   },
   "file_extension": ".py",
   "mimetype": "text/x-python",
   "name": "python",
   "nbconvert_exporter": "python",
   "pygments_lexer": "ipython3",
   "version": "3.7.4"
  }
 },
 "nbformat": 4,
 "nbformat_minor": 2
}
