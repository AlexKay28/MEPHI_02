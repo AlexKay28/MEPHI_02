{
 "cells": [
  {
   "cell_type": "markdown",
   "metadata": {},
   "source": [
    "# Введение в машинное обучение"
   ]
  },
  {
   "cell_type": "markdown",
   "metadata": {},
   "source": [
    "## Основы работы в Python"
   ]
  },
  {
   "cell_type": "markdown",
   "metadata": {},
   "source": [
    "Прежде чем начать работать и писать код стоит удостовериться, что вы подключили все необходимые вам библиотеки. Делается это с помощью команды import NAME или from NAME1 import NAME2, для сокращения можно использовать as"
   ]
  },
  {
   "cell_type": "code",
   "execution_count": 1,
   "metadata": {},
   "outputs": [],
   "source": [
    "import numpy as np\n",
    "import pandas as pd\n",
    "import scipy as sc\n",
    "import sklearn as sk\n",
    "from matplotlib import pylab as plt"
   ]
  },
  {
   "cell_type": "markdown",
   "metadata": {},
   "source": [
    "Python обладает потрясающим количеством библиотек и расширений, которые сильно упрощают написание кода. Многие алгоритмы и функции вы можете найти в пакетах выше. Для начала стоит ознакомиться с типами данных в Python. Списки (lists), кортежи (tuples), множества (sets), словари (dictionaries) предоставляют огромные возможности."
   ]
  },
  {
   "cell_type": "code",
   "execution_count": 2,
   "metadata": {},
   "outputs": [
    {
     "data": {
      "text/plain": [
       "tuple"
      ]
     },
     "execution_count": 2,
     "metadata": {},
     "output_type": "execute_result"
    }
   ],
   "source": [
    "a = (1,2,3,4)\n",
    "type(a)"
   ]
  },
  {
   "cell_type": "code",
   "execution_count": 3,
   "metadata": {},
   "outputs": [
    {
     "data": {
      "text/plain": [
       "list"
      ]
     },
     "execution_count": 3,
     "metadata": {},
     "output_type": "execute_result"
    }
   ],
   "source": [
    "b = [1,2,3,4]\n",
    "type(b)"
   ]
  },
  {
   "cell_type": "code",
   "execution_count": 4,
   "metadata": {},
   "outputs": [
    {
     "data": {
      "text/plain": [
       "dict"
      ]
     },
     "execution_count": 4,
     "metadata": {},
     "output_type": "execute_result"
    }
   ],
   "source": [
    "c = {\"a\":1, \"b\":2}\n",
    "type(c)"
   ]
  },
  {
   "cell_type": "code",
   "execution_count": 5,
   "metadata": {},
   "outputs": [
    {
     "data": {
      "text/plain": [
       "set"
      ]
     },
     "execution_count": 5,
     "metadata": {},
     "output_type": "execute_result"
    }
   ],
   "source": [
    "d={1,2,3}\n",
    "type(d)"
   ]
  },
  {
   "cell_type": "markdown",
   "metadata": {},
   "source": [
    "Ознакомьтесь с основными функциями, которые предоставляют вам эти типы. Обратите внимание, что они бывают изменяемыми и неизменяемыми, хешируемыми и нет. Почитайте описание и попробуйте использование следующих функций: append(), insert(), delete(), remove(), len(). "
   ]
  },
  {
   "cell_type": "code",
   "execution_count": 9,
   "metadata": {},
   "outputs": [
    {
     "data": {
      "text/plain": [
       "\"\\nТипы неизменяемых объектов: \\n    числовые данные (int, float, complex), символьные строки (class 'str'), кортежи (tuple). \\nИзменяемые: \\n    списки (list), множества (set), словари (dict).\\n\""
      ]
     },
     "execution_count": 9,
     "metadata": {},
     "output_type": "execute_result"
    }
   ],
   "source": [
    "#пробуйте здесь\n",
    "'''\n",
    "Типы неизменяемых объектов: \n",
    "    числовые данные (int, float, complex), символьные строки (class 'str'), кортежи (tuple). \n",
    "Изменяемые: \n",
    "    списки (list), множества (set), словари (dict).\n",
    "'''"
   ]
  },
  {
   "cell_type": "markdown",
   "metadata": {},
   "source": [
    "Списки очень мощный встроенный тип. Они могут содержать в себе любые другие типы, и позволяют делать срезы с помощью простого синтаксиса. "
   ]
  },
  {
   "cell_type": "code",
   "execution_count": 10,
   "metadata": {},
   "outputs": [
    {
     "data": {
      "text/plain": [
       "list"
      ]
     },
     "execution_count": 10,
     "metadata": {},
     "output_type": "execute_result"
    }
   ],
   "source": [
    "aa=[a,2.5,3,[1,2],(3,4),\"abc\",True,False,1e10,3+2j,{1,23},{3:\"as\"},{(\"aas\"):\"bc\"}]\n",
    "type(aa)"
   ]
  },
  {
   "cell_type": "markdown",
   "metadata": {},
   "source": [
    "Cрезы делаются на основе индексов. Индексы нумеруются с нуля. Первый индекс включается в перечисление, последний нет."
   ]
  },
  {
   "cell_type": "code",
   "execution_count": 11,
   "metadata": {},
   "outputs": [
    {
     "data": {
      "text/plain": [
       "[(1, 2, 3, 4), 2.5, 3, [1, 2], (3, 4)]"
      ]
     },
     "execution_count": 11,
     "metadata": {},
     "output_type": "execute_result"
    }
   ],
   "source": [
    "aa[0:5]"
   ]
  },
  {
   "cell_type": "code",
   "execution_count": 12,
   "metadata": {},
   "outputs": [
    {
     "data": {
      "text/plain": [
       "[[1, 2], (3, 4), 'abc', True, False]"
      ]
     },
     "execution_count": 12,
     "metadata": {},
     "output_type": "execute_result"
    }
   ],
   "source": [
    "aa[3:8]"
   ]
  },
  {
   "cell_type": "markdown",
   "metadata": {},
   "source": [
    "Срез можно начинать с \":\""
   ]
  },
  {
   "cell_type": "code",
   "execution_count": 13,
   "metadata": {},
   "outputs": [
    {
     "data": {
      "text/plain": [
       "[(1, 2, 3, 4),\n",
       " 2.5,\n",
       " 3,\n",
       " [1, 2],\n",
       " (3, 4),\n",
       " 'abc',\n",
       " True,\n",
       " False,\n",
       " 10000000000.0,\n",
       " (3+2j),\n",
       " {1, 23}]"
      ]
     },
     "execution_count": 13,
     "metadata": {},
     "output_type": "execute_result"
    }
   ],
   "source": [
    "aa[:11]"
   ]
  },
  {
   "cell_type": "code",
   "execution_count": 14,
   "metadata": {},
   "outputs": [
    {
     "data": {
      "text/plain": [
       "[3,\n",
       " [1, 2],\n",
       " (3, 4),\n",
       " 'abc',\n",
       " True,\n",
       " False,\n",
       " 10000000000.0,\n",
       " (3+2j),\n",
       " {1, 23},\n",
       " {3: 'as'},\n",
       " {'aas': 'bc'}]"
      ]
     },
     "execution_count": 14,
     "metadata": {},
     "output_type": "execute_result"
    }
   ],
   "source": [
    "aa[2:]"
   ]
  },
  {
   "cell_type": "markdown",
   "metadata": {},
   "source": [
    "Можно отсчитывать индексы в обратную сторону."
   ]
  },
  {
   "cell_type": "code",
   "execution_count": 15,
   "metadata": {},
   "outputs": [
    {
     "data": {
      "text/plain": [
       "{'aas': 'bc'}"
      ]
     },
     "execution_count": 15,
     "metadata": {},
     "output_type": "execute_result"
    }
   ],
   "source": [
    "aa[-1]"
   ]
  },
  {
   "cell_type": "code",
   "execution_count": 16,
   "metadata": {},
   "outputs": [
    {
     "data": {
      "text/plain": [
       "[{1, 23}, {3: 'as'}]"
      ]
     },
     "execution_count": 16,
     "metadata": {},
     "output_type": "execute_result"
    }
   ],
   "source": [
    "aa[-3:-1]"
   ]
  },
  {
   "cell_type": "code",
   "execution_count": 17,
   "metadata": {},
   "outputs": [
    {
     "data": {
      "text/plain": [
       "[]"
      ]
     },
     "execution_count": 17,
     "metadata": {},
     "output_type": "execute_result"
    }
   ],
   "source": [
    "aa[-3:2] #Почему вернулся пустой список?\n",
    "# т.к отсчет с шагом +единица начиная с третьего элемента с конца, мы никогда не досчитаемся до второго..."
   ]
  },
  {
   "cell_type": "code",
   "execution_count": 15,
   "metadata": {},
   "outputs": [
    {
     "name": "stdout",
     "output_type": "stream",
     "text": [
      "[1, 2, 3, 4, 'a', 'b', 'c', [1, 1, 1], [2, 2, 2], [3, 3, 3], [4, 4, 4]]\n",
      "[1, 2, 3, 4, 'a', 'b', 'c', [1, 1, 1], [3, 3, 3]]\n"
     ]
    },
    {
     "data": {
      "text/plain": [
       "[1, 2, 3, 4, 1, 2, 3, 4]"
      ]
     },
     "execution_count": 15,
     "metadata": {},
     "output_type": "execute_result"
    }
   ],
   "source": [
    "#Потренируйтесь на срезах, и складывать\\вычитать списки с помощью + и -. Попробуйте другие операторы.\n",
    "l1 = [1, 2, 3, 4]\n",
    "l2 = ['a', 'b', 'c']\n",
    "l3 = [[1,1,1], [2,2,2], [3,3,3], [4,4,4]]\n",
    "\n",
    "print(l1+l2+l3)\n",
    "print(l1+l2+l3[0::2])\n",
    "l1*2"
   ]
  },
  {
   "cell_type": "code",
   "execution_count": 18,
   "metadata": {},
   "outputs": [
    {
     "data": {
      "text/plain": [
       "([1, 2, 3], {'one': 1, 'two': 2, 'three': 3}, {1, 2, 3, 4, 5})"
      ]
     },
     "execution_count": 18,
     "metadata": {},
     "output_type": "execute_result"
    }
   ],
   "source": [
    "#Выясните разницу между списками, кортежами, множествами.\n",
    "l1 = [1, 2, 3] #just a list\n",
    "d1 = {'one':1, 'two':2, 'three':3} #labeled list \n",
    "s1 = {1,1,1,1,2,2,2,3,4,5} #the set is used to be a set =)\n",
    "l1, d1, s1"
   ]
  },
  {
   "cell_type": "markdown",
   "metadata": {},
   "source": [
    "Python один из лучших языков для работы с текстом. Строки в python это последовательности символов, к ним можно применять синтаксис срезов."
   ]
  },
  {
   "cell_type": "code",
   "execution_count": 34,
   "metadata": {},
   "outputs": [
    {
     "name": "stdout",
     "output_type": "stream",
     "text": [
      "Hello world\n"
     ]
    }
   ],
   "source": [
    "x = \"Hello\"\n",
    "y = \" world\"\n",
    "print(x+y)"
   ]
  },
  {
   "cell_type": "code",
   "execution_count": 37,
   "metadata": {},
   "outputs": [
    {
     "data": {
      "text/plain": [
       "'ell'"
      ]
     },
     "execution_count": 37,
     "metadata": {},
     "output_type": "execute_result"
    }
   ],
   "source": [
    "x[1:4]"
   ]
  },
  {
   "cell_type": "code",
   "execution_count": 48,
   "metadata": {},
   "outputs": [
    {
     "name": "stdout",
     "output_type": "stream",
     "text": [
      " Everyone know ho to work with strings in python, even Mephi students\n",
      "Everyone know ho to work with strings in python, even Mephi students \n",
      "Everyone know ho to work with strings in python, even Mephi students\n",
      " everyone know ho to work with strings in python, even mephi students \n",
      " EVERYONE KNOW HO TO WORK WITH STRINGS IN PYTHON, EVEN MEPHI STUDENTS \n",
      "|| Everyone know ho to work with strings in python, even Mephi students || Everyone know ho to work with strings in python, even Mephi students \\\n",
      "['Everyone', 'know', 'ho', 'to', 'work', 'with', 'strings', 'in', 'python,', 'even', 'Mephi', 'students']\n",
      " Everyone know ho to work with strings in python, even MPEI students \n"
     ]
    },
    {
     "data": {
      "text/plain": [
       "[1, 2, 3, 4, 5]"
      ]
     },
     "execution_count": 48,
     "metadata": {},
     "output_type": "execute_result"
    }
   ],
   "source": [
    "#Изучите методы rstrip, lstrip, strip, lower, upper, join, split, replace, list, str, int\n",
    "st = ' Everyone know ho to work with strings in python, even Mephi students '\n",
    "print(st.rstrip()) #S.rstrip([chars])\tУдаление пробельных символов в конце строки\n",
    "print(st.lstrip()) #S.lstrip([chars])\tУдаление пробельных символов в начале строки\n",
    "print(st.strip()) #S.strip([chars])\tУдаление пробельных символов в начале и в конце строки\n",
    "print(st.lower()) #S.lower()\tПреобразование строки к нижнему регистру\n",
    "print(st.upper()) #S.upper()\tПреобразование строки к верхнему регистру\n",
    "print(st.join(['||', '||', '\\\\'])) #Сборка строки из списка с разделителем S. S.join(список)\n",
    "print(st.split()) #S.split(символ)\tРазбиение строки по разделителю\n",
    "print(st.replace('Mephi', 'MPEI')) #S.replace(шаблон, замена)\tЗамена шаблона\n",
    "\n",
    "st2 = '1,2,3,4,5'\n",
    "st2 = [int(num) for num in st2.split(',')]\n",
    "st2"
   ]
  },
  {
   "cell_type": "code",
   "execution_count": 57,
   "metadata": {},
   "outputs": [
    {
     "name": "stdout",
     "output_type": "stream",
     "text": [
      "neutrino is scattered on electron through Z-boson exchange\n",
      "we know st2=[1, 2, 3, 4, 5]\n"
     ]
    }
   ],
   "source": [
    "print(\"%s is scattered on %s through %s exchange\" % (\"neutrino\",\"electron\",\"Z-boson\"))\n",
    "print(\"we know st2={}\".format(st2))"
   ]
  },
  {
   "cell_type": "code",
   "execution_count": 74,
   "metadata": {},
   "outputs": [
    {
     "data": {
      "text/plain": [
       "<re.Match object; span=(0, 3), match='111'>"
      ]
     },
     "execution_count": 74,
     "metadata": {},
     "output_type": "execute_result"
    }
   ],
   "source": [
    "#Обратите внимание на модуль import re\n",
    "import re\n",
    "re.match('111', '11123111134231')"
   ]
  },
  {
   "cell_type": "code",
   "execution_count": 75,
   "metadata": {},
   "outputs": [
    {
     "data": {
      "text/plain": [
       "<re.Match object; span=(1, 3), match='11'>"
      ]
     },
     "execution_count": 75,
     "metadata": {},
     "output_type": "execute_result"
    }
   ],
   "source": [
    "re.search('11', '5112323123211')"
   ]
  },
  {
   "cell_type": "code",
   "execution_count": 76,
   "metadata": {},
   "outputs": [
    {
     "data": {
      "text/plain": [
       "['11', '11']"
      ]
     },
     "execution_count": 76,
     "metadata": {},
     "output_type": "execute_result"
    }
   ],
   "source": [
    "re.findall('11', '42311,32324,123211')"
   ]
  },
  {
   "cell_type": "code",
   "execution_count": 83,
   "metadata": {},
   "outputs": [
    {
     "data": {
      "text/plain": [
       "['http:', 'localhost:8888', 'notebooks', 'MachineLearning_0.ipynb']"
      ]
     },
     "execution_count": 83,
     "metadata": {},
     "output_type": "execute_result"
    }
   ],
   "source": [
    "re.split('/+', 'http://localhost:8888/notebooks/MachineLearning_0.ipynb')"
   ]
  },
  {
   "cell_type": "code",
   "execution_count": 111,
   "metadata": {},
   "outputs": [
    {
     "name": "stdout",
     "output_type": "stream",
     "text": [
      "http://edu.com/faculty/group/2020/Alex_profile_2020.pdf\n",
      "http://edu.com/faculty/group/2020/MAggy_profile_2020.pdf\n",
      "http://edu.com/faculty/group/2020/Pasha_profile_2020.pdf\n",
      "http://edu.com/faculty/group/2020/Putin_profile_2020.pdf\n"
     ]
    }
   ],
   "source": [
    "URL = 'http://edu.com/faculty/group/2020/student_profile_2020.pdf'\n",
    "obj = 'student'\n",
    "for i in ['Alex', 'MAggy', 'Pasha', 'Putin']:\n",
    "    print(re.sub(obj,i, URL))"
   ]
  },
  {
   "cell_type": "code",
   "execution_count": null,
   "metadata": {},
   "outputs": [],
   "source": []
  },
  {
   "cell_type": "markdown",
   "metadata": {},
   "source": [
    "Управляющие конструкции реализованы стандартным набором условий и циклов. Обратите внимание на логические операторы and, not, or и на операторы сравнения is, is not, in, not in. Роль фигурных скобок из С здесь играют отступы, 4 пробела или табуляция по договоренности."
   ]
  },
  {
   "cell_type": "code",
   "execution_count": 112,
   "metadata": {},
   "outputs": [
    {
     "name": "stdout",
     "output_type": "stream",
     "text": [
      "done\n"
     ]
    }
   ],
   "source": [
    "x=5 #Можно ли изменить x так, чтобы вывести слово \"done\"?\n",
    "if x>5:\n",
    "    for i in range(6):\n",
    "        x-=1\n",
    "        print(x)\n",
    "elif x<5:\n",
    "    x-=2\n",
    "    print(x)\n",
    "else:\n",
    "    print(\"done\")"
   ]
  },
  {
   "cell_type": "code",
   "execution_count": 119,
   "metadata": {},
   "outputs": [
    {
     "name": "stdout",
     "output_type": "stream",
     "text": [
      "0 1 2 3 4 5 6 7 8 9 \n",
      "0 1 2 3 4 5 6 7 8 9 \n",
      "0 1 2 3 4 5 6 7 8 9 "
     ]
    }
   ],
   "source": [
    "#поэскпериментируйте с range(), и циклом for. что будет если использовать спискок вместо range? Изучите цикл while самостоятельно\n",
    "for i in range(10): print(i, end= ' ')\n",
    "print()\n",
    "for i in [0,1,2,3,4,5,6,7,8,9]: print(i, end=' ')\n",
    "print()\n",
    "i = 0\n",
    "while i<10:\n",
    "    print(i, end=' ')\n",
    "    i+=1"
   ]
  },
  {
   "cell_type": "markdown",
   "metadata": {},
   "source": [
    "Функции неотъемлемая часть Python. Ключевое слово def(). Важной является работа с аргументами."
   ]
  },
  {
   "cell_type": "code",
   "execution_count": 15,
   "metadata": {},
   "outputs": [],
   "source": [
    "def func():\n",
    "    pass"
   ]
  },
  {
   "cell_type": "code",
   "execution_count": 16,
   "metadata": {},
   "outputs": [
    {
     "data": {
      "text/plain": [
       "0"
      ]
     },
     "execution_count": 16,
     "metadata": {},
     "output_type": "execute_result"
    }
   ],
   "source": [
    "def func1():\n",
    "    return 0\n",
    "func1()"
   ]
  },
  {
   "cell_type": "code",
   "execution_count": 22,
   "metadata": {},
   "outputs": [
    {
     "name": "stdout",
     "output_type": "stream",
     "text": [
      "sum is: \n"
     ]
    },
    {
     "data": {
      "text/plain": [
       "2"
      ]
     },
     "execution_count": 22,
     "metadata": {},
     "output_type": "execute_result"
    }
   ],
   "source": [
    "def func2(x,y):\n",
    "    print(\"sum is: \")\n",
    "    return x+y\n",
    "func2(1,1)"
   ]
  },
  {
   "cell_type": "code",
   "execution_count": 24,
   "metadata": {},
   "outputs": [
    {
     "name": "stdout",
     "output_type": "stream",
     "text": [
      "(1, 3, 4, 5, 6)\n"
     ]
    }
   ],
   "source": [
    "def func3(x,y=1,z=2,*tup):\n",
    "    print((x,y,z)+tup)\n",
    "func3(1,3,4,5,6) #поэскпериментируйте здесь"
   ]
  },
  {
   "cell_type": "code",
   "execution_count": 25,
   "metadata": {},
   "outputs": [
    {
     "name": "stdout",
     "output_type": "stream",
     "text": [
      "1 2 3 {'m': 5, 'n': 3}\n"
     ]
    }
   ],
   "source": [
    "def func4(x,y,z=1, **kwargs):\n",
    "    print(x,y,z,kwargs)\n",
    "func4(1,2,m=5,n=3,z=3)"
   ]
  },
  {
   "cell_type": "code",
   "execution_count": 122,
   "metadata": {},
   "outputs": [
    {
     "name": "stdout",
     "output_type": "stream",
     "text": [
      "args type is tupple -  (1, 2, 3, 4, '5')  but kwargs type is DICT -  {'G': 3, 's': '5'}\n"
     ]
    }
   ],
   "source": [
    "def foo(*args, **kwargs):\n",
    "    print('args type is tupple - ', args, ' but kwargs type is DICT - ', kwargs)\n",
    "\n",
    "foo(1,2,3,4,'5', G=3, s='5')"
   ]
  },
  {
   "cell_type": "code",
   "execution_count": 144,
   "metadata": {},
   "outputs": [
    {
     "name": "stdout",
     "output_type": "stream",
     "text": [
      "begining\n",
      "end\n",
      "the most of us know that \n",
      "a in pow of 2 equal  16\n",
      "easy\n"
     ]
    }
   ],
   "source": [
    "def construct(func):\n",
    "    print('begining')\n",
    "    def wrapper(var):\n",
    "        print('the most of us know that ')\n",
    "        func(var)\n",
    "        print('easy')\n",
    "    print('end')\n",
    "    return wrapper\n",
    "\n",
    "@construct\n",
    "def foo(a):\n",
    "    print('a in pow of 2 equal ', a**2)\n",
    "\n",
    "foo(4)"
   ]
  },
  {
   "cell_type": "code",
   "execution_count": 154,
   "metadata": {},
   "outputs": [
    {
     "data": {
      "text/plain": [
       "(2, 6, 24)"
      ]
     },
     "execution_count": 154,
     "metadata": {},
     "output_type": "execute_result"
    }
   ],
   "source": [
    "#в чем принципиальная разница в результате работы между func3 и func4? - argss and kwargs\n",
    "#реализуйте функцию,вычисляющую факториал с помощью рекурсии\n",
    "\n",
    "def fact(n):\n",
    "    if n > 1: fac = n*fact(n-1)\n",
    "    else: return 1\n",
    "    return fac\n",
    "\n",
    "fact(2), fact(3), fact(4)"
   ]
  },
  {
   "cell_type": "markdown",
   "metadata": {},
   "source": [
    "Рассмотрите самостоятельно следующие темы: исключения, модули. Напишите функцию факториала в отдельный модуль."
   ]
  },
  {
   "cell_type": "markdown",
   "metadata": {},
   "source": [
    "Python поддерживает парадигму ООП. Прочитайте про классы, методы и наследование."
   ]
  },
  {
   "cell_type": "code",
   "execution_count": 32,
   "metadata": {},
   "outputs": [
    {
     "name": "stdout",
     "output_type": "stream",
     "text": [
      "2 3\n",
      "Rolling!\n",
      "3 6\n"
     ]
    }
   ],
   "source": [
    "class Shape:\n",
    "    def __init__(self,x,y): #Что такое __init__\n",
    "        self.x=x\n",
    "        self.y=y\n",
    "    def move(self,dx,dy):\n",
    "        self.x = self.x + dx\n",
    "        self.y = self.y + dy\n",
    "        print(\"Rolling!\")\n",
    "        \n",
    "class Square(Shape):\n",
    "    def __init__(self,side_length=1,x=0,y=0):\n",
    "        Shape.__init__(self,x,y)\n",
    "        self.side_length = side_length\n",
    "        \n",
    "sq = Square(1,2,3)\n",
    "print(sq.x,sq.y)\n",
    "\n",
    "sq.move(1,3)\n",
    "print(sq.x,sq.y)"
   ]
  },
  {
   "cell_type": "code",
   "execution_count": 168,
   "metadata": {},
   "outputs": [],
   "source": [
    "#Создайте класс Particle, у которой будут такие аттрибуты как заряд, масса и др. \n",
    "#Также придумайте методы, которые реализуют взаимодействие.\n",
    "class Particle:\n",
    "    def __init__(self, q, m, r, name):\n",
    "        self.q = q\n",
    "        self.m = m\n",
    "        self.r = r\n",
    "        self.name = name\n",
    "    \n",
    "    def internal_energy(self):\n",
    "        print('internal energy is equal:', int(self.m)*931,5)\n",
    "        #return(self.m*931,5)\n",
    "        \n",
    "    def about(self):\n",
    "        print('you can use this URL: https://google.gik-team.com/?q={}'.format(self.name))\n",
    "        "
   ]
  },
  {
   "cell_type": "code",
   "execution_count": 174,
   "metadata": {},
   "outputs": [
    {
     "name": "stdout",
     "output_type": "stream",
     "text": [
      "q = 500\n",
      "m = 34\n",
      "r = 13\n",
      "name(STR) = proton\n"
     ]
    }
   ],
   "source": [
    "electron = Particle(input('q = '), input('m = '), input('r = '), input('name(STR) = '))"
   ]
  },
  {
   "cell_type": "code",
   "execution_count": 175,
   "metadata": {},
   "outputs": [
    {
     "name": "stdout",
     "output_type": "stream",
     "text": [
      "you can use this URL: https://google.gik-team.com/?q=proton\n"
     ]
    }
   ],
   "source": [
    "electron.about()"
   ]
  },
  {
   "cell_type": "code",
   "execution_count": 171,
   "metadata": {},
   "outputs": [
    {
     "name": "stdout",
     "output_type": "stream",
     "text": [
      "internal energy is equal: 9310 5\n"
     ]
    }
   ],
   "source": [
    "electron.internal_energy()"
   ]
  },
  {
   "cell_type": "code",
   "execution_count": null,
   "metadata": {},
   "outputs": [],
   "source": []
  },
  {
   "cell_type": "code",
   "execution_count": null,
   "metadata": {},
   "outputs": [],
   "source": []
  }
 ],
 "metadata": {
  "kernelspec": {
   "display_name": "Python 3",
   "language": "python",
   "name": "python3"
  },
  "language_info": {
   "codemirror_mode": {
    "name": "ipython",
    "version": 3
   },
   "file_extension": ".py",
   "mimetype": "text/x-python",
   "name": "python",
   "nbconvert_exporter": "python",
   "pygments_lexer": "ipython3",
   "version": "3.7.4"
  }
 },
 "nbformat": 4,
 "nbformat_minor": 2
}
