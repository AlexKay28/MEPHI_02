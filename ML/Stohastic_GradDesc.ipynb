{
 "cells": [
  {
   "cell_type": "code",
   "execution_count": 1,
   "metadata": {},
   "outputs": [],
   "source": [
    "import numpy\n",
    "import math\n",
    "from math import sqrt\n",
    "from copy import copy"
   ]
  },
  {
   "cell_type": "code",
   "execution_count": 2,
   "metadata": {},
   "outputs": [],
   "source": [
    "def MSE(arx, ary):\n",
    "    return 1/(len(arx) + 1)*sum([(arx[i]-ary[i])**2 for i in range(len(arx))])\n",
    "\n",
    "def Stohastic_GradDesc(X, Y, rate=0.2, h=0.5, eps=0.0001):\n",
    "    import random\n",
    "    iterations = 0\n",
    "    was = MSE(X,Y)\n",
    "    print('MSE was:\\t',round(was,4))\n",
    "    start_X = X\n",
    "    X_new = [0 for i in range(len(X))]\n",
    "    while 1:\n",
    "        iterations += 1\n",
    "            \n",
    "        i = random.randint(0, len(X)-1)\n",
    "        \n",
    "        X1 = copy(X)\n",
    "        X1[i] = X1[i] - h\n",
    "        X_new[i] = (X[i] - rate * (1/h)*(MSE(X,Y) - MSE(X1,Y)))\n",
    "        X1 = copy(X)\n",
    "    \n",
    "        X = copy(X_new)\n",
    "        became = MSE(X_new,Y)\n",
    "        delt = abs(became - was)\n",
    "        if delt > eps: was = became\n",
    "        else: break\n",
    "        if iterations > (10**5):\n",
    "            print('Something is going wrong... bruh')\n",
    "            break\n",
    "    \n",
    "    print('MSE became:\\t',round(became,4))\n",
    "\n",
    "    delt = abs(became - was)\n",
    "    print('final delt:\\t', round(delt,4))\n",
    "    print('iterations:\\t', iterations)\n",
    "    "
   ]
  },
  {
   "cell_type": "code",
   "execution_count": 11,
   "metadata": {},
   "outputs": [
    {
     "name": "stdout",
     "output_type": "stream",
     "text": [
      "Input elements of X array:1 2 3 4\n",
      "Input elements of Y array:342 1232 112 21\n",
      "MSE was:\t 328270.2\n",
      "MSE became:\t 0.0407\n",
      "final delt:\t 0.0\n",
      "iterations:\t 508\n",
      "====================\n",
      "MSE was:\t 328270.2\n",
      "MSE became:\t 0.05\n",
      "final delt:\t 0.0\n",
      "iterations:\t 198\n"
     ]
    }
   ],
   "source": [
    "#X, Y = [2, 3, 6, 5, 2, 1], [1, 4, 5, 10 , 12, 3]\n",
    "X = input('Input elements of X array:').split()\n",
    "X = [float(el) for el in X]\n",
    "\n",
    "Y = input('Input elements of Y array:').split()\n",
    "Y = [float(el) for el in Y]\n",
    "\n",
    "# calculations\n",
    "Stohastic_GradDesc(X,Y, eps=0.000001)"
   ]
  }
 ],
 "metadata": {
  "kernelspec": {
   "display_name": "Python 3",
   "language": "python",
   "name": "python3"
  },
  "language_info": {
   "codemirror_mode": {
    "name": "ipython",
    "version": 3
   },
   "file_extension": ".py",
   "mimetype": "text/x-python",
   "name": "python",
   "nbconvert_exporter": "python",
   "pygments_lexer": "ipython3",
   "version": "3.7.4"
  }
 },
 "nbformat": 4,
 "nbformat_minor": 2
}
