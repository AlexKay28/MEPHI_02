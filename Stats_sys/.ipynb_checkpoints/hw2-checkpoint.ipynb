{
 "cells": [
  {
   "cell_type": "markdown",
   "metadata": {},
   "source": [
    "# Вариант 1. Кайгордов. М19-117. 20.04.2020"
   ]
  },
  {
   "cell_type": "code",
   "execution_count": 1,
   "metadata": {},
   "outputs": [],
   "source": [
    "import numpy as np\n",
    "import pandas as pd\n",
    "import matplotlib.pyplot as plt\n",
    "import math\n",
    "import scipy.stats"
   ]
  },
  {
   "cell_type": "markdown",
   "metadata": {},
   "source": [
    "# Задача 1:\n",
    "\n",
    "Анализ напряжений, возникающих в элементе, выполнялся в имитированных условиях эксплуатации, и были получены следующие восемь результатов: \n",
    "    \n",
    "    150; 205; 225; 235; 250; 265; 285; 305 МПа. \n",
    "\n",
    "Прочность элемента необходимо оценить на основе следующих 10 результатов: \n",
    "\n",
    "    180; 245; 280; 305; 315; 330; 335; 355; 404; 485 МПа. \n",
    "\n",
    "С помощью этих данных вычислите вероятность безотказной работы элемента."
   ]
  },
  {
   "cell_type": "code",
   "execution_count": 2,
   "metadata": {},
   "outputs": [],
   "source": [
    "sig = np.array([150, 205, 225, 235, 250, 265, 285, 305])\n",
    "x_sig = np.linspace(0, 1, len(sig))\n",
    "R   = np.array([180, 245, 280, 305, 315, 330, 335, 355, 404, 485])\n",
    "x_R = np.linspace(0, 1, len(R))"
   ]
  },
  {
   "cell_type": "code",
   "execution_count": 3,
   "metadata": {},
   "outputs": [
    {
     "name": "stdout",
     "output_type": "stream",
     "text": [
      "[140. 155. 170. 185. 200. 215. 230. 245. 260. 275. 290. 305. 320. 335.\n",
      " 350. 365. 380. 395. 410. 425. 440. 455. 470. 485. 500.]\n"
     ]
    },
    {
     "data": {
      "text/plain": [
       "Text(0, 0.5, 'F_sig \\n\\n F_R')"
      ]
     },
     "execution_count": 3,
     "metadata": {},
     "output_type": "execute_result"
    },
    {
     "data": {
      "image/png": "[encoded data removed]",
      "text/plain": [
       "<Figure size 576x432 with 1 Axes>"
      ]
     },
     "metadata": {
      "needs_background": "light"
     },
     "output_type": "display_data"
    }
   ],
   "source": [
    "gaps = np.linspace(140, 500, 25)\n",
    "print(gaps)\n",
    "\n",
    "def proba(gaps, value):\n",
    "    F = []\n",
    "    counter = 0\n",
    "    for i in range(len(gaps)):\n",
    "        for j in range(len(value)):\n",
    "            if value[j] <= gaps[i]: counter += 1\n",
    "            else: break\n",
    "        F.append(counter / len(value))\n",
    "        counter = 0\n",
    "    #print(F)\n",
    "    return F\n",
    "\n",
    "F_sig = proba(gaps, sig)\n",
    "F_R   = [1- prob for prob in proba(gaps, R)]\n",
    "\n",
    "\n",
    "plt.figure(figsize=(8,6))\n",
    "plt.grid()\n",
    "plt.xlim(140, 500+0.1)\n",
    "plt.ylim(0, 1+0.1)\n",
    "plt.plot(gaps, F_sig)\n",
    "plt.plot(gaps, F_R)\n",
    "plt.xlabel('gaps')\n",
    "plt.ylabel('F_sig \\n\\n F_R')"
   ]
  },
  {
   "cell_type": "code",
   "execution_count": 4,
   "metadata": {},
   "outputs": [
    {
     "name": "stdout",
     "output_type": "stream",
     "text": [
      "Area under curve:\n",
      "P = 0.83125\n"
     ]
    },
    {
     "data": {
      "image/png": "[encoded data removed]",
      "text/plain": [
       "<Figure size 576x432 with 1 Axes>"
      ]
     },
     "metadata": {
      "needs_background": "light"
     },
     "output_type": "display_data"
    }
   ],
   "source": [
    "plt.figure(figsize=(8,6))\n",
    "plt.xlim(0, 1.2)\n",
    "plt.ylim(0, 1.2)\n",
    "plt.grid()\n",
    "plt.plot()\n",
    "plt.plot(F_sig, F_R)\n",
    "plt.xlabel('H')\n",
    "plt.ylabel('G')\n",
    "\n",
    "print('Area under curve:')\n",
    "print(f'P = {np.trapz(F_R, x=F_sig)}')"
   ]
  },
  {
   "cell_type": "markdown",
   "metadata": {},
   "source": [
    "# Ответ: 0.83125"
   ]
  },
  {
   "cell_type": "markdown",
   "metadata": {},
   "source": [
    "# Задача 2:\n",
    "\n",
    "Напряжение имеет нормальное распределение с математическим ожиданием 600 МПа и средним квадратичным отклонением 110 МПа.\n",
    "\n",
    "Прочность имеет нормальное распределение с математическим ожиданием 800 МПа и средним квадратичным отклонением 150 МПа.\n",
    "\n",
    "Вычислите вероятность безотказной работы."
   ]
  },
  {
   "cell_type": "code",
   "execution_count": 6,
   "metadata": {},
   "outputs": [
    {
     "name": "stdout",
     "output_type": "stream",
     "text": [
      "m_z = 200\n",
      "s_z = 186.011\n",
      "Quantile u = -1.075\n",
      "Prob. P = 0.859\n"
     ]
    }
   ],
   "source": [
    "m_sig, s_sig = 600, 110\n",
    "m_R, s_R = 800, 150\n",
    "\n",
    "m_z = m_R - m_sig\n",
    "print(f'm_z = {m_z}')\n",
    "\n",
    "s_z = math.sqrt(s_R**2 + s_sig**2)\n",
    "print(f's_z = {round(s_z, 3)}')\n",
    "\n",
    "u = - m_z/s_z\n",
    "print(f'Quantile u = {round(u,3)}')\n",
    "\n",
    "G = scipy.stats.norm.cdf(abs(u))\n",
    "print(f'Prob. P = {round(G,3)}')"
   ]
  },
  {
   "cell_type": "markdown",
   "metadata": {},
   "source": [
    "# Ответ: 0.859"
   ]
  },
  {
   "cell_type": "code",
   "execution_count": null,
   "metadata": {},
   "outputs": [],
   "source": []
  }
 ],
 "metadata": {
  "kernelspec": {
   "display_name": "Python 3",
   "language": "python",
   "name": "python3"
  },
  "language_info": {
   "codemirror_mode": {
    "name": "ipython",
    "version": 3
   },
   "file_extension": ".py",
   "mimetype": "text/x-python",
   "name": "python",
   "nbconvert_exporter": "python",
   "pygments_lexer": "ipython3",
   "version": "3.7.6"
  }
 },
 "nbformat": 4,
 "nbformat_minor": 4
}
